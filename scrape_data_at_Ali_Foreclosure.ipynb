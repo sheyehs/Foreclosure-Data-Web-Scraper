{
 "cells": [
  {
   "cell_type": "markdown",
   "id": "7f4722c8",
   "metadata": {},
   "source": [
    "1. 使用前可能需要更新selenium对应Chrome版本的插件: https://chromedriver.storage.googleapis.com/index.html  \n",
    "2. 你可以先跑一下前几个代码块，看错误提示是哪个Chrome版本，高于当前版本即可\n",
    "3. 然后将解压得到的chromedriver.exe移动到chrome.exe所在的目录，一般来说（例如本例）该位置是C:\\Program Files (x86)\\Google\\Chrome\\Application  \n",
    "4. （如电脑曾使用过selenium则不需此步）最后，配置环境变量，右键此电脑（注意不是快捷方式）-属性-高级系统设置-环境变量-系统环境变量-Path-编辑-新建，添加好上条的目录位置\n",
    "5. 参考教程: https://blog.csdn.net/orange_xiang/article/details/82924296"
   ]
  },
  {
   "cell_type": "code",
   "execution_count": null,
   "id": "a99634b4",
   "metadata": {},
   "outputs": [],
   "source": [
    "from selenium import webdriver\n",
    "#from selenium.webdriver.common.keys import Keys\n",
    "from selenium.webdriver.common.by import By\n",
    "from time import sleep\n",
    "import requests\n",
    "\n",
    "from tqdm import tqdm\n",
    "\n",
    "import pandas as pd \n",
    "#import numpy as np\n",
    "#import math\n",
    "import os\n",
    "\n",
    "HOME = './'\n",
    "FOLDER_NAME = 'Foreclosure_Reports_Ali'"
   ]
  },
  {
   "cell_type": "code",
   "execution_count": null,
   "id": "52b53263",
   "metadata": {},
   "outputs": [],
   "source": [
    "FOLDER_PATH = os.path.join(HOME,FOLDER_NAME)\n",
    "os.makedirs(FOLDER_PATH,exist_ok=True)"
   ]
  },
  {
   "cell_type": "code",
   "execution_count": null,
   "id": "42d57385",
   "metadata": {},
   "outputs": [],
   "source": [
    "# 用selenium收集房源标题以及报告附件的下载链接\n",
    "driver = webdriver.Chrome()\n",
    "driver.implicitly_wait(10)"
   ]
  },
  {
   "cell_type": "code",
   "execution_count": null,
   "id": "f0d059ce",
   "metadata": {},
   "outputs": [],
   "source": [
    "# 打开网站\n",
    "driver.get(\"https://sf.taobao.com/item_list.htm?spm=a213w.3064813.a214dqe.18.38e95162R0zyog&city=&province=%B1%B1%BE%A9&auction_start_seg=-1\")\n",
    "sleep(1)\n",
    "# 勾选限制条件：住宅用房\n",
    "driver.find_element(By.XPATH,'/html/body/div[3]/div[2]/ul[1]/li/div[2]/ul/li[1]/em/a').click()\n",
    "sleep(1)"
   ]
  },
  {
   "cell_type": "code",
   "execution_count": null,
   "id": "4b23520c",
   "metadata": {},
   "outputs": [],
   "source": [
    "# 按拍卖状态：正在进行，即将开始，已结束，中止，撤回"
   ]
  },
  {
   "cell_type": "code",
   "execution_count": null,
   "id": "670daea8",
   "metadata": {
    "scrolled": true
   },
   "outputs": [],
   "source": [
    "%%time\n",
    "\n",
    "\n",
    "url_list = []\n",
    "n_page = 1\n",
    "while True:\n",
    "    entry_list = driver.find_elements(By.CLASS_NAME,'goods-container')\n",
    "    print('page {}: find {} entries.'.format(n_page,len(entry_list)))\n",
    "    for entry in entry_list:\n",
    "        url = entry.get_attribute('href')\n",
    "        #print(url)\n",
    "        url_list.append(url)\n",
    "        \n",
    "    # to next page\n",
    "    next_page = driver.find_elements(By.CLASS_NAME,'ui-pager-next')\n",
    "    if next_page:\n",
    "        n_page += 1\n",
    "        next_page[0].click()  # 必须保持浏览器页面正常大小，否则报错，因为是按照位置来点击的，模拟人的鼠标操作\n",
    "        sleep(1)\n",
    "    else:\n",
    "        break"
   ]
  },
  {
   "cell_type": "code",
   "execution_count": null,
   "id": "f8c1279a",
   "metadata": {},
   "outputs": [],
   "source": [
    "len(url_list)"
   ]
  },
  {
   "cell_type": "code",
   "execution_count": null,
   "id": "218494a5",
   "metadata": {},
   "outputs": [],
   "source": [
    "pd.Series(url_list).to_csv('entry_url_list.csv')"
   ]
  },
  {
   "cell_type": "code",
   "execution_count": null,
   "id": "48a9c2eb",
   "metadata": {},
   "outputs": [],
   "source": [
    "i = 0"
   ]
  },
  {
   "cell_type": "code",
   "execution_count": null,
   "id": "a504f2b8",
   "metadata": {},
   "outputs": [],
   "source": [
    "# in case of skipping a entry\n",
    "i += 1"
   ]
  },
  {
   "cell_type": "code",
   "execution_count": null,
   "id": "131e595a",
   "metadata": {
    "scrolled": true
   },
   "outputs": [],
   "source": [
    "# 用requests下载文件到指定文件夹\n",
    "# 网页上的文件名(report_name)自跟文件类型后缀\n",
    "\n",
    "# if exceptions, run this cell again\n",
    "# to skip the current entry, run the above cell and then this cell\n",
    "\n",
    "for url in tqdm(url_list[i:]):\n",
    "#for url in ['https://paimai.jd.com/287456648']:\n",
    "    driver.get(url)\n",
    "    title = driver.find_elements(By.CLASS_NAME,'pm-name')\n",
    "    if title:\n",
    "        title = title[0].text\n",
    "        #print(title)\n",
    "        attachFiles = driver.find_elements(By.CLASS_NAME,'attachFiles')\n",
    "        if attachFiles:\n",
    "            attachFiles = attachFiles[0]\n",
    "            files = attachFiles.find_elements(By.CLASS_NAME,'file')\n",
    "            if files:\n",
    "                print(title,url)\n",
    "                for f in files:\n",
    "                    report = f.find_element(By.XPATH,'a[1]')\n",
    "                    report_name = report.text\n",
    "                    report_url = report.get_attribute('href')\n",
    "                    print(report_name,report_url)\n",
    "                    entry_path = os.path.join(FOLDER_PATH,title)\n",
    "                    os.makedirs(entry_path,exist_ok=True)\n",
    "                    download_path = os.path.join(entry_path,report_name)\n",
    "                    \n",
    "                    r = requests.get(report_url)\n",
    "                    with open(download_path, 'wb') as file:\n",
    "                        file.write(r.content)\n",
    "    i += 1"
   ]
  },
  {
   "cell_type": "code",
   "execution_count": null,
   "id": "25ad43dc",
   "metadata": {},
   "outputs": [],
   "source": [
    "i"
   ]
  },
  {
   "cell_type": "code",
   "execution_count": null,
   "id": "03e82c95",
   "metadata": {},
   "outputs": [],
   "source": []
  }
 ],
 "metadata": {
  "kernelspec": {
   "display_name": "Python 3",
   "language": "python",
   "name": "python3"
  },
  "language_info": {
   "codemirror_mode": {
    "name": "ipython",
    "version": 3
   },
   "file_extension": ".py",
   "mimetype": "text/x-python",
   "name": "python",
   "nbconvert_exporter": "python",
   "pygments_lexer": "ipython3",
   "version": "3.8.8"
  }
 },
 "nbformat": 4,
 "nbformat_minor": 5
}
