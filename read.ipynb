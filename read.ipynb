{
 "cells": [
  {
   "cell_type": "code",
   "execution_count": 2,
   "id": "b0517ed6",
   "metadata": {},
   "outputs": [],
   "source": [
    "import pandas as pd"
   ]
  },
  {
   "cell_type": "code",
   "execution_count": 3,
   "id": "eec171e6",
   "metadata": {},
   "outputs": [],
   "source": [
    "pd.read_parquet('price_table_ali.parquet').to_csv('price_table_ali.csv')"
   ]
  },
  {
   "cell_type": "code",
   "execution_count": 4,
   "id": "8ad6e58b",
   "metadata": {},
   "outputs": [],
   "source": [
    "pd.read_parquet('price_table_jd.parquet').to_csv('price_table_jd.csv')"
   ]
  },
  {
   "cell_type": "code",
   "execution_count": null,
   "id": "5d24eb13",
   "metadata": {},
   "outputs": [],
   "source": []
  }
 ],
 "metadata": {
  "kernelspec": {
   "display_name": "Python 3",
   "language": "python",
   "name": "python3"
  },
  "language_info": {
   "codemirror_mode": {
    "name": "ipython",
    "version": 3
   },
   "file_extension": ".py",
   "mimetype": "text/x-python",
   "name": "python",
   "nbconvert_exporter": "python",
   "pygments_lexer": "ipython3",
   "version": "3.8.8"
  }
 },
 "nbformat": 4,
 "nbformat_minor": 5
}
