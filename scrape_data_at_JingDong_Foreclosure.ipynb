{
 "cells": [
  {
   "cell_type": "code",
   "execution_count": 1,
   "id": "a99634b4",
   "metadata": {},
   "outputs": [],
   "source": [
    "from selenium import webdriver\n",
    "#from selenium.webdriver.common.keys import Keys\n",
    "from selenium.webdriver.common.by import By\n",
    "from time import sleep\n",
    "import requests\n",
    "\n",
    "from tqdm import tqdm\n",
    "\n",
    "import pandas as pd \n",
    "#import numpy as np\n",
    "#import math\n",
    "import os"
   ]
  },
  {
   "cell_type": "code",
   "execution_count": 2,
   "id": "52b53263",
   "metadata": {},
   "outputs": [],
   "source": [
    "FOLDER_PATH = 'D:/JD_Foreclosure_Reports/'\n",
    "os.makedirs(FOLDER_PATH,exist_ok=True)"
   ]
  },
  {
   "cell_type": "code",
   "execution_count": 3,
   "id": "42d57385",
   "metadata": {},
   "outputs": [],
   "source": [
    "# 用selenium收集房源标题以及报告附件的下载链接\n",
    "driver = webdriver.Chrome()\n",
    "driver.implicitly_wait(3)  # the waiting time if cannot find an element"
   ]
  },
  {
   "cell_type": "code",
   "execution_count": 10,
   "id": "c61342bc",
   "metadata": {},
   "outputs": [],
   "source": [
    "# 打开网页\n",
    "driver.get(\"https://pmsearch.jd.com/?publishSource=7&provinceId=1\")\n",
    "sleep(1)\n",
    "# 勾选限定条件\n",
    "driver.find_element(By.XPATH,'/html/body/div[4]/div/div/div[2]/div[2]/div/div[2]/div/ul/li[1]/a').click()\n",
    "sleep(1)\n",
    "driver.find_element(By.XPATH,'/html/body/div[4]/div/div/div[2]/div[3]/div/div[2]/div[1]/ul/li[2]').click()\n",
    "sleep(1)"
   ]
  },
  {
   "cell_type": "code",
   "execution_count": 11,
   "id": "670daea8",
   "metadata": {
    "scrolled": true
   },
   "outputs": [
    {
     "name": "stdout",
     "output_type": "stream",
     "text": [
      "page 1: find 40 entries.\n",
      "page 2: find 40 entries.\n",
      "page 3: find 40 entries.\n",
      "page 4: find 40 entries.\n",
      "page 5: find 40 entries.\n",
      "page 6: find 40 entries.\n",
      "page 7: find 40 entries.\n",
      "page 8: find 40 entries.\n",
      "page 9: find 40 entries.\n",
      "page 10: find 40 entries.\n",
      "page 11: find 40 entries.\n",
      "page 12: find 40 entries.\n",
      "page 13: find 40 entries.\n",
      "page 14: find 40 entries.\n",
      "page 15: find 40 entries.\n",
      "page 16: find 40 entries.\n",
      "page 17: find 40 entries.\n",
      "page 18: find 40 entries.\n",
      "page 19: find 40 entries.\n",
      "page 20: find 40 entries.\n",
      "page 21: find 40 entries.\n",
      "page 22: find 40 entries.\n",
      "page 23: find 40 entries.\n",
      "page 24: find 40 entries.\n",
      "page 25: find 40 entries.\n",
      "page 26: find 40 entries.\n",
      "page 27: find 40 entries.\n",
      "page 28: find 40 entries.\n",
      "page 29: find 40 entries.\n",
      "page 30: find 40 entries.\n",
      "page 31: find 40 entries.\n",
      "page 32: find 40 entries.\n",
      "page 33: find 40 entries.\n",
      "page 34: find 40 entries.\n",
      "page 35: find 40 entries.\n",
      "page 36: find 40 entries.\n",
      "page 37: find 40 entries.\n",
      "page 38: find 40 entries.\n",
      "page 39: find 40 entries.\n",
      "page 40: find 40 entries.\n",
      "page 41: find 40 entries.\n",
      "page 42: find 40 entries.\n",
      "page 43: find 40 entries.\n",
      "page 44: find 40 entries.\n",
      "page 45: find 40 entries.\n",
      "page 46: find 40 entries.\n",
      "page 47: find 40 entries.\n",
      "page 48: find 40 entries.\n",
      "page 49: find 40 entries.\n",
      "page 50: find 40 entries.\n",
      "page 51: find 40 entries.\n",
      "page 52: find 40 entries.\n",
      "page 53: find 40 entries.\n",
      "page 54: find 40 entries.\n",
      "page 55: find 40 entries.\n",
      "page 56: find 40 entries.\n",
      "page 57: find 40 entries.\n",
      "page 58: find 40 entries.\n",
      "page 59: find 40 entries.\n",
      "page 60: find 40 entries.\n",
      "page 61: find 40 entries.\n",
      "page 62: find 40 entries.\n",
      "page 63: find 40 entries.\n",
      "page 64: find 40 entries.\n",
      "page 65: find 40 entries.\n",
      "page 66: find 40 entries.\n",
      "page 67: find 40 entries.\n",
      "page 68: find 40 entries.\n",
      "page 69: find 40 entries.\n",
      "page 70: find 40 entries.\n",
      "page 71: find 40 entries.\n",
      "page 72: find 40 entries.\n",
      "page 73: find 40 entries.\n",
      "page 74: find 40 entries.\n",
      "page 75: find 40 entries.\n",
      "page 76: find 40 entries.\n",
      "page 77: find 40 entries.\n",
      "page 78: find 40 entries.\n",
      "page 79: find 40 entries.\n",
      "page 80: find 40 entries.\n",
      "page 81: find 40 entries.\n",
      "page 82: find 40 entries.\n",
      "page 83: find 40 entries.\n",
      "page 84: find 40 entries.\n",
      "page 85: find 40 entries.\n",
      "page 86: find 40 entries.\n",
      "page 87: find 40 entries.\n",
      "page 88: find 40 entries.\n",
      "page 89: find 40 entries.\n",
      "page 90: find 40 entries.\n",
      "page 91: find 40 entries.\n",
      "page 92: find 40 entries.\n",
      "page 93: find 40 entries.\n",
      "page 94: find 40 entries.\n",
      "page 95: find 40 entries.\n",
      "page 96: find 40 entries.\n",
      "page 97: find 40 entries.\n",
      "page 98: find 40 entries.\n",
      "page 99: find 40 entries.\n",
      "page 100: find 40 entries.\n",
      "page 101: find 40 entries.\n",
      "page 102: find 40 entries.\n",
      "page 103: find 40 entries.\n",
      "page 104: find 40 entries.\n",
      "page 105: find 40 entries.\n",
      "page 106: find 40 entries.\n",
      "page 107: find 40 entries.\n",
      "page 108: find 40 entries.\n",
      "page 109: find 40 entries.\n",
      "page 110: find 40 entries.\n",
      "page 111: find 40 entries.\n",
      "page 112: find 40 entries.\n",
      "page 113: find 40 entries.\n",
      "page 114: find 40 entries.\n",
      "page 115: find 40 entries.\n",
      "page 116: find 40 entries.\n",
      "page 117: find 40 entries.\n",
      "page 118: find 40 entries.\n",
      "page 119: find 40 entries.\n",
      "page 120: find 40 entries.\n",
      "page 121: find 40 entries.\n",
      "page 122: find 40 entries.\n",
      "page 123: find 40 entries.\n",
      "page 124: find 40 entries.\n",
      "page 125: find 40 entries.\n",
      "page 126: find 40 entries.\n",
      "page 127: find 40 entries.\n",
      "page 128: find 40 entries.\n",
      "page 129: find 40 entries.\n",
      "page 130: find 40 entries.\n",
      "page 131: find 40 entries.\n",
      "page 132: find 40 entries.\n",
      "page 133: find 40 entries.\n",
      "page 134: find 40 entries.\n",
      "page 135: find 40 entries.\n",
      "page 136: find 40 entries.\n",
      "page 137: find 40 entries.\n",
      "page 138: find 40 entries.\n",
      "page 139: find 40 entries.\n",
      "page 140: find 40 entries.\n",
      "page 141: find 40 entries.\n",
      "page 142: find 40 entries.\n",
      "page 143: find 40 entries.\n",
      "page 144: find 40 entries.\n",
      "page 145: find 40 entries.\n",
      "page 146: find 40 entries.\n",
      "page 147: find 40 entries.\n",
      "page 148: find 40 entries.\n",
      "page 149: find 40 entries.\n",
      "page 150: find 40 entries.\n",
      "page 151: find 40 entries.\n",
      "page 152: find 40 entries.\n",
      "page 153: find 40 entries.\n",
      "page 154: find 40 entries.\n",
      "page 155: find 40 entries.\n",
      "page 156: find 40 entries.\n",
      "page 157: find 40 entries.\n",
      "page 158: find 40 entries.\n",
      "page 159: find 40 entries.\n",
      "page 160: find 40 entries.\n",
      "page 161: find 40 entries.\n",
      "page 162: find 40 entries.\n",
      "page 163: find 40 entries.\n",
      "page 164: find 40 entries.\n",
      "page 165: find 40 entries.\n",
      "page 166: find 40 entries.\n",
      "page 167: find 40 entries.\n",
      "page 168: find 40 entries.\n",
      "page 169: find 40 entries.\n",
      "page 170: find 40 entries.\n",
      "page 171: find 40 entries.\n",
      "page 172: find 40 entries.\n",
      "page 173: find 40 entries.\n",
      "page 174: find 40 entries.\n",
      "page 175: find 40 entries.\n",
      "page 176: find 40 entries.\n",
      "page 177: find 40 entries.\n",
      "page 178: find 40 entries.\n",
      "page 179: find 40 entries.\n",
      "page 180: find 40 entries.\n",
      "page 181: find 40 entries.\n",
      "page 182: find 40 entries.\n",
      "page 183: find 40 entries.\n",
      "page 184: find 40 entries.\n",
      "page 185: find 40 entries.\n",
      "page 186: find 40 entries.\n",
      "page 187: find 40 entries.\n",
      "page 188: find 40 entries.\n",
      "page 189: find 40 entries.\n",
      "page 190: find 40 entries.\n",
      "page 191: find 40 entries.\n",
      "page 192: find 40 entries.\n",
      "page 193: find 40 entries.\n",
      "page 194: find 40 entries.\n",
      "page 195: find 40 entries.\n",
      "page 196: find 40 entries.\n",
      "page 197: find 40 entries.\n",
      "page 198: find 40 entries.\n",
      "page 199: find 40 entries.\n",
      "page 200: find 40 entries.\n",
      "page 201: find 40 entries.\n",
      "page 202: find 40 entries.\n",
      "page 203: find 40 entries.\n",
      "page 204: find 40 entries.\n",
      "page 205: find 40 entries.\n",
      "page 206: find 40 entries.\n",
      "page 207: find 40 entries.\n",
      "page 208: find 40 entries.\n",
      "page 209: find 40 entries.\n",
      "page 210: find 40 entries.\n",
      "page 211: find 40 entries.\n",
      "page 212: find 40 entries.\n",
      "page 213: find 40 entries.\n",
      "page 214: find 40 entries.\n",
      "page 215: find 40 entries.\n",
      "page 216: find 40 entries.\n",
      "page 217: find 40 entries.\n",
      "page 218: find 40 entries.\n",
      "page 219: find 40 entries.\n",
      "page 220: find 40 entries.\n",
      "page 221: find 40 entries.\n",
      "page 222: find 40 entries.\n",
      "page 223: find 40 entries.\n",
      "page 224: find 40 entries.\n",
      "page 225: find 40 entries.\n",
      "page 226: find 40 entries.\n",
      "page 227: find 40 entries.\n",
      "page 228: find 40 entries.\n",
      "page 229: find 40 entries.\n",
      "page 230: find 40 entries.\n",
      "page 231: find 40 entries.\n",
      "page 232: find 40 entries.\n",
      "page 233: find 40 entries.\n",
      "page 234: find 40 entries.\n",
      "page 235: find 40 entries.\n",
      "page 236: find 40 entries.\n",
      "page 237: find 40 entries.\n",
      "page 238: find 40 entries.\n",
      "page 239: find 40 entries.\n",
      "page 240: find 40 entries.\n",
      "page 241: find 32 entries.\n",
      "Wall time: 5min 44s\n"
     ]
    }
   ],
   "source": [
    "%%time\n",
    "url_list = []\n",
    "n_page = 1\n",
    "while True:\n",
    "    entry_list = driver.find_elements(By.CLASS_NAME,'goods-container')\n",
    "    print('page {}: find {} entries.'.format(n_page,len(entry_list)))\n",
    "    for entry in entry_list:\n",
    "        url = entry.get_attribute('href')\n",
    "        #print(url)\n",
    "        url_list.append(url)\n",
    "        \n",
    "    # to next page\n",
    "    next_page = driver.find_elements(By.CLASS_NAME,'ui-pager-next')\n",
    "    if next_page:\n",
    "        n_page += 1\n",
    "        next_page[0].click()  # 必须保持浏览器页面正常大小，否则报错，因为是按照位置来点击的，模拟人的鼠标操作\n",
    "        sleep(1)\n",
    "    else:\n",
    "        break"
   ]
  },
  {
   "cell_type": "code",
   "execution_count": 13,
   "id": "f8c1279a",
   "metadata": {
    "scrolled": true
   },
   "outputs": [
    {
     "name": "stdout",
     "output_type": "stream",
     "text": [
      "9632 entries in total.\n"
     ]
    }
   ],
   "source": [
    "print(\"{} entries in total.\".format(len(url_list)))"
   ]
  },
  {
   "cell_type": "code",
   "execution_count": 19,
   "id": "6dd9398e",
   "metadata": {},
   "outputs": [
    {
     "data": {
      "text/plain": [
       "'https://paimai.jd.com/109858667'"
      ]
     },
     "execution_count": 19,
     "metadata": {},
     "output_type": "execute_result"
    }
   ],
   "source": [
    "url_list[3534]"
   ]
  },
  {
   "cell_type": "code",
   "execution_count": 16,
   "id": "218494a5",
   "metadata": {},
   "outputs": [],
   "source": [
    "import time\n",
    "timestr = time.strftime(\"%Y%m%d\")\n",
    "file_path = os.path.join(FOLDER_PATH,'entry_url_list{}.csv'.format(timestr))\n",
    "pd.Series(url_list).to_csv(file_path)"
   ]
  },
  {
   "cell_type": "code",
   "execution_count": 4,
   "id": "0142c620",
   "metadata": {},
   "outputs": [],
   "source": [
    "url_list = pd.read_csv('D:/JD_Foreclosure_Reports/entry_url_list20220617.csv')"
   ]
  },
  {
   "cell_type": "code",
   "execution_count": 5,
   "id": "b15bf6bb",
   "metadata": {},
   "outputs": [],
   "source": [
    "url_list = url_list.iloc[:,1]"
   ]
  },
  {
   "cell_type": "code",
   "execution_count": 6,
   "id": "d95f97a1",
   "metadata": {},
   "outputs": [],
   "source": [
    "url_list = url_list.to_list()"
   ]
  },
  {
   "cell_type": "code",
   "execution_count": 7,
   "id": "41378bb3",
   "metadata": {},
   "outputs": [
    {
     "data": {
      "text/plain": [
       "9632"
      ]
     },
     "execution_count": 7,
     "metadata": {},
     "output_type": "execute_result"
    }
   ],
   "source": [
    "len(url_list)"
   ]
  },
  {
   "cell_type": "code",
   "execution_count": 25,
   "id": "9f3da58d",
   "metadata": {},
   "outputs": [
    {
     "data": {
      "text/plain": [
       "'https://paimai.jd.com/288412613'"
      ]
     },
     "execution_count": 25,
     "metadata": {},
     "output_type": "execute_result"
    }
   ],
   "source": [
    "url_list[4]"
   ]
  },
  {
   "cell_type": "code",
   "execution_count": 13,
   "id": "7dcaadf1",
   "metadata": {},
   "outputs": [
    {
     "data": {
      "text/plain": [
       "3094"
      ]
     },
     "execution_count": 13,
     "metadata": {},
     "output_type": "execute_result"
    }
   ],
   "source": [
    "9632-6538"
   ]
  },
  {
   "cell_type": "code",
   "execution_count": 8,
   "id": "48a9c2eb",
   "metadata": {},
   "outputs": [],
   "source": [
    "# at very start, run this cell.\n",
    "i = 8820"
   ]
  },
  {
   "cell_type": "code",
   "execution_count": 92,
   "id": "2fbf2172",
   "metadata": {},
   "outputs": [
    {
     "data": {
      "text/plain": [
       "5932"
      ]
     },
     "execution_count": 92,
     "metadata": {},
     "output_type": "execute_result"
    }
   ],
   "source": [
    "url_list.index('https://paimai.jd.com/279790677')"
   ]
  },
  {
   "cell_type": "code",
   "execution_count": 21,
   "id": "a504f2b8",
   "metadata": {},
   "outputs": [],
   "source": [
    "# to skip the current entry, run this cell.\n",
    "i += 1"
   ]
  },
  {
   "cell_type": "code",
   "execution_count": 22,
   "id": "33a5135a",
   "metadata": {},
   "outputs": [
    {
     "data": {
      "text/plain": [
       "8967"
      ]
     },
     "execution_count": 22,
     "metadata": {},
     "output_type": "execute_result"
    }
   ],
   "source": [
    "# to check the current entry, run this cell.\n",
    "i"
   ]
  },
  {
   "cell_type": "code",
   "execution_count": 23,
   "id": "131e595a",
   "metadata": {
    "scrolled": true
   },
   "outputs": [
    {
     "name": "stderr",
     "output_type": "stream",
     "text": [
      "\r",
      "  0%|          | 0/665 [00:00<?, ?it/s]"
     ]
    },
    {
     "name": "stdout",
     "output_type": "stream",
     "text": [
      "【一拍】北京市朝阳区利泽西街6号院8号楼9层1单元1001室，及车位 https://paimai.jd.com/107036508\n",
      "执行依据.docx https://storage.jd.com/auction.gateway/ebe2a94e34a66b607021524cb067a61120180919165142697.docx\n",
      "评估报告2.docx https://storage.jd.com/auction.gateway/82346b823750caa291c25e861c29c55920180919165142714.docx\n",
      "评估报告1.docx https://storage.jd.com/auction.gateway/92c4226c13cca6cf7afbc4d039e3112320180919165142725.docx\n"
     ]
    },
    {
     "name": "stderr",
     "output_type": "stream",
     "text": [
      "\r",
      "  0%|          | 1/665 [00:07<1:17:56,  7.04s/it]"
     ]
    },
    {
     "name": "stdout",
     "output_type": "stream",
     "text": [
      "【一拍】北京市丰台区芳城园一区16号楼8层1单元805号房地产（138.39㎡） https://paimai.jd.com/107016156\n",
      "执行裁定.docx https://storage.jd.com/auction.gateway/0343de3a5abe7e242e71fee3ff78fef320180918095750517.docx\n",
      "北京市丰台区芳城园一区16号楼8层1单元805号报告.pdf https://storage.jd.com/auction.gateway/d1212b04a2ddcf64b4371cbc683d5c5f20180918095750565.pdf\n"
     ]
    },
    {
     "name": "stderr",
     "output_type": "stream",
     "text": [
      "\r",
      "  0%|          | 2/665 [00:10<57:02,  5.16s/it]  "
     ]
    },
    {
     "name": "stdout",
     "output_type": "stream",
     "text": [
      "【一拍】北京市丰台区石榴园南里35号楼2单元103 https://paimai.jd.com/107005748\n",
      "丰台区石榴园南里35号楼2单元103.pdf https://storage.jd.com/auction.gateway/3f39d07bac01b6c9d20438f33ac93dbc20181017151651814.pdf\n"
     ]
    },
    {
     "name": "stderr",
     "output_type": "stream",
     "text": [
      "\r",
      "  0%|          | 3/665 [00:13<45:55,  4.16s/it]"
     ]
    },
    {
     "name": "stdout",
     "output_type": "stream",
     "text": [
      "【一拍】北京市怀柔区青春路61号院17号楼1至3层03号 https://paimai.jd.com/106911338\n",
      "（结果报告）京城捷信20180124—SF044北京市怀柔区青春路61号院17号楼1至3层03号住宅用途涉案房地产市场价值评估.pdf https://storage.jd.com/auction.gateway/f3db28dfdc90e922b54458e235f552c320180906110704513.pdf\n"
     ]
    },
    {
     "name": "stderr",
     "output_type": "stream",
     "text": [
      "  1%|          | 5/665 [00:21<46:02,  4.19s/it]"
     ]
    },
    {
     "name": "stdout",
     "output_type": "stream",
     "text": [
      "【一拍】北京市海淀区增光路16号1号楼612号（47.6㎡） https://paimai.jd.com/106970806\n",
      "海淀区增光路16号1号楼612号评估报告.pdf https://storage.jd.com/auction.gateway/ef19f254f9ccb5c57328e5f1330df5f220180912153251831.pdf\n"
     ]
    },
    {
     "name": "stderr",
     "output_type": "stream",
     "text": [
      "\r",
      "  1%|          | 6/665 [00:23<37:23,  3.40s/it]"
     ]
    },
    {
     "name": "stdout",
     "output_type": "stream",
     "text": [
      "【一拍】北京市东城区新中街68号7层楼9层7-9-N房地产 https://paimai.jd.com/106906543\n",
      "东城区新中街68号7号楼9层7-9-N.pdf https://storage.jd.com/auction.gateway/58ec9f758f47ba33ba59be7ff798d37220180905143908354.pdf\n"
     ]
    },
    {
     "name": "stderr",
     "output_type": "stream",
     "text": [
      "\r",
      "  1%|          | 7/665 [00:25<32:51,  3.00s/it]"
     ]
    },
    {
     "name": "stdout",
     "output_type": "stream",
     "text": [
      "【二拍】海淀区西钓鱼台嘉园4号楼1层0107号房产和住宅配套房产 https://paimai.jd.com/107137837\n",
      "估价报告.doc https://storage.jd.com/auction.gateway/963bd6a1b3c074eb9c1155f695f2f86820180929172701589.doc\n",
      "执行依据.pdf https://storage.jd.com/auction.gateway/8f7056bcb3d875e1f4d2fac4a0617b0420180929172704554.pdf\n"
     ]
    },
    {
     "name": "stderr",
     "output_type": "stream",
     "text": [
      "\r",
      "  1%|          | 8/665 [00:29<33:08,  3.03s/it]"
     ]
    },
    {
     "name": "stdout",
     "output_type": "stream",
     "text": [
      "【一拍】北京市朝阳区豆各庄5号院212号楼101号 https://paimai.jd.com/106913791\n",
      "万科青青家园报告简版.docx https://storage.jd.com/auction.gateway/66d85c802140456dff44979c06bc7f4520180906162226100.docx\n"
     ]
    },
    {
     "name": "stderr",
     "output_type": "stream",
     "text": [
      "\r",
      "  1%|▏         | 9/665 [00:33<38:39,  3.54s/it]"
     ]
    },
    {
     "name": "stdout",
     "output_type": "stream",
     "text": [
      "【一拍】北京市通州区永顺西里26号楼4层641号 https://paimai.jd.com/106896684\n",
      "永顺西里26号楼4层641号.pdf https://storage.jd.com/auction.gateway/df261f029d2121191967429679dcfa6320180919103050216.pdf\n"
     ]
    },
    {
     "name": "stderr",
     "output_type": "stream",
     "text": [
      "\r",
      "  2%|▏         | 10/665 [00:37<40:36,  3.72s/it]"
     ]
    },
    {
     "name": "stdout",
     "output_type": "stream",
     "text": [
      "【一拍】北京市朝阳区慧忠北里410号楼2层1单元207号(39.61㎡) https://paimai.jd.com/106986200\n",
      "慧忠北里410号（2017京0105执27653号）.pdf https://storage.jd.com/auction.gateway/56c350ce03ee34aec23273ec969dd1da20180914140640699.pdf\n"
     ]
    },
    {
     "name": "stderr",
     "output_type": "stream",
     "text": [
      "\r",
      "  2%|▏         | 11/665 [00:40<35:35,  3.26s/it]"
     ]
    },
    {
     "name": "stdout",
     "output_type": "stream",
     "text": [
      "【一拍】北京市朝阳区朝外雅宝路12号19层1909号(214.83㎡) https://paimai.jd.com/106969768\n",
      "朝阳区朝外雅宝路12号19层1909号.pdf https://storage.jd.com/auction.gateway/863204097a5dd75b86ce4b26cf45114c20180912143326970.pdf\n"
     ]
    },
    {
     "name": "stderr",
     "output_type": "stream",
     "text": [
      "\r",
      "  2%|▏         | 12/665 [00:44<39:23,  3.62s/it]"
     ]
    },
    {
     "name": "stdout",
     "output_type": "stream",
     "text": [
      "【一拍】北京市西城区真武庙路二条10号楼3层7单元303号（98.26㎡） https://paimai.jd.com/106978956\n",
      "（北京）华信（2018）（估）字第00463号北京市西城区真武庙路二条10号楼3层7单元302、303号住宅报告.pdf https://storage.jd.com/auction.gateway/3daf0f3a75db0be58e45bff5a7e2a6a220180913145138627.pdf\n"
     ]
    },
    {
     "name": "stderr",
     "output_type": "stream",
     "text": [
      "\r",
      "  2%|▏         | 13/665 [00:47<38:05,  3.50s/it]"
     ]
    },
    {
     "name": "stdout",
     "output_type": "stream",
     "text": [
      "【一拍】北京市朝阳区慧忠北里109号楼21层2109号(137.02㎡) https://paimai.jd.com/106986003\n",
      "慧忠北里.pdf https://storage.jd.com/auction.gateway/5ee188530b7241ac27b7bf986314934a20180914135625049.pdf\n"
     ]
    },
    {
     "name": "stderr",
     "output_type": "stream",
     "text": [
      "\r",
      "  2%|▏         | 14/665 [00:50<36:04,  3.32s/it]"
     ]
    },
    {
     "name": "stdout",
     "output_type": "stream",
     "text": [
      "【一拍】北京市朝阳区延静西里20号楼3层7门731号(62.39㎡) https://paimai.jd.com/106986002\n",
      "延静西里731.pdf https://storage.jd.com/auction.gateway/2a391c6771f812104cb3c5eafb4729e020180914135624673.pdf\n"
     ]
    },
    {
     "name": "stderr",
     "output_type": "stream",
     "text": [
      "\r",
      "  2%|▏         | 15/665 [00:52<32:35,  3.01s/it]"
     ]
    },
    {
     "name": "stdout",
     "output_type": "stream",
     "text": [
      "【一拍】北京市西城区真武庙路二条10号楼3层7单元302号（97.32㎡） https://paimai.jd.com/106978959\n",
      "（北京）华信（2018）（估）字第00463号北京市西城区真武庙路二条10号楼3层7单元302、303号住宅报告.pdf https://storage.jd.com/auction.gateway/1a06f7027333212a1a149f736176722b20180913145143698.pdf\n"
     ]
    },
    {
     "name": "stderr",
     "output_type": "stream",
     "text": [
      "\r",
      "  2%|▏         | 16/665 [00:56<33:24,  3.09s/it]"
     ]
    },
    {
     "name": "stdout",
     "output_type": "stream",
     "text": [
      "【一拍】北京市朝阳区望京东园612号楼6层2门602号(172.7㎡) https://paimai.jd.com/106970135\n",
      "望京东园612号楼.pdf https://storage.jd.com/auction.gateway/9032b3c312d667d41d29bf6580f46b4320180912144648842.pdf\n"
     ]
    },
    {
     "name": "stderr",
     "output_type": "stream",
     "text": [
      "\r",
      "  3%|▎         | 17/665 [01:01<39:45,  3.68s/it]"
     ]
    },
    {
     "name": "stdout",
     "output_type": "stream",
     "text": [
      "【一拍】北京市丰台区菜户营甲88号2B号楼1层107房产一处 https://paimai.jd.com/106986992\n",
      "北京市丰台区菜户营甲88号2B号楼1层107房产资产评估报告.pdf https://storage.jd.com/auction.gateway/1035dd552534745c201b21dec9a313ea20180914143633414.pdf\n"
     ]
    },
    {
     "name": "stderr",
     "output_type": "stream",
     "text": [
      "\r",
      "  3%|▎         | 18/665 [01:06<43:24,  4.02s/it]"
     ]
    },
    {
     "name": "stdout",
     "output_type": "stream",
     "text": [
      "【一拍】北京市朝阳区南湖南路10号院525号楼1层108号(47.62㎡) https://paimai.jd.com/106979124\n",
      "朝阳区南湖南路10号院525号楼108.pdf https://storage.jd.com/auction.gateway/f85b9d2f524fcda1d45569043389ebb520180913150156578.pdf\n"
     ]
    },
    {
     "name": "stderr",
     "output_type": "stream",
     "text": [
      "\r",
      "  3%|▎         | 19/665 [01:09<42:15,  3.92s/it]"
     ]
    },
    {
     "name": "stdout",
     "output_type": "stream",
     "text": [
      "【一拍】北京市朝阳区曙光里28号楼3层2单元231号(69.20㎡) https://paimai.jd.com/106986128\n",
      "朝阳区曙光里28号楼3层2单元231号.pdf https://storage.jd.com/auction.gateway/39f1cf7c9bbaac6101d002b391a9aba020180914140108092.pdf\n"
     ]
    },
    {
     "name": "stderr",
     "output_type": "stream",
     "text": [
      "\r",
      "  3%|▎         | 20/665 [01:12<37:35,  3.50s/it]"
     ]
    },
    {
     "name": "stdout",
     "output_type": "stream",
     "text": [
      "【变卖】北京市昌平区昌平镇西环里小区40号楼5层505号房地产 https://paimai.jd.com/106498503\n",
      "昌平区昌平镇西环里小区40号楼5层505号.pdf https://storage.jd.com/auction.gateway/629867d3eda21cdc744065c9657d6b7f20180723154120494.pdf\n"
     ]
    },
    {
     "name": "stderr",
     "output_type": "stream",
     "text": [
      "\r",
      "  3%|▎         | 21/665 [01:14<34:39,  3.23s/it]"
     ]
    },
    {
     "name": "stdout",
     "output_type": "stream",
     "text": [
      "【二拍】北京市密云县兴盛北路13号院10号楼3层1单元301室 https://paimai.jd.com/107107836\n",
      "密云县兴盛北路报告 .pdf https://storage.jd.com/auction.gateway/ef64e0d2d81c358483703a182870b50620180926170613624.pdf\n"
     ]
    },
    {
     "name": "stderr",
     "output_type": "stream",
     "text": [
      "\r",
      "  3%|▎         | 22/665 [01:19<38:59,  3.64s/it]"
     ]
    },
    {
     "name": "stdout",
     "output_type": "stream",
     "text": [
      "【一拍】北京市昌平区东小口镇天通苑小区401号楼16层3号房 https://paimai.jd.com/106910708\n",
      "湘思远四达（房估）字[2017]第F149号报告电子版.doc https://storage.jd.com/auction.gateway/7f67698120cd364cbdb89b4c995b869420180910105151297.doc\n",
      "裁定.pdf https://storage.jd.com/auction.gateway/38526931df8c450e188e6b262a5f361c20180910105151429.pdf\n"
     ]
    },
    {
     "name": "stderr",
     "output_type": "stream",
     "text": [
      "\r",
      "  3%|▎         | 23/665 [01:22<36:16,  3.39s/it]"
     ]
    },
    {
     "name": "stdout",
     "output_type": "stream",
     "text": [
      "【一拍】北京市房山区燕山富燕新村四区7号楼3单元501号 https://paimai.jd.com/106912854\n",
      "富燕新村四区7号楼3单元501号报告.pdf https://storage.jd.com/auction.gateway/ce9f592a7e182c8934e97e4209543b4e20180906144700230.pdf\n"
     ]
    },
    {
     "name": "stderr",
     "output_type": "stream",
     "text": [
      "\r",
      "  4%|▎         | 24/665 [01:25<35:58,  3.37s/it]"
     ]
    },
    {
     "name": "stdout",
     "output_type": "stream",
     "text": [
      "【一拍】北京市东城区香河园街1号院北区1号楼5层602室房屋 https://paimai.jd.com/106942431\n",
      "大数据评估_ 北京市东城区香河园街1号院北区1号楼5层602室_住宅.pdf https://storage.jd.com/auction.gateway/07e9a5279ca881747f62a49d6977745120180910153200756.pdf\n"
     ]
    },
    {
     "name": "stderr",
     "output_type": "stream",
     "text": [
      "\r",
      "  4%|▍         | 25/665 [01:27<31:33,  2.96s/it]"
     ]
    },
    {
     "name": "stdout",
     "output_type": "stream",
     "text": [
      "【变卖】北京市朝阳区将府家园北里132号楼7层1单元805号 https://paimai.jd.com/106543491\n",
      "将府家园北里132号楼.pdf https://storage.jd.com/auction.gateway/1d5476d7a2a1cb54836571c48190122220180727151210797.pdf\n"
     ]
    },
    {
     "name": "stderr",
     "output_type": "stream",
     "text": [
      "\r",
      "  4%|▍         | 26/665 [01:33<40:16,  3.78s/it]"
     ]
    },
    {
     "name": "stdout",
     "output_type": "stream",
     "text": [
      "【一拍】北京市东城区前永康胡同29号 https://paimai.jd.com/106829288\n",
      "2018A032东城区前永康胡同29号院房地产价值评估.pdf https://storage.jd.com/auction.gateway/b9a38abe6ee0fbc08573b8165f76b28320180828093219707.pdf\n"
     ]
    },
    {
     "name": "stderr",
     "output_type": "stream",
     "text": [
      "\r",
      "  4%|▍         | 27/665 [01:36<37:20,  3.51s/it]"
     ]
    },
    {
     "name": "stdout",
     "output_type": "stream",
     "text": [
      "【一拍】北京市朝阳区高碑店路181号院158号楼-1至3层103 https://paimai.jd.com/106896795\n",
      "中海安德鲁斯庄园 结果报告 .docx https://storage.jd.com/auction.gateway/fb1d02c7510c568fa8bd58a37f2a83cc20180904161722774.docx\n"
     ]
    },
    {
     "name": "stderr",
     "output_type": "stream",
     "text": [
      "  5%|▍         | 30/665 [01:50<43:40,  4.13s/it]"
     ]
    },
    {
     "name": "stdout",
     "output_type": "stream",
     "text": [
      "【一拍】位于北京市通州区普欣南里136号楼-1至2层全部房产 https://paimai.jd.com/106881968\n",
      "执行依据.rar https://storage.jd.com/auction.gateway/ae85ee1def3d64de00025bb92a2b821920180903142628179.rar\n",
      "评估报告.rar https://storage.jd.com/auction.gateway/ac7d582d2e9e8177b032ec38dfb0a2ca20180903142628777.rar\n"
     ]
    },
    {
     "name": "stderr",
     "output_type": "stream",
     "text": [
      "\r",
      "  5%|▍         | 31/665 [01:53<40:30,  3.83s/it]"
     ]
    },
    {
     "name": "stdout",
     "output_type": "stream",
     "text": [
      "【一拍】北京市昌平区昌平镇南环里甲8号楼6层1单元602号 https://paimai.jd.com/106912915\n",
      "北京市昌平区昌平镇南环里甲8号楼6层1单元602号房地产评估价值报告.pdf https://storage.jd.com/auction.gateway/be8a2586d3d5d34093dc191ee91476ca20180906145149974.pdf\n"
     ]
    },
    {
     "name": "stderr",
     "output_type": "stream",
     "text": [
      "\r",
      "  5%|▍         | 32/665 [01:56<38:35,  3.66s/it]"
     ]
    },
    {
     "name": "stdout",
     "output_type": "stream",
     "text": [
      "【变卖】北京市房山区城关街道永安家园8号楼2层1-201 https://paimai.jd.com/106515528\n",
      "房山区城关街道永安家园8号楼2层1-201.pdf https://storage.jd.com/auction.gateway/b4c196f9a30d5302db2975723fc42c5620180724211557771.pdf\n"
     ]
    },
    {
     "name": "stderr",
     "output_type": "stream",
     "text": [
      "\r",
      "  5%|▍         | 33/665 [01:59<35:13,  3.34s/it]"
     ]
    },
    {
     "name": "stdout",
     "output_type": "stream",
     "text": [
      "【变卖】北京市朝阳区阜荣街8 号院（朝庭公寓）1 号楼17 层2 单元2001 号 https://paimai.jd.com/106522814\n",
      "朝庭公寓报告.pdf https://storage.jd.com/auction.gateway/a52f8473bc5b101a77c3bf5d6fb22fee20180725144132203.pdf\n"
     ]
    },
    {
     "name": "stderr",
     "output_type": "stream",
     "text": [
      "\r",
      "  5%|▌         | 34/665 [02:03<38:22,  3.65s/it]"
     ]
    },
    {
     "name": "stdout",
     "output_type": "stream",
     "text": [
      "【一拍】北京市朝阳区南磨房路37号20层2210号（97.69㎡） https://paimai.jd.com/106786167\n",
      "20170391—SF093朝阳区南磨房路37号20层2210号公寓.pdf https://storage.jd.com/auction.gateway/29409535b24c2a658cd2a4a6389b23d720180827093638332.pdf\n"
     ]
    },
    {
     "name": "stderr",
     "output_type": "stream",
     "text": [
      "\r",
      "  5%|▌         | 35/665 [02:06<36:48,  3.51s/it]"
     ]
    },
    {
     "name": "stdout",
     "output_type": "stream",
     "text": [
      "【一拍】北京市朝阳区东三环南路54号院13号楼1层106号（147.39㎡） https://paimai.jd.com/106786058\n",
      "京城捷信20170392—SF094.pdf https://storage.jd.com/auction.gateway/39e0f326ef440f3d91c9cfb43868c58b20180827093711386.pdf\n"
     ]
    },
    {
     "name": "stderr",
     "output_type": "stream",
     "text": [
      "\r",
      "  5%|▌         | 36/665 [02:09<33:25,  3.19s/it]"
     ]
    },
    {
     "name": "stdout",
     "output_type": "stream",
     "text": [
      "【一拍】北京市朝阳区安立路56号院1号楼8层0807号房屋（75.15㎡） https://paimai.jd.com/106757147\n",
      "朝阳区安立路56号院1号楼8层0807号（2018-110）.pdf https://storage.jd.com/auction.gateway/decb1e8804e52b9691879b12e011ee2a20180820163643762.pdf\n"
     ]
    },
    {
     "name": "stderr",
     "output_type": "stream",
     "text": [
      "\r",
      "  6%|▌         | 37/665 [02:12<33:52,  3.24s/it]"
     ]
    },
    {
     "name": "stdout",
     "output_type": "stream",
     "text": [
      "【二拍】北京市昌平区东小口镇陈营村北5号楼5单元6层602号（63.02平方米） https://paimai.jd.com/106958323\n",
      "昌平区东小口镇陈营村北5号楼5单元6层602房屋评估报告.pdf https://storage.jd.com/auction.gateway/352dfaa61b51afc609b62eb58de2937d20180911160442763.pdf\n"
     ]
    },
    {
     "name": "stderr",
     "output_type": "stream",
     "text": [
      "\r",
      "  6%|▌         | 38/665 [02:17<40:51,  3.91s/it]"
     ]
    },
    {
     "name": "stdout",
     "output_type": "stream",
     "text": [
      "【二拍】北京市朝阳区百子湾路3号楼5层2单元12（57.51㎡） https://paimai.jd.com/106937868\n",
      "2017-Z024-朝阳区百子湾路3号楼5层2单元12号.pdf https://storage.jd.com/auction.gateway/f9290b2bfa3117db5964592f0cfa6b1020180910110704119.pdf\n"
     ]
    },
    {
     "name": "stderr",
     "output_type": "stream",
     "text": [
      "\r",
      "  6%|▌         | 39/665 [02:20<36:26,  3.49s/it]"
     ]
    },
    {
     "name": "stdout",
     "output_type": "stream",
     "text": [
      "【一拍】北京市朝阳区安立路56号院1号楼8层0807号房屋（75.15㎡） https://paimai.jd.com/106752550\n",
      "朝阳区安立路56号院1号楼8层0807号（2018-110）.pdf https://storage.jd.com/auction.gateway/decb1e8804e52b9691879b12e011ee2a20180820105653025.pdf\n"
     ]
    },
    {
     "name": "stderr",
     "output_type": "stream",
     "text": [
      "\r",
      "  6%|▌         | 40/665 [02:23<36:14,  3.48s/it]"
     ]
    },
    {
     "name": "stdout",
     "output_type": "stream",
     "text": [
      "【一拍】北京市昌平区昌平镇昌盛园三区14号楼1层7单元102号住宅房地产（81.19㎡） https://paimai.jd.com/106815855\n",
      "北京市昌平区昌平镇昌盛园三区14号楼1层7单元102号住宅房地产市场价值评估.pdf https://storage.jd.com/auction.gateway/de27a74ffc4c639def5ab179deb1401020180827095632408.pdf\n",
      "执行裁定.docx https://storage.jd.com/auction.gateway/c4eb96b42d7795a5b2a70dd8fab0a92120180827095632483.docx\n"
     ]
    },
    {
     "name": "stderr",
     "output_type": "stream",
     "text": [
      "\r",
      "  6%|▌         | 41/665 [02:26<34:07,  3.28s/it]"
     ]
    },
    {
     "name": "stdout",
     "output_type": "stream",
     "text": [
      "【一拍】北京市海淀区西二旗智学苑15号楼1层③-101 https://paimai.jd.com/106785204\n",
      "海淀区西二旗智学苑15号楼1层3单元-101.pdf https://storage.jd.com/auction.gateway/58ed466d730c3ad78140b467c5db320b20180824160240798.pdf\n"
     ]
    },
    {
     "name": "stderr",
     "output_type": "stream",
     "text": [
      "\r",
      "  6%|▋         | 42/665 [02:31<39:10,  3.77s/it]"
     ]
    },
    {
     "name": "stdout",
     "output_type": "stream",
     "text": [
      "【一拍】北京市房山区长阳镇昊天北大街48号208号楼4层B座404号 https://paimai.jd.com/106820612\n",
      "终版【结果报告】2018-1-0461-F01SFZC6北京市房山区长阳镇昊天北大街48号208号楼4层B座404号商业用房房地产市场价值评估.pdf https://storage.jd.com/auction.gateway/bdb056b691456455060f75f3b1ad3dff20180827144714738.pdf\n"
     ]
    },
    {
     "name": "stderr",
     "output_type": "stream",
     "text": [
      "\r",
      "  6%|▋         | 43/665 [02:36<42:15,  4.08s/it]"
     ]
    },
    {
     "name": "stdout",
     "output_type": "stream",
     "text": [
      "【一拍】北京市房山区长阳镇嘉州水郡147号3层301号 https://paimai.jd.com/106822474\n",
      "【结果报告】.pdf https://storage.jd.com/auction.gateway/6c56113c6ae3ded5c8eae45ab23e39bc20180827161757618.pdf\n"
     ]
    },
    {
     "name": "stderr",
     "output_type": "stream",
     "text": [
      "\r",
      "  7%|▋         | 44/665 [02:40<43:15,  4.18s/it]"
     ]
    },
    {
     "name": "stdout",
     "output_type": "stream",
     "text": [
      "【一拍】北京市房山区良乡地区龙华苑30号楼4层B30-4 https://paimai.jd.com/106823701\n",
      "房山区龙华苑.pdf https://storage.jd.com/auction.gateway/6a90413a7acf3592ea04d4f4f045c24b20180827172646885.pdf\n"
     ]
    },
    {
     "name": "stderr",
     "output_type": "stream",
     "text": [
      "\r",
      "  7%|▋         | 45/665 [02:43<40:20,  3.90s/it]"
     ]
    },
    {
     "name": "stdout",
     "output_type": "stream",
     "text": [
      "【一拍】北京市房山区罗府家园1号楼2层7-201 https://paimai.jd.com/106823095\n",
      "房山区罗府家园 - 国地.pdf https://storage.jd.com/auction.gateway/3140fc01e41219fe7fcab890c815343820180827165126267.pdf\n"
     ]
    },
    {
     "name": "stderr",
     "output_type": "stream",
     "text": [
      "\r",
      "  7%|▋         | 46/665 [02:46<37:13,  3.61s/it]"
     ]
    },
    {
     "name": "stdout",
     "output_type": "stream",
     "text": [
      "【一拍】北京市怀柔区富乐大街26号4号楼3层2单元302 https://paimai.jd.com/106815300\n",
      "2018-4-25怀柔区富乐大街---结果报告1.pdf https://storage.jd.com/auction.gateway/26b8eb9b9c6cdcf78f85978ac4ab770c20180827085133505.pdf\n"
     ]
    },
    {
     "name": "stderr",
     "output_type": "stream",
     "text": [
      "  7%|▋         | 48/665 [02:53<35:48,  3.48s/it]"
     ]
    },
    {
     "name": "stdout",
     "output_type": "stream",
     "text": [
      "【一拍】北京市丰台区六里桥风荷曲苑8号楼1单元701室房产及停车场-2层B3区010车位 https://paimai.jd.com/106788853\n",
      "六里桥风荷曲苑 正文报告.pdf https://storage.jd.com/auction.gateway/607649eff50f34990838ddb35d0699b120180823154533800.pdf\n",
      "裁定书.pdf https://storage.jd.com/auction.gateway/914bb2be6abe5b729c776e93fdaa3e0720180823154533845.pdf\n"
     ]
    },
    {
     "name": "stderr",
     "output_type": "stream",
     "text": [
      "\r",
      "  7%|▋         | 49/665 [02:56<35:15,  3.43s/it]"
     ]
    },
    {
     "name": "stdout",
     "output_type": "stream",
     "text": [
      "【一拍】北京市海淀区安宁庄西路9号院7号楼4门901室 https://paimai.jd.com/106775236\n",
      "评估报告.7z https://storage.jd.com/auction.gateway/4b1ed117b0858c615bae391726b42e5b20180822104759538.7z\n"
     ]
    },
    {
     "name": "stderr",
     "output_type": "stream",
     "text": [
      "\r",
      "  8%|▊         | 50/665 [02:58<32:09,  3.14s/it]"
     ]
    },
    {
     "name": "stdout",
     "output_type": "stream",
     "text": [
      "【一拍】朝阳区平房乡黄衫木店(青年路居住小区南区)28#住宅楼1单元805号房地产 https://paimai.jd.com/106727266\n",
      "朝阳区平房乡黄衫木店（青年路居住小区南区）28#29#住宅楼76层28#楼1单元805号评估报告.pdf https://storage.jd.com/auction.gateway/cebe18f8a8a3d41b993bd07ceba5a47a20180816155122494.pdf\n"
     ]
    },
    {
     "name": "stderr",
     "output_type": "stream",
     "text": [
      "\r",
      "  8%|▊         | 51/665 [03:01<29:57,  2.93s/it]"
     ]
    },
    {
     "name": "stdout",
     "output_type": "stream",
     "text": [
      "【二拍】北京市顺义区安详大街11号院9号楼10层1002 号房地产 https://paimai.jd.com/106895807\n",
      "鄂日晟行房估字[2018]第WH05130号-武汉市中级人民法院（山西九德实业有限公司）.pdf https://storage.jd.com/auction.gateway/b0355cff47bdb0e1b2ea131edd2ab7c620180904152648083.pdf\n"
     ]
    },
    {
     "name": "stderr",
     "output_type": "stream",
     "text": [
      "\r",
      "  8%|▊         | 52/665 [03:04<29:16,  2.87s/it]"
     ]
    },
    {
     "name": "stdout",
     "output_type": "stream",
     "text": [
      "【一拍】海淀区紫竹院路1号院2号楼26层2611号房产(88.47㎡)-2层184车位 https://paimai.jd.com/106716874\n",
      "海淀区紫竹院路1号院2号楼26层2611号房产(88.47㎡)-2层184车位评估报告.pdf https://storage.jd.com/auction.gateway/220d9514e6894cb092329badf3a0c57120180815135104151.pdf\n"
     ]
    },
    {
     "name": "stderr",
     "output_type": "stream",
     "text": [
      "  8%|▊         | 54/665 [03:12<37:10,  3.65s/it]"
     ]
    },
    {
     "name": "stdout",
     "output_type": "stream",
     "text": [
      "【变卖】北京市朝阳区弘善家园314号楼506号（41.06㎡） https://paimai.jd.com/106336908\n",
      "北京市朝阳区弘善家园314号楼506号.pdf https://storage.jd.com/auction.gateway/4c557013436b1331d69308e743a925dd20180704171309072.pdf\n"
     ]
    },
    {
     "name": "stderr",
     "output_type": "stream",
     "text": [
      "\r",
      "  8%|▊         | 55/665 [03:16<36:57,  3.64s/it]"
     ]
    },
    {
     "name": "stdout",
     "output_type": "stream",
     "text": [
      "【变卖】北京市朝阳区农展馆南路9号院2号楼1203号（134.55㎡） https://paimai.jd.com/106336634\n",
      "农展馆评估报告.pdf https://storage.jd.com/auction.gateway/2e7e89ecda6ce7d1e38c1583aa123f7720180704165728752.pdf\n"
     ]
    },
    {
     "name": "stderr",
     "output_type": "stream",
     "text": [
      "\r",
      "  8%|▊         | 56/665 [03:18<33:26,  3.29s/it]"
     ]
    },
    {
     "name": "stdout",
     "output_type": "stream",
     "text": [
      "【一拍】北京市丰台区泉湖西路1号院一区4号楼-1至3层1单元1018号(445.87㎡) https://paimai.jd.com/106653034\n",
      "北京市丰台区泉湖西路1号院一区4号楼-1至3层1单元1018号评估报告.pdf https://storage.jd.com/auction.gateway/bf4cc572bbf839cf8aa3b90bafbe2dd020180808152156765.pdf\n"
     ]
    },
    {
     "name": "stderr",
     "output_type": "stream",
     "text": [
      "\r",
      "  9%|▊         | 57/665 [03:22<35:11,  3.47s/it]"
     ]
    },
    {
     "name": "stdout",
     "output_type": "stream",
     "text": [
      "【一拍】北京市海淀区德惠路1号院23号楼4层1单元528号(181.14㎡) https://paimai.jd.com/106652977\n",
      "北京市海淀区德惠路1号院23号楼4层1单元528号房屋评估报告.pdf https://storage.jd.com/auction.gateway/8e7e3139957cd177acf6783c48fe8a6320180808151628896.pdf\n"
     ]
    },
    {
     "name": "stderr",
     "output_type": "stream",
     "text": [
      "\r",
      "  9%|▊         | 58/665 [03:25<33:12,  3.28s/it]"
     ]
    },
    {
     "name": "stdout",
     "output_type": "stream",
     "text": [
      "【一拍】北京市朝阳区百子湾西里109号楼2单元1902 https://paimai.jd.com/106674154\n",
      "金都杭城法院项目评估报告109号楼2单元1902.pdf https://storage.jd.com/auction.gateway/8d1e1c672669f349b95a9f60fddc919a20180810173131502.pdf\n"
     ]
    },
    {
     "name": "stderr",
     "output_type": "stream",
     "text": [
      "\r",
      "  9%|▉         | 59/665 [03:28<34:23,  3.40s/it]"
     ]
    },
    {
     "name": "stdout",
     "output_type": "stream",
     "text": [
      "裁定695.pdf https://storage.jd.com/auction.gateway/f607614d894636ed0b279de94ff6c0c120180810173131578.pdf\n",
      "【一拍】北京市经济技术开发区荣京东街3号1幢9层2单元706室 https://paimai.jd.com/106638324\n",
      "荣京东街评估报告.zip https://storage.jd.com/auction.gateway/d5a49fec9e439c1d36ca9214f5a063ac20180807094645278.zip\n",
      "0.zip https://storage.jd.com/auction.gateway/b5ca7b5ed36fb00a7483b021a4b6456b20180807094645286.zip\n"
     ]
    },
    {
     "name": "stderr",
     "output_type": "stream",
     "text": [
      "\r",
      "  9%|▉         | 60/665 [03:31<30:47,  3.05s/it]"
     ]
    },
    {
     "name": "stdout",
     "output_type": "stream",
     "text": [
      "【一拍】北京市通州区漷兴北大街46号院7号楼7单元402号房屋 https://paimai.jd.com/106644125\n",
      "结果报告.docx https://storage.jd.com/auction.gateway/6221d469accd2e8b452572e19fe94abe20180807152215334.docx\n"
     ]
    },
    {
     "name": "stderr",
     "output_type": "stream",
     "text": [
      "\r",
      "  9%|▉         | 61/665 [03:34<30:27,  3.03s/it]"
     ]
    },
    {
     "name": "stdout",
     "output_type": "stream",
     "text": [
      "【一拍】北京市通州区漷兴北大街46号院7号楼7单元501号房屋 https://paimai.jd.com/106643337\n",
      "结果报告.docx https://storage.jd.com/auction.gateway/75366e0cf4becafa982b1f0e35a2135620180807144302755.docx\n"
     ]
    },
    {
     "name": "stderr",
     "output_type": "stream",
     "text": [
      "\r",
      "  9%|▉         | 62/665 [03:36<28:35,  2.85s/it]"
     ]
    },
    {
     "name": "stdout",
     "output_type": "stream",
     "text": [
      "【一拍】北京市通州区漷兴北大街46号院7号楼7单元301号房屋 https://paimai.jd.com/106640284\n",
      "结果报告.docx https://storage.jd.com/auction.gateway/365f15f09de5780e71e78862682c951120180807113710102.docx\n"
     ]
    },
    {
     "name": "stderr",
     "output_type": "stream",
     "text": [
      " 10%|▉         | 64/665 [03:45<37:17,  3.72s/it]"
     ]
    },
    {
     "name": "stdout",
     "output_type": "stream",
     "text": [
      "【一拍】北京市通州区漷兴北大街46号院7号楼7单元101号房屋 https://paimai.jd.com/106639271\n",
      "结果报告.docx https://storage.jd.com/auction.gateway/42f1f5db1a6bd75f2ebc3643b8909e2920180807111707321.docx\n"
     ]
    },
    {
     "name": "stderr",
     "output_type": "stream",
     "text": [
      "\r",
      " 10%|▉         | 65/665 [03:48<33:35,  3.36s/it]"
     ]
    },
    {
     "name": "stdout",
     "output_type": "stream",
     "text": [
      "【一拍】北京市通州区漷兴北大街46号院7号楼7单元602号房屋 https://paimai.jd.com/106644956\n",
      "结果报告.docx https://storage.jd.com/auction.gateway/d3a730bf92c5b54fa0a00b83285e4bb520180807161719612.docx\n"
     ]
    },
    {
     "name": "stderr",
     "output_type": "stream",
     "text": [
      "\r",
      " 10%|▉         | 66/665 [03:50<30:25,  3.05s/it]"
     ]
    },
    {
     "name": "stdout",
     "output_type": "stream",
     "text": [
      "【一拍】北京市通州区漷兴北大街46号院2号楼3单元101号 https://paimai.jd.com/106644296\n",
      "结果报告.docx https://storage.jd.com/auction.gateway/f16913b340b1c471acd93bb9ac8b3bd920180807153346906.docx\n"
     ]
    },
    {
     "name": "stderr",
     "output_type": "stream",
     "text": [
      "\r",
      " 10%|█         | 67/665 [03:54<32:07,  3.22s/it]"
     ]
    },
    {
     "name": "stdout",
     "output_type": "stream",
     "text": [
      "【一拍】北京市通州区漷兴北大街46号院7号楼7单元201号房屋 https://paimai.jd.com/106639784\n",
      "结果报告.docx https://storage.jd.com/auction.gateway/5a886523284054ccf99467de0014910220180807111309450.docx\n"
     ]
    },
    {
     "name": "stderr",
     "output_type": "stream",
     "text": [
      "\r",
      " 10%|█         | 68/665 [03:56<29:50,  3.00s/it]"
     ]
    },
    {
     "name": "stdout",
     "output_type": "stream",
     "text": [
      "【一拍】北京市通州区漷兴北大街46号院2号楼3单元202号 https://paimai.jd.com/106644133\n",
      "结果报告.docx https://storage.jd.com/auction.gateway/c1dad68770f5934e474595279fb84fce20180807152236795.docx\n"
     ]
    },
    {
     "name": "stderr",
     "output_type": "stream",
     "text": [
      "\r",
      " 10%|█         | 69/665 [04:00<31:30,  3.17s/it]"
     ]
    },
    {
     "name": "stdout",
     "output_type": "stream",
     "text": [
      "【一拍】北京市通州区漷兴北大街46号院3号楼2单元102号 https://paimai.jd.com/106643735\n",
      "结果报告.docx https://storage.jd.com/auction.gateway/688ec5fcacfe5fb463dbc258961c249220180807150149372.docx\n"
     ]
    },
    {
     "name": "stderr",
     "output_type": "stream",
     "text": [
      "\r",
      " 11%|█         | 70/665 [04:03<32:00,  3.23s/it]"
     ]
    },
    {
     "name": "stdout",
     "output_type": "stream",
     "text": [
      "【一拍】北京市通州区漷兴北大街46号院2号楼3单元102号 https://paimai.jd.com/106644275\n",
      "结果报告.docx https://storage.jd.com/auction.gateway/85ac0614c7387841fe59d147a6de1c4a20180807153300955.docx\n"
     ]
    },
    {
     "name": "stderr",
     "output_type": "stream",
     "text": [
      "\r",
      " 11%|█         | 71/665 [04:07<32:52,  3.32s/it]"
     ]
    },
    {
     "name": "stdout",
     "output_type": "stream",
     "text": [
      "【一拍】北京市通州区漷兴北大街46号院2号楼2单元301号 https://paimai.jd.com/106644566\n",
      "结果报告.docx https://storage.jd.com/auction.gateway/dd97cc4a454aef695e8186c21cf3884920180807154723768.docx\n"
     ]
    },
    {
     "name": "stderr",
     "output_type": "stream",
     "text": [
      "\r",
      " 11%|█         | 72/665 [04:10<33:42,  3.41s/it]"
     ]
    },
    {
     "name": "stdout",
     "output_type": "stream",
     "text": [
      "【一拍】北京市通州区漷兴北大街46号院3号楼1单元402号 https://paimai.jd.com/106643966\n",
      "结果报告.docx https://storage.jd.com/auction.gateway/08f482eb63094e1fc837726827152dc620180807151227273.docx\n"
     ]
    },
    {
     "name": "stderr",
     "output_type": "stream",
     "text": [
      "\r",
      " 11%|█         | 73/665 [04:14<34:12,  3.47s/it]"
     ]
    },
    {
     "name": "stdout",
     "output_type": "stream",
     "text": [
      "【一拍】北京市通州区漷兴北大街46号院3号楼2单元401号 https://paimai.jd.com/106643630\n",
      "结果报告.docx https://storage.jd.com/auction.gateway/07db79c3ee44bfd14cd84a253fbaca1f20180807145648639.docx\n"
     ]
    },
    {
     "name": "stderr",
     "output_type": "stream",
     "text": [
      " 11%|█▏        | 75/665 [04:24<42:37,  4.33s/it]"
     ]
    },
    {
     "name": "stdout",
     "output_type": "stream",
     "text": [
      "【一拍】北京市通州区漷兴北大街46号院7号楼7单元601号房屋 https://paimai.jd.com/106643844\n",
      "结果报告.docx https://storage.jd.com/auction.gateway/d28993b3f563d81235b28ffffcdd926120180807150720169.docx\n"
     ]
    },
    {
     "name": "stderr",
     "output_type": "stream",
     "text": [
      "\r",
      " 11%|█▏        | 76/665 [04:27<39:31,  4.03s/it]"
     ]
    },
    {
     "name": "stdout",
     "output_type": "stream",
     "text": [
      "【一拍】北京市大兴区旧宫镇云龙家园3号楼7层1-702房产(116.07㎡) https://paimai.jd.com/106608158\n",
      "大兴区旧宫镇云龙家园3号楼1-702评估报告.doc https://storage.jd.com/auction.gateway/8ab7ee6eefbf7aa1055bd42a935b893020180828140649299.doc\n"
     ]
    },
    {
     "name": "stderr",
     "output_type": "stream",
     "text": [
      " 12%|█▏        | 78/665 [04:34<38:17,  3.91s/it]"
     ]
    },
    {
     "name": "stdout",
     "output_type": "stream",
     "text": [
      "【一拍】海淀区西钓鱼台嘉园4号楼1层0107号房产和住宅配套房产 https://paimai.jd.com/106611927\n",
      "估价报告.doc https://storage.jd.com/auction.gateway/963bd6a1b3c074eb9c1155f695f2f86820180803184131199.doc\n",
      "执行依据.pdf https://storage.jd.com/auction.gateway/8f7056bcb3d875e1f4d2fac4a0617b0420180803184131936.pdf\n"
     ]
    },
    {
     "name": "stderr",
     "output_type": "stream",
     "text": [
      " 12%|█▏        | 80/665 [04:44<45:02,  4.62s/it]"
     ]
    },
    {
     "name": "stdout",
     "output_type": "stream",
     "text": [
      "【一拍】北京市丰台区程庄南里8号楼1层4单元101号 https://paimai.jd.com/106578220\n",
      "丰台区程庄南里8号楼1层4单元101号.pdf https://storage.jd.com/auction.gateway/706de8226989741615f62476c6bb209020180731095101796.pdf\n"
     ]
    },
    {
     "name": "stderr",
     "output_type": "stream",
     "text": [
      " 12%|█▏        | 82/665 [04:53<43:25,  4.47s/it]"
     ]
    },
    {
     "name": "stdout",
     "output_type": "stream",
     "text": [
      "【一拍】北京市朝阳区大屯路220号3号楼1109号（144.83㎡） https://paimai.jd.com/106569021\n",
      "2018-023-朝阳区大屯路220号3号楼1109（浩运园）.pdf https://storage.jd.com/auction.gateway/6ebbb7a5d88a07b847c22267cedbc22820180730150636755.pdf\n"
     ]
    },
    {
     "name": "stderr",
     "output_type": "stream",
     "text": [
      "\r",
      " 12%|█▏        | 83/665 [04:55<37:38,  3.88s/it]"
     ]
    },
    {
     "name": "stdout",
     "output_type": "stream",
     "text": [
      "【一拍】北京市顺义区安详大街11号院9号楼10层1002 号房地产 https://paimai.jd.com/106568411\n",
      "鄂日晟行房估字[2018]第WH05130号-武汉市中级人民法院（山西九德实业有限公司）.pdf https://storage.jd.com/auction.gateway/b0355cff47bdb0e1b2ea131edd2ab7c620180817103418725.pdf\n"
     ]
    },
    {
     "name": "stderr",
     "output_type": "stream",
     "text": [
      "\r",
      " 13%|█▎        | 84/665 [04:58<35:09,  3.63s/it]"
     ]
    },
    {
     "name": "stdout",
     "output_type": "stream",
     "text": [
      "【一拍】北京市朝阳区西坝河北里18号楼1305号(44.3㎡) https://paimai.jd.com/106507042\n",
      "北京市朝阳区西坝河北里18号楼1305号评估报告.pdf https://storage.jd.com/auction.gateway/f0d6e35c69aa5ff94797f3d06d80ca5820180817145128585.pdf\n"
     ]
    },
    {
     "name": "stderr",
     "output_type": "stream",
     "text": [
      "\r",
      " 13%|█▎        | 85/665 [05:01<33:14,  3.44s/it]"
     ]
    },
    {
     "name": "stdout",
     "output_type": "stream",
     "text": [
      "【一拍】北京市房山区阎村镇云栖苑1号楼8层2单元801 https://paimai.jd.com/106526958\n",
      "【结果报告】云栖苑1号楼2-801.pdf https://storage.jd.com/auction.gateway/90d1ae521b41821bbdf655793972ef3720180725190654710.pdf\n"
     ]
    },
    {
     "name": "stderr",
     "output_type": "stream",
     "text": [
      " 13%|█▎        | 87/665 [05:10<37:51,  3.93s/it]"
     ]
    },
    {
     "name": "stdout",
     "output_type": "stream",
     "text": [
      "【一拍】北京市东城区广渠家园23楼20层1单元2009号 https://paimai.jd.com/106515223\n",
      "结果报告模版.docx https://storage.jd.com/auction.gateway/321ab73bb29cba49fa1de96e1890fbbb20180724204102782.docx\n"
     ]
    },
    {
     "name": "stderr",
     "output_type": "stream",
     "text": [
      "\r",
      " 13%|█▎        | 88/665 [05:12<32:15,  3.35s/it]"
     ]
    },
    {
     "name": "stdout",
     "output_type": "stream",
     "text": [
      "【二拍】北京市东城区广渠门北里甲乙73号2号楼8层住宅房地产 https://paimai.jd.com/106628141\n",
      "4315，4157执行依据.docx https://storage.jd.com/auction.gateway/3c56fed5ff9173d8bcb4da7dd70488c420180806104813537.docx\n",
      "2018-Z020-东城区广渠门北里甲乙73号2号楼6、7、8层.pdf https://storage.jd.com/auction.gateway/a1792c0c160621361488d77aaae2a74c20180806104813541.pdf\n"
     ]
    },
    {
     "name": "stderr",
     "output_type": "stream",
     "text": [
      "\r",
      " 13%|█▎        | 89/665 [05:14<29:59,  3.12s/it]"
     ]
    },
    {
     "name": "stdout",
     "output_type": "stream",
     "text": [
      "【二拍】北京市东城区广渠门北里甲乙73号2号楼7层住宅房地产 https://paimai.jd.com/106628055\n",
      "4315，4157执行依据.docx https://storage.jd.com/auction.gateway/368fb52957b1c6c03fcd81d6d2ab94a320180806103753105.docx\n",
      "2018-Z020-东城区广渠门北里甲乙73号2号楼6、7、8层.pdf https://storage.jd.com/auction.gateway/333604ec9a74555be669383d6930880e20180806103753117.pdf\n"
     ]
    },
    {
     "name": "stderr",
     "output_type": "stream",
     "text": [
      "\r",
      " 14%|█▎        | 90/665 [05:17<30:08,  3.15s/it]"
     ]
    },
    {
     "name": "stdout",
     "output_type": "stream",
     "text": [
      "【一拍】北京市朝阳区南湖中园227号楼2层5单元201号（68㎡） https://paimai.jd.com/106461660\n",
      "南湖中园评估报告1.pdf https://storage.jd.com/auction.gateway/ed14347f805db3b341af755cdca6c2c920180718171347953.pdf\n",
      "新文档+2018-07-18+16.35.53_20180718163602.pdf https://storage.jd.com/auction.gateway/b88586f453a6e3c557753a69a8af174520180718171347960.pdf\n"
     ]
    },
    {
     "name": "stderr",
     "output_type": "stream",
     "text": [
      "\r",
      " 14%|█▎        | 91/665 [05:20<29:38,  3.10s/it]"
     ]
    },
    {
     "name": "stdout",
     "output_type": "stream",
     "text": [
      "【二拍】北京市海淀区学清路16号学知园4号楼1803号（243.70㎡） https://paimai.jd.com/106510776\n",
      "3117学知园(结果）.docx https://storage.jd.com/auction.gateway/2c6b8de742bb1a5b49966f0557747bda20180724152357682.docx\n"
     ]
    },
    {
     "name": "stderr",
     "output_type": "stream",
     "text": [
      "\r",
      " 14%|█▍        | 92/665 [05:22<26:43,  2.80s/it]"
     ]
    },
    {
     "name": "stdout",
     "output_type": "stream",
     "text": [
      "【一拍】北京市朝阳区广和南里二条16号院1号楼19层1906号（173.26㎡） https://paimai.jd.com/106465439\n",
      "法院结果报告.pdf https://storage.jd.com/auction.gateway/058012aced60afe28c00aec4d9ba3c1e20180719123142599.pdf\n"
     ]
    },
    {
     "name": "stderr",
     "output_type": "stream",
     "text": [
      "\r",
      " 14%|█▍        | 93/665 [05:27<31:45,  3.33s/it]"
     ]
    },
    {
     "name": "stdout",
     "output_type": "stream",
     "text": [
      "【一拍】北京市通州区翠景南里东区1号楼4单元491房屋 https://paimai.jd.com/106406839\n",
      "翠景南里东区1号楼.pdf https://storage.jd.com/auction.gateway/9c6696a43fb6891264f490eef14a4eb720180713120502845.pdf\n"
     ]
    },
    {
     "name": "stderr",
     "output_type": "stream",
     "text": [
      "\r",
      " 14%|█▍        | 94/665 [05:30<30:13,  3.18s/it]"
     ]
    },
    {
     "name": "stdout",
     "output_type": "stream",
     "text": [
      "【二拍】北京市朝阳区安华里五区19号楼16层1604（142.18㎡） https://paimai.jd.com/106565542\n",
      "北京市朝阳区安华里五区19号楼16层1604房地产价格评估.pdf https://storage.jd.com/auction.gateway/d59a5f42b7444f191a22b76af94288f720180730114153902.pdf\n"
     ]
    },
    {
     "name": "stderr",
     "output_type": "stream",
     "text": [
      "\r",
      " 14%|█▍        | 95/665 [05:33<29:06,  3.06s/it]"
     ]
    },
    {
     "name": "stdout",
     "output_type": "stream",
     "text": [
      "【二拍】北京市朝阳区十里堡54号楼2单元4层23、24号房屋（55.99㎡） https://paimai.jd.com/106524849\n",
      "北京市朝阳区十里堡54 号楼 4层 2单元 23 、 24 号评估报告.pdf https://storage.jd.com/auction.gateway/0fa559a371e0fe3320592a36c086744b20180725162647554.pdf\n"
     ]
    },
    {
     "name": "stderr",
     "output_type": "stream",
     "text": [
      "\r",
      " 14%|█▍        | 96/665 [05:37<31:13,  3.29s/it]"
     ]
    },
    {
     "name": "stdout",
     "output_type": "stream",
     "text": [
      "【一拍】北京市通州区葛布店北里21号楼5单元574房屋 https://paimai.jd.com/106405910\n",
      "葛布店.pdf https://storage.jd.com/auction.gateway/e7f732b2d3c94e3f2a6f011a293cc61820180713120209919.pdf\n"
     ]
    },
    {
     "name": "stderr",
     "output_type": "stream",
     "text": [
      "\r",
      " 15%|█▍        | 97/665 [05:40<31:31,  3.33s/it]"
     ]
    },
    {
     "name": "stdout",
     "output_type": "stream",
     "text": [
      "【二拍】北京市朝阳区北苑路172号万兴苑16号楼18层1806号（181.43㎡） https://paimai.jd.com/106538264\n",
      "朝阳区北苑路172号.docx https://storage.jd.com/auction.gateway/676c8a70d945a68356f66b13132afd3e20180727095201297.docx\n"
     ]
    },
    {
     "name": "stderr",
     "output_type": "stream",
     "text": [
      "\r",
      " 15%|█▍        | 98/665 [05:43<30:53,  3.27s/it]"
     ]
    },
    {
     "name": "stdout",
     "output_type": "stream",
     "text": [
      "【一拍】北京市通州区翠景南里西区1号楼5单元5111房屋 https://paimai.jd.com/106407090\n",
      "翠景南里西区.pdf https://storage.jd.com/auction.gateway/1ea67106a3943fa12f188fd6b7cfb8bf20180713115706552.pdf\n"
     ]
    },
    {
     "name": "stderr",
     "output_type": "stream",
     "text": [
      "\r",
      " 15%|█▍        | 99/665 [05:47<31:23,  3.33s/it]"
     ]
    },
    {
     "name": "stdout",
     "output_type": "stream",
     "text": [
      "【一拍】北京市西城区槐柏树街11号楼6层⑨-602 https://paimai.jd.com/106479641\n",
      "住宅——北京市西城区槐柏树街 11 号楼 6 层⑨-602.pdf https://storage.jd.com/auction.gateway/851666d1118cf50393e634f90cc08cf220180807092204746.pdf\n"
     ]
    },
    {
     "name": "stderr",
     "output_type": "stream",
     "text": [
      "\r",
      " 15%|█▌        | 100/665 [05:51<34:16,  3.64s/it]"
     ]
    },
    {
     "name": "stdout",
     "output_type": "stream",
     "text": [
      "【一拍】北京市昌平区东小口镇陈营村北5号楼5单元6层602号（63.02平方米） https://paimai.jd.com/106411954\n",
      "昌平区东小口镇陈营村北5号楼5单元6层602房屋评估报告.pdf https://storage.jd.com/auction.gateway/352dfaa61b51afc609b62eb58de2937d20180717145540820.pdf\n"
     ]
    },
    {
     "name": "stderr",
     "output_type": "stream",
     "text": [
      "\r",
      " 15%|█▌        | 101/665 [05:55<36:27,  3.88s/it]"
     ]
    },
    {
     "name": "stdout",
     "output_type": "stream",
     "text": [
      "【一拍】北京市西城区莲花河胡同1号院1号楼7层3单元802 https://paimai.jd.com/106479614\n",
      "住宅——北京市西城区莲花河胡同1号院1号楼7层3单元802.pdf https://storage.jd.com/auction.gateway/d3ccecdb133f76130fd8210fcf2e7c1f20180814110911757.pdf\n"
     ]
    },
    {
     "name": "stderr",
     "output_type": "stream",
     "text": [
      "\r",
      " 15%|█▌        | 102/665 [05:59<36:52,  3.93s/it]"
     ]
    },
    {
     "name": "stdout",
     "output_type": "stream",
     "text": [
      "【一拍】北京市朝阳区日坛北路17号院2号楼9层5单元906号（65.88㎡） https://paimai.jd.com/106434826\n",
      "朝阳区日坛北路17号院2号楼9层5单元906（估价报告）.pdf https://storage.jd.com/auction.gateway/2d5d49cf3720cf256abb4560b6c1c27320180717145735040.pdf\n"
     ]
    },
    {
     "name": "stderr",
     "output_type": "stream",
     "text": [
      "\r",
      " 15%|█▌        | 103/665 [06:03<34:48,  3.72s/it]"
     ]
    },
    {
     "name": "stdout",
     "output_type": "stream",
     "text": [
      "【一拍】北京市朝阳区定福庄北街23号院5号楼一单元503号（98.89㎡） https://paimai.jd.com/106434802\n",
      "定福庄北街23-5-503.pdf https://storage.jd.com/auction.gateway/aae70816700ac0e475210d83e547811320180716121212925.pdf\n"
     ]
    },
    {
     "name": "stderr",
     "output_type": "stream",
     "text": [
      "\r",
      " 16%|█▌        | 104/665 [06:06<34:17,  3.67s/it]"
     ]
    },
    {
     "name": "stdout",
     "output_type": "stream",
     "text": [
      "【一拍】北京市朝阳区望京北路39号院5号楼3层3A号（109.94㎡） https://paimai.jd.com/106411388\n",
      "2018A041朝阳区望京北路39号院5号楼3A号房屋房地产价值评估.pdf https://storage.jd.com/auction.gateway/ab057c5cfad211fe08f0a87b33363bc320180713115648419.pdf\n"
     ]
    },
    {
     "name": "stderr",
     "output_type": "stream",
     "text": [
      "\r",
      " 16%|█▌        | 105/665 [06:11<37:50,  4.05s/it]"
     ]
    },
    {
     "name": "stdout",
     "output_type": "stream",
     "text": [
      "【一拍】北京市朝阳区兴隆西街8号院3号楼904号（104.24㎡） https://paimai.jd.com/106406211\n",
      "2016涉朝阳兴隆西街8号院（美丽亚洲假日花园）结果报告(1).doc https://storage.jd.com/auction.gateway/55c535cf087196792ee6a4596935617420180712155653183.doc\n"
     ]
    },
    {
     "name": "stderr",
     "output_type": "stream",
     "text": [
      "\r",
      " 16%|█▌        | 106/665 [06:15<36:41,  3.94s/it]"
     ]
    },
    {
     "name": "stdout",
     "output_type": "stream",
     "text": [
      "【一拍】北京市朝阳区兴隆西街8号院3号楼903号（149.19㎡） https://paimai.jd.com/106406088\n",
      "2016涉朝阳兴隆西街8号院（美丽亚洲假日花园）结果报告(1).doc https://storage.jd.com/auction.gateway/87c616570ae9765eae8fd0b72737e32320180712155209220.doc\n"
     ]
    },
    {
     "name": "stderr",
     "output_type": "stream",
     "text": [
      "\r",
      " 16%|█▌        | 107/665 [06:17<32:25,  3.49s/it]"
     ]
    },
    {
     "name": "stdout",
     "output_type": "stream",
     "text": [
      "【一拍】北京市朝阳区花家地20号楼3层2-303号（50.56㎡） https://paimai.jd.com/106399721\n",
      "花家地20号楼报告.pdf https://storage.jd.com/auction.gateway/90ee140f887a0027b8ab3ecdfd76722220180711162401696.pdf\n"
     ]
    },
    {
     "name": "stderr",
     "output_type": "stream",
     "text": [
      "\r",
      " 16%|█▌        | 108/665 [06:20<31:09,  3.36s/it]"
     ]
    },
    {
     "name": "stdout",
     "output_type": "stream",
     "text": [
      "【一拍】北京市朝阳区望京东园六区601号楼6单元1002号（81.70㎡） https://paimai.jd.com/106399748\n",
      "望京东园六区报告.pdf https://storage.jd.com/auction.gateway/c538dbc72fc0dfff7a3dd2f048d26a6720180711162535610.pdf\n"
     ]
    },
    {
     "name": "stderr",
     "output_type": "stream",
     "text": [
      "\r",
      " 16%|█▋        | 109/665 [06:23<29:02,  3.13s/it]"
     ]
    },
    {
     "name": "stdout",
     "output_type": "stream",
     "text": [
      "【一拍】北京市房山区燕山东风南里16号楼1层3-101 https://paimai.jd.com/106460969\n",
      "东风南里评估报告.pdf https://storage.jd.com/auction.gateway/86479a490e354ccf0f478a98622a4c3a20180718162035699.pdf\n"
     ]
    },
    {
     "name": "stderr",
     "output_type": "stream",
     "text": [
      "\r",
      " 17%|█▋        | 110/665 [06:26<28:08,  3.04s/it]"
     ]
    },
    {
     "name": "stdout",
     "output_type": "stream",
     "text": [
      "【一拍】北京市海淀区远大园五区12号楼2单元2层2C房屋（212.49㎡） https://paimai.jd.com/106405869\n",
      "结果报告-远大园五区.pdf https://storage.jd.com/auction.gateway/f227cc9b4e62fcde09c282d3db04c25920180712154037121.pdf\n"
     ]
    },
    {
     "name": "stderr",
     "output_type": "stream",
     "text": [
      "\r",
      " 17%|█▋        | 111/665 [06:28<25:40,  2.78s/it]"
     ]
    },
    {
     "name": "stdout",
     "output_type": "stream",
     "text": [
      "【一拍】北京市昌平区回龙观镇龙跃苑三区1号楼6层2单元601号（143.71㎡） https://paimai.jd.com/106406091\n",
      "3035龙跃苑三区结果.docx https://storage.jd.com/auction.gateway/2ab1ec998af9cefc4600bbdc607d9a1120180712155214241.docx\n"
     ]
    },
    {
     "name": "stderr",
     "output_type": "stream",
     "text": [
      "\r",
      " 17%|█▋        | 112/665 [06:30<23:27,  2.55s/it]"
     ]
    },
    {
     "name": "stdout",
     "output_type": "stream",
     "text": [
      "【一拍】北京市朝阳区兴隆西街8号院4号楼8层806号（134.02㎡） https://paimai.jd.com/106406106\n",
      "扫描2018涉028朝阳区兴隆西街8号院4号楼806.pdf https://storage.jd.com/auction.gateway/36670b79810ae693a07580e322ebc1a120180712155252618.pdf\n"
     ]
    },
    {
     "name": "stderr",
     "output_type": "stream",
     "text": [
      "\r",
      " 17%|█▋        | 113/665 [06:34<28:00,  3.05s/it]"
     ]
    },
    {
     "name": "stdout",
     "output_type": "stream",
     "text": [
      "【二拍】北京市通州区云景东路15号1号楼1层0103号 https://paimai.jd.com/106588785\n",
      "云景东里报告.docx https://storage.jd.com/auction.gateway/3b56e66f2ebb7ba1dd9e17871b72fca020180801104217307.docx\n"
     ]
    },
    {
     "name": "stderr",
     "output_type": "stream",
     "text": [
      " 17%|█▋        | 115/665 [06:45<38:58,  4.25s/it]"
     ]
    },
    {
     "name": "stdout",
     "output_type": "stream",
     "text": [
      "【变卖】北京市朝阳区东三环南路58号4号楼1107号房屋 https://paimai.jd.com/106063985\n",
      "朝阳东三环南路58号4号楼1107号-评估报告.pdf https://storage.jd.com/auction.gateway/e340e5d969ed88888a25b532053802a320180604112555620.pdf\n"
     ]
    },
    {
     "name": "stderr",
     "output_type": "stream",
     "text": [
      "\r",
      " 17%|█▋        | 116/665 [06:47<33:26,  3.65s/it]"
     ]
    },
    {
     "name": "stdout",
     "output_type": "stream",
     "text": [
      "【一拍】北京市海淀区双清路14号院2号楼5层1单元151号（90.60㎡） https://paimai.jd.com/106387233\n",
      "2017A049海淀区双清路14号院2号楼1单元151号房屋房地产价值评估.pdf https://storage.jd.com/auction.gateway/70189408136dbb26e9ea54b68435862d20180710110836226.pdf\n"
     ]
    },
    {
     "name": "stderr",
     "output_type": "stream",
     "text": [
      "\r",
      " 18%|█▊        | 117/665 [06:51<32:35,  3.57s/it]"
     ]
    },
    {
     "name": "stdout",
     "output_type": "stream",
     "text": [
      "【一拍】位于北京市朝阳区黄杉木店路186号富华家园3号楼20层2001号不动产 https://paimai.jd.com/106405155\n",
      "02053 长安区人民法院法院 河北鑫东工程项目管理咨询有限公司申请执行黄建国北京富华家园房产评估报告.doc https://storage.jd.com/auction.gateway/c7daead05f3e547e10b9426ff204cce620180712145314103.doc\n"
     ]
    },
    {
     "name": "stderr",
     "output_type": "stream",
     "text": [
      "\r",
      " 18%|█▊        | 118/665 [06:53<29:23,  3.22s/it]"
     ]
    },
    {
     "name": "stdout",
     "output_type": "stream",
     "text": [
      "【一拍】北京市丰台区丰葆路168号北京国际花园102号1至2层全部 https://paimai.jd.com/106406444\n",
      "估价报告-北京国际花园.doc https://storage.jd.com/auction.gateway/5e42a66f9d17ccb94a40e3702089eced20180716121404793.doc\n"
     ]
    },
    {
     "name": "stderr",
     "output_type": "stream",
     "text": [
      "\r",
      " 18%|█▊        | 119/665 [06:56<27:17,  3.00s/it]"
     ]
    },
    {
     "name": "stdout",
     "output_type": "stream",
     "text": [
      "【一拍】北京市密云县兴盛北路13号院10号楼3层1单元301室 https://paimai.jd.com/106400304\n",
      "密云县兴盛北路报告 .pdf https://storage.jd.com/auction.gateway/ef64e0d2d81c358483703a182870b50620180712090145233.pdf\n"
     ]
    },
    {
     "name": "stderr",
     "output_type": "stream",
     "text": [
      " 18%|█▊        | 121/665 [07:05<35:26,  3.91s/it]"
     ]
    },
    {
     "name": "stdout",
     "output_type": "stream",
     "text": [
      "【一拍】北京市海淀区曙光花园望河园6号楼13层②-1602号（171.66㎡） https://paimai.jd.com/106341571\n",
      "海淀区曙光花园望河园6号楼13层②-1602号住宅用房房地产评估报告.pdf https://storage.jd.com/auction.gateway/12a0e3ad8df95a5b9bd307846ae961e920180705102117529.pdf\n"
     ]
    },
    {
     "name": "stderr",
     "output_type": "stream",
     "text": [
      "\r",
      " 18%|█▊        | 122/665 [07:07<30:54,  3.42s/it]"
     ]
    },
    {
     "name": "stdout",
     "output_type": "stream",
     "text": [
      "【一拍】北京市房山区西潞园四里9号楼4单元202房产 https://paimai.jd.com/106385747\n",
      "（北京）华信（2017）（估）字第00855号良乡西潞园终稿出.pdf https://storage.jd.com/auction.gateway/ffa959455ec06f80a03abb8231a8bd3f20180710093452304.pdf\n"
     ]
    },
    {
     "name": "stderr",
     "output_type": "stream",
     "text": [
      "\r",
      " 18%|█▊        | 123/665 [07:12<33:14,  3.68s/it]"
     ]
    },
    {
     "name": "stdout",
     "output_type": "stream",
     "text": [
      "【一拍】北京市海淀区安宁庄西路9号院9号楼4层1门406房 https://paimai.jd.com/106326090\n",
      "评估报告.doc https://storage.jd.com/auction.gateway/73ed9144b3983060868aef9d3733c95920180720155453328.doc\n"
     ]
    },
    {
     "name": "stderr",
     "output_type": "stream",
     "text": [
      " 19%|█▉        | 125/665 [07:20<35:56,  3.99s/it]"
     ]
    },
    {
     "name": "stdout",
     "output_type": "stream",
     "text": [
      "【一拍】北京市朝阳区惠新里242号楼1层101号（58.75㎡） https://paimai.jd.com/106269568\n",
      "惠新里报告.pdf https://storage.jd.com/auction.gateway/0fc1f89f354dca9132a0cd373e5e94f820180627163803690.pdf\n"
     ]
    },
    {
     "name": "stderr",
     "output_type": "stream",
     "text": [
      "\r",
      " 19%|█▉        | 126/665 [07:24<36:31,  4.07s/it]"
     ]
    },
    {
     "name": "stdout",
     "output_type": "stream",
     "text": [
      "【一拍】北京市朝阳区安立路56号院1号楼8层0807号房屋（75.15㎡） https://paimai.jd.com/106289306\n",
      "朝阳区安立路56号院1号楼8层0807号（2018-110）.pdf https://storage.jd.com/auction.gateway/decb1e8804e52b9691879b12e011ee2a20180629152627205.pdf\n"
     ]
    },
    {
     "name": "stderr",
     "output_type": "stream",
     "text": [
      "\r",
      " 19%|█▉        | 127/665 [07:29<37:20,  4.17s/it]"
     ]
    },
    {
     "name": "stdout",
     "output_type": "stream",
     "text": [
      "【一拍】北京市大兴区黄村镇黄村西里19号楼4-102 https://paimai.jd.com/106288454\n",
      "黄村西里.pdf https://storage.jd.com/auction.gateway/e3f60a362fb4c1e28643ab75194b81d020180629143238617.pdf\n"
     ]
    },
    {
     "name": "stderr",
     "output_type": "stream",
     "text": [
      " 19%|█▉        | 129/665 [07:39<41:06,  4.60s/it]"
     ]
    },
    {
     "name": "stdout",
     "output_type": "stream",
     "text": [
      "【二拍】北京市朝阳区百子湾路16号百子园2号楼9层A单元908号（45.43平方米） https://paimai.jd.com/106346515\n",
      "百子园2号楼报告.docx https://storage.jd.com/auction.gateway/91b042292b3eae8afb7075d59439409620180705171629120.docx\n"
     ]
    },
    {
     "name": "stderr",
     "output_type": "stream",
     "text": [
      " 20%|█▉        | 131/665 [07:47<39:16,  4.41s/it]"
     ]
    },
    {
     "name": "stdout",
     "output_type": "stream",
     "text": [
      "【一拍】北京市丰台区莲香园16号楼10层1005号 https://paimai.jd.com/106285872\n",
      "莲香园报告.pdf https://storage.jd.com/auction.gateway/65addb0dbe56b60aa9a9988f7ffd862f20180629110417915.pdf\n",
      "执行裁定.docx https://storage.jd.com/auction.gateway/89260b4bc708537e1fe542706fb1961320180629110418043.docx\n"
     ]
    },
    {
     "name": "stderr",
     "output_type": "stream",
     "text": [
      "\r",
      " 20%|█▉        | 132/665 [07:51<38:50,  4.37s/it]"
     ]
    },
    {
     "name": "stdout",
     "output_type": "stream",
     "text": [
      "【二拍】北京市朝阳区北苑路172号万兴苑16号楼18层1806号（181.43㎡） https://paimai.jd.com/106345149\n",
      "朝阳区北苑路172号.docx https://storage.jd.com/auction.gateway/676c8a70d945a68356f66b13132afd3e20180705153815844.docx\n"
     ]
    },
    {
     "name": "stderr",
     "output_type": "stream",
     "text": [
      "\r",
      " 20%|██        | 133/665 [07:54<35:37,  4.02s/it]"
     ]
    },
    {
     "name": "stdout",
     "output_type": "stream",
     "text": [
      "【一拍】北京市顺义区怡馨家园29号楼5单元802室 https://paimai.jd.com/106266556\n",
      "怡馨家园 (2).pdf https://storage.jd.com/auction.gateway/20592ed86b3a157d866841f95b8169b620180627112747374.pdf\n"
     ]
    },
    {
     "name": "stderr",
     "output_type": "stream",
     "text": [
      "\r",
      " 20%|██        | 134/665 [07:59<37:53,  4.28s/it]"
     ]
    },
    {
     "name": "stdout",
     "output_type": "stream",
     "text": [
      "【一拍】北京市昌平区小汤山镇沙顺路68号6-39号1至2层6-39号(272.37㎡) https://paimai.jd.com/106285149\n",
      "纳帕溪谷-土市-结果报告.doc https://storage.jd.com/auction.gateway/97c89d909f2535195c5872c7789e682020180629100311940.doc\n"
     ]
    },
    {
     "name": "stderr",
     "output_type": "stream",
     "text": [
      "\r",
      " 20%|██        | 135/665 [08:01<31:19,  3.55s/it]"
     ]
    },
    {
     "name": "stdout",
     "output_type": "stream",
     "text": [
      "【一拍】北京市朝阳区朝阳路139号院4号楼8层1单元902号（377.47㎡） https://paimai.jd.com/106268826\n",
      "报告—朝阳路139号院.pdf https://storage.jd.com/auction.gateway/6176100c5c00623dd35b9c8e386773b320180627154728098.pdf\n"
     ]
    },
    {
     "name": "stderr",
     "output_type": "stream",
     "text": [
      "\r",
      " 20%|██        | 136/665 [08:04<29:59,  3.40s/it]"
     ]
    },
    {
     "name": "stdout",
     "output_type": "stream",
     "text": [
      "【二拍】北京市宣武区陶然亭路2号2号楼8层1-8-802号住宅房屋（273.90㎡） https://paimai.jd.com/106313827\n",
      "结果报告.compressed.pdf https://storage.jd.com/auction.gateway/cf5aecc8eebf97574493af7e877c452420180702162722854.pdf\n"
     ]
    },
    {
     "name": "stderr",
     "output_type": "stream",
     "text": [
      "\r",
      " 21%|██        | 137/665 [08:07<28:29,  3.24s/it]"
     ]
    },
    {
     "name": "stdout",
     "output_type": "stream",
     "text": [
      "【变卖】北京市昌平区昌平镇西环里小区40号楼5层505号房地产 https://paimai.jd.com/105864494\n",
      "昌平区昌平镇西环里小区40号楼5层505号.pdf https://storage.jd.com/auction.gateway/629867d3eda21cdc744065c9657d6b7f20180514184622830.pdf\n"
     ]
    },
    {
     "name": "stderr",
     "output_type": "stream",
     "text": [
      " 21%|██        | 140/665 [08:23<41:56,  4.79s/it]"
     ]
    },
    {
     "name": "stdout",
     "output_type": "stream",
     "text": [
      "【一拍】北京市朝阳区广渠路21号金海国际9号楼5单元1003号 https://paimai.jd.com/106221630\n",
      "朝阳区广渠路21号9号楼5单元1003号房屋价值评估.pdf https://storage.jd.com/auction.gateway/f5e2fafde32d5890a24ca61d3b73830a20180621143645913.pdf\n"
     ]
    },
    {
     "name": "stderr",
     "output_type": "stream",
     "text": [
      "\r",
      " 21%|██        | 141/665 [08:25<35:40,  4.08s/it]"
     ]
    },
    {
     "name": "stdout",
     "output_type": "stream",
     "text": [
      "【一拍】北京市东城区广渠门北里甲乙73号2号楼8层住宅房地产 https://paimai.jd.com/106217226\n",
      "2018-Z020-东城区广渠门北里甲乙73号2号楼6、7、8层.pdf https://storage.jd.com/auction.gateway/a1792c0c160621361488d77aaae2a74c20180622101728909.pdf\n",
      "4315，4157执行依据.docx https://storage.jd.com/auction.gateway/3c56fed5ff9173d8bcb4da7dd70488c420180622101728902.docx\n"
     ]
    },
    {
     "name": "stderr",
     "output_type": "stream",
     "text": [
      "\r",
      " 21%|██▏       | 142/665 [08:29<33:49,  3.88s/it]"
     ]
    },
    {
     "name": "stdout",
     "output_type": "stream",
     "text": [
      "【一拍】北京市石景山区西黄新村西里17号楼5层509号房地产 https://paimai.jd.com/106217252\n",
      "雍景双庐评估报告509.pdf https://storage.jd.com/auction.gateway/ab65ff6569c884d721769823269846dd20180622102230388.pdf\n",
      "执行裁定3.docx https://storage.jd.com/auction.gateway/d8e29e5a950965a00128f7df10cddb3b20180622102230378.docx\n"
     ]
    },
    {
     "name": "stderr",
     "output_type": "stream",
     "text": [
      "\r",
      " 22%|██▏       | 143/665 [08:31<30:23,  3.49s/it]"
     ]
    },
    {
     "name": "stdout",
     "output_type": "stream",
     "text": [
      "【一拍】北京市东城区广渠门北里甲乙73号2号楼7层住宅房地产 https://paimai.jd.com/106217223\n",
      "2018-Z020-东城区广渠门北里甲乙73号2号楼6、7、8层.pdf https://storage.jd.com/auction.gateway/333604ec9a74555be669383d6930880e20180622101719681.pdf\n",
      "4315，4157执行依据.docx https://storage.jd.com/auction.gateway/368fb52957b1c6c03fcd81d6d2ab94a320180622101719675.docx\n"
     ]
    },
    {
     "name": "stderr",
     "output_type": "stream",
     "text": [
      "\r",
      " 22%|██▏       | 144/665 [08:35<30:04,  3.46s/it]"
     ]
    },
    {
     "name": "stdout",
     "output_type": "stream",
     "text": [
      "【一拍】北京市石景山区西黄新村西里17号楼4层406号房地产（130.38㎡） https://paimai.jd.com/106217254\n",
      "雍景双庐评估报告406.pdf https://storage.jd.com/auction.gateway/f56a3898eec88a3fdf8a0ca4e82c353d20180622100014295.pdf\n",
      "执行裁定3.docx https://storage.jd.com/auction.gateway/83f8ebb6c57f54088ae2e028632f30f720180622100014292.docx\n"
     ]
    },
    {
     "name": "stderr",
     "output_type": "stream",
     "text": [
      "\r",
      " 22%|██▏       | 145/665 [08:38<30:14,  3.49s/it]"
     ]
    },
    {
     "name": "stdout",
     "output_type": "stream",
     "text": [
      "【一拍】北京市石景山区西黄新村西里17号楼4层409号房地产 https://paimai.jd.com/106217269\n",
      "雍景双庐评估报告409.pdf https://storage.jd.com/auction.gateway/359022317f66eb74f20a47221fbeedf020180622100118064.pdf\n",
      "执行裁定3.docx https://storage.jd.com/auction.gateway/44ca76d6c353dbb2099108a056f445d920180622100118038.docx\n"
     ]
    },
    {
     "name": "stderr",
     "output_type": "stream",
     "text": [
      "\r",
      " 22%|██▏       | 146/665 [08:42<29:57,  3.46s/it]"
     ]
    },
    {
     "name": "stdout",
     "output_type": "stream",
     "text": [
      "【一拍】北京市石景山区西黄新村西里17号楼5层506号房地产 https://paimai.jd.com/106217273\n",
      "执行裁定3.docx https://storage.jd.com/auction.gateway/576d4b63a2a57c3ec7fc7de8ec5f740020180622100140200.docx\n",
      "雍景双庐评估报告506.pdf https://storage.jd.com/auction.gateway/583e4752681ea9cf8fd3bd68ade799fb20180622100140163.pdf\n"
     ]
    },
    {
     "name": "stderr",
     "output_type": "stream",
     "text": [
      "\r",
      " 22%|██▏       | 147/665 [08:45<30:16,  3.51s/it]"
     ]
    },
    {
     "name": "stdout",
     "output_type": "stream",
     "text": [
      "【一拍】北京市朝阳区十里堡北区炫特嘉园5号楼1层101号 https://paimai.jd.com/106214465\n",
      "炫特家园房地产估价报告.docx https://storage.jd.com/auction.gateway/5465a54e948d69ed0f9dd26ca27a035a20180620174847481.docx\n"
     ]
    },
    {
     "name": "stderr",
     "output_type": "stream",
     "text": [
      "\r",
      " 22%|██▏       | 148/665 [08:50<33:00,  3.83s/it]"
     ]
    },
    {
     "name": "stdout",
     "output_type": "stream",
     "text": [
      "【变卖】北京市朝阳区大屯路科学园南里-风林绿洲I甲号楼14层1404号 https://paimai.jd.com/105824831\n",
      "2017A142朝阳区大屯路科学园南里-风林绿洲Ⅰ甲号楼1404号房屋房地产价值评估.pdf https://storage.jd.com/auction.gateway/14f35640ed1b37b06da33f409ba426d720180509142120604.pdf\n"
     ]
    },
    {
     "name": "stderr",
     "output_type": "stream",
     "text": [
      "\r",
      " 22%|██▏       | 149/665 [08:53<32:01,  3.72s/it]"
     ]
    },
    {
     "name": "stdout",
     "output_type": "stream",
     "text": [
      "【二拍】（破产）朝阳公园路9号院2号楼10至11层16单元1101 https://paimai.jd.com/106354001\n",
      "买卖合同.docx https://storage.jd.com/auction.gateway/ATTACHMENT_af10b462cf4e4c94be62912d4a785239.docx\n"
     ]
    },
    {
     "name": "stderr",
     "output_type": "stream",
     "text": [
      "\r",
      " 23%|██▎       | 150/665 [08:55<25:43,  3.00s/it]"
     ]
    },
    {
     "name": "stdout",
     "output_type": "stream",
     "text": [
      "【一拍】北京市房山区阎村镇绿城.百合公寓玉泉苑6号1层2单元102号 https://paimai.jd.com/106166137\n",
      "北京市房山区阎村镇绿城.百合公寓玉泉苑6号1层2单元102号.pdf https://storage.jd.com/auction.gateway/02bb8525809bde0b875a653cb3b610f920180614172315555.pdf\n"
     ]
    },
    {
     "name": "stderr",
     "output_type": "stream",
     "text": [
      "\r",
      " 23%|██▎       | 151/665 [08:58<27:12,  3.18s/it]"
     ]
    },
    {
     "name": "stdout",
     "output_type": "stream",
     "text": [
      "【变卖】北京市朝阳区望京园三区303号楼乙1202号住宅 https://paimai.jd.com/105771810\n",
      "评估报告.pdf https://storage.jd.com/auction.gateway/0f4c5387a65c673158afed6bb3d57afb20180503134057717.pdf\n",
      "（2015）二中执字第1457号.doc https://storage.jd.com/auction.gateway/b5c65115d242f3bff8b814f19cc091a520180503134057749.doc\n"
     ]
    },
    {
     "name": "stderr",
     "output_type": "stream",
     "text": [
      "\r",
      " 23%|██▎       | 152/665 [09:01<25:47,  3.02s/it]"
     ]
    },
    {
     "name": "stdout",
     "output_type": "stream",
     "text": [
      "【一拍】北京市顺义区双兴北区甲7号楼二单元602室以及跃层 https://paimai.jd.com/106157067\n",
      "康正评字2017-1-0675-F01SFZC6号北京市顺义区双兴北区甲7号楼二单元602号及跃层住宅用房房地产市场价值评估.pdf https://storage.jd.com/auction.gateway/4217b06c7d20bf190e5d03df10b13e0320180613141115967.pdf\n"
     ]
    },
    {
     "name": "stderr",
     "output_type": "stream",
     "text": [
      "\r",
      " 23%|██▎       | 153/665 [09:04<26:30,  3.11s/it]"
     ]
    },
    {
     "name": "stdout",
     "output_type": "stream",
     "text": [
      "【二拍】北京市石景山区景阳东街66号院6号楼2单元501住宅用房 https://paimai.jd.com/106285973\n",
      "华源涉案17100号巩金泽（北京景阳东街66号院）.doc https://storage.jd.com/auction.gateway/5f7a493f6e8da49f10a85955ab72b21e20180629111145198.doc\n"
     ]
    },
    {
     "name": "stderr",
     "output_type": "stream",
     "text": [
      "\r",
      " 23%|██▎       | 154/665 [09:07<26:15,  3.08s/it]"
     ]
    },
    {
     "name": "stdout",
     "output_type": "stream",
     "text": [
      "【二拍】北京市石景山区时代花园南路23号院8号楼4层502住宅用房 https://paimai.jd.com/106285146\n",
      "华源涉案17099号巩金泽（北京时代花园南路23号院）.doc https://storage.jd.com/auction.gateway/53905f1ba174b3849c064aff0a26458920180629110738790.doc\n"
     ]
    },
    {
     "name": "stderr",
     "output_type": "stream",
     "text": [
      "\r",
      " 23%|██▎       | 155/665 [09:10<25:34,  3.01s/it]"
     ]
    },
    {
     "name": "stdout",
     "output_type": "stream",
     "text": [
      "【一拍】北京市朝阳区五里桥一街3号院6号楼26层1单元2601号(71.25㎡） https://paimai.jd.com/106088397\n",
      "180154-结果报告-终.pdf https://storage.jd.com/auction.gateway/90cc1acbda6a7b01a6dd9da0cb2f907820180607094625553.pdf\n"
     ]
    },
    {
     "name": "stderr",
     "output_type": "stream",
     "text": [
      "\r",
      " 23%|██▎       | 156/665 [09:12<23:30,  2.77s/it]"
     ]
    },
    {
     "name": "stdout",
     "output_type": "stream",
     "text": [
      "【一拍】北京市昌平区回龙观镇龙跃苑三区1号楼6层2单元601号（143.71㎡） https://paimai.jd.com/106103390\n",
      "3035龙跃苑三区结果.docx https://storage.jd.com/auction.gateway/2ab1ec998af9cefc4600bbdc607d9a1120180608115120322.docx\n"
     ]
    },
    {
     "name": "stderr",
     "output_type": "stream",
     "text": [
      "\r",
      " 24%|██▎       | 157/665 [09:15<22:27,  2.65s/it]"
     ]
    },
    {
     "name": "stdout",
     "output_type": "stream",
     "text": [
      "【一拍】北京市朝阳区十里堡甲3号2号楼9层09C号（105.91㎡） https://paimai.jd.com/106149430\n",
      "朝阳法院--十里堡城市广场报告1125.pdf https://storage.jd.com/auction.gateway/23906e90672a2a03df8b62490536fae520180612151235929.pdf\n"
     ]
    },
    {
     "name": "stderr",
     "output_type": "stream",
     "text": [
      "\r",
      " 24%|██▍       | 158/665 [09:18<24:57,  2.95s/it]"
     ]
    },
    {
     "name": "stdout",
     "output_type": "stream",
     "text": [
      "【一拍】北京市海淀区学清路16号学知园4号楼1803号（243.70㎡） https://paimai.jd.com/106103436\n",
      "3117学知园(结果）.docx https://storage.jd.com/auction.gateway/2c6b8de742bb1a5b49966f0557747bda20180608115620192.docx\n"
     ]
    },
    {
     "name": "stderr",
     "output_type": "stream",
     "text": [
      "\r",
      " 24%|██▍       | 159/665 [09:20<22:22,  2.65s/it]"
     ]
    },
    {
     "name": "stdout",
     "output_type": "stream",
     "text": [
      "【一拍】北京市海淀区西二旗西路2号院24号楼1至3层102号（269.57㎡） https://paimai.jd.com/106136324\n",
      "西二旗报告.pdf https://storage.jd.com/auction.gateway/44444618204c3b0c040b95378271307620180611152200866.pdf\n"
     ]
    },
    {
     "name": "stderr",
     "output_type": "stream",
     "text": [
      "\r",
      " 24%|██▍       | 160/665 [09:24<25:01,  2.97s/it]"
     ]
    },
    {
     "name": "stdout",
     "output_type": "stream",
     "text": [
      "【一拍】北京市朝阳区霄云路甲32号A2805 号（257.52㎡） https://paimai.jd.com/106163264\n",
      "朝阳区霄云路甲32号A2805号.pdf https://storage.jd.com/auction.gateway/ff28ed5c765ff3c0a7548771bb410e6720180614121216977.pdf\n"
     ]
    },
    {
     "name": "stderr",
     "output_type": "stream",
     "text": [
      "\r",
      " 24%|██▍       | 161/665 [09:28<28:02,  3.34s/it]"
     ]
    },
    {
     "name": "stdout",
     "output_type": "stream",
     "text": [
      "【一拍】北京市朝阳区东三环南路54号院9号楼17层1704号房屋（103.73㎡） https://paimai.jd.com/106161342\n",
      "3068华腾园结果.docx https://storage.jd.com/auction.gateway/a84d4179678a6888b9f89c44296948e820180614100143624.docx\n"
     ]
    },
    {
     "name": "stderr",
     "output_type": "stream",
     "text": [
      "\r",
      " 24%|██▍       | 162/665 [09:30<25:26,  3.03s/it]"
     ]
    },
    {
     "name": "stdout",
     "output_type": "stream",
     "text": [
      "【一拍】北京市朝阳区京通苑2号楼5层8单元502（94.37㎡） https://paimai.jd.com/106088016\n",
      "京通苑评估报告.pdf https://storage.jd.com/auction.gateway/f8fbe76f41deaa465fed39c49110c03720180607094629837.pdf\n"
     ]
    },
    {
     "name": "stderr",
     "output_type": "stream",
     "text": [
      "\r",
      " 25%|██▍       | 163/665 [09:34<27:05,  3.24s/it]"
     ]
    },
    {
     "name": "stdout",
     "output_type": "stream",
     "text": [
      "【一拍】北京市朝阳区八里庄东里51号楼3层3门332号（60.64㎡） https://paimai.jd.com/106104640\n",
      "结果报告.pdf https://storage.jd.com/auction.gateway/a40c0d4ba1d98f8c135a22959d4eef8120180608141143690.pdf\n"
     ]
    },
    {
     "name": "stderr",
     "output_type": "stream",
     "text": [
      "\r",
      " 25%|██▍       | 164/665 [09:38<27:28,  3.29s/it]"
     ]
    },
    {
     "name": "stdout",
     "output_type": "stream",
     "text": [
      "【一拍】北京市朝阳区安华里五区19号楼16层1604（142.18㎡） https://paimai.jd.com/106104928\n",
      "北京市朝阳区安华里五区19号楼16层1604房地产价格评估.pdf https://storage.jd.com/auction.gateway/d59a5f42b7444f191a22b76af94288f720180608143216613.pdf\n"
     ]
    },
    {
     "name": "stderr",
     "output_type": "stream",
     "text": [
      "\r",
      " 25%|██▍       | 165/665 [09:41<26:57,  3.24s/it]"
     ]
    },
    {
     "name": "stdout",
     "output_type": "stream",
     "text": [
      "【一拍】北京市朝阳区望京新城南湖西园124号楼21层2108号（79.64㎡） https://paimai.jd.com/106096721\n",
      "朝阳区望京新城南湖西园124号楼21层2108号房.pdf https://storage.jd.com/auction.gateway/54cc96c76201beaea489a30f68a618f220180607143212032.pdf\n"
     ]
    },
    {
     "name": "stderr",
     "output_type": "stream",
     "text": [
      "\r",
      " 25%|██▍       | 166/665 [09:44<26:54,  3.24s/it]"
     ]
    },
    {
     "name": "stdout",
     "output_type": "stream",
     "text": [
      "【一拍】北京市朝阳区十里堡54号楼2单元4层23、24号房屋（55.99㎡） https://paimai.jd.com/106157744\n",
      "北京市朝阳区十里堡54 号楼 4层 2单元 23 、 24 号评估报告.pdf https://storage.jd.com/auction.gateway/0fa559a371e0fe3320592a36c086744b20180613152214959.pdf\n"
     ]
    },
    {
     "name": "stderr",
     "output_type": "stream",
     "text": [
      "\r",
      " 25%|██▌       | 167/665 [09:48<28:21,  3.42s/it]"
     ]
    },
    {
     "name": "stdout",
     "output_type": "stream",
     "text": [
      "【一拍】北京市朝阳区西坝河北里5号楼4层4号（88.21㎡） https://paimai.jd.com/106158385\n",
      "【2017京0105执2858号】朝阳法院-朝阳区西坝河北里5号楼4层4号.pdf https://storage.jd.com/auction.gateway/7bacffa93010e05f283c8fc2df5a529120180613161626149.pdf\n"
     ]
    },
    {
     "name": "stderr",
     "output_type": "stream",
     "text": [
      "\r",
      " 25%|██▌       | 168/665 [09:52<29:42,  3.59s/it]"
     ]
    },
    {
     "name": "stdout",
     "output_type": "stream",
     "text": [
      "【一拍】北京市朝阳区康静里17号楼3层7门302号（47㎡） https://paimai.jd.com/106106835\n",
      "康静里报告.doc https://storage.jd.com/auction.gateway/1f5a85ef44fd2d2390f0f8d0f2aaf20920180608162706133.doc\n"
     ]
    },
    {
     "name": "stderr",
     "output_type": "stream",
     "text": [
      "\r",
      " 25%|██▌       | 169/665 [09:55<28:28,  3.44s/it]"
     ]
    },
    {
     "name": "stdout",
     "output_type": "stream",
     "text": [
      "【一拍】北京市朝阳区芳园南里9号院6号楼6层1单元1-701 https://paimai.jd.com/106149715\n",
      "芳园南里9号院6号楼.pdf https://storage.jd.com/auction.gateway/23f61e1ece357ae0510b97fd20836cc220180615110650136.pdf\n"
     ]
    },
    {
     "name": "stderr",
     "output_type": "stream",
     "text": [
      "\r",
      " 26%|██▌       | 170/665 [09:59<29:00,  3.52s/it]"
     ]
    },
    {
     "name": "stdout",
     "output_type": "stream",
     "text": [
      "【一拍】北京市门头沟区滨河承泽苑6号楼1层9单元102号房地产 https://paimai.jd.com/106102664\n",
      "评估报告——门头沟区滨河承泽苑.pdf https://storage.jd.com/auction.gateway/395532ac4acfff68ff8e8e826acf4bbf20180608103818706.pdf\n"
     ]
    },
    {
     "name": "stderr",
     "output_type": "stream",
     "text": [
      "\r",
      " 26%|██▌       | 171/665 [10:02<28:57,  3.52s/it]"
     ]
    },
    {
     "name": "stdout",
     "output_type": "stream",
     "text": [
      "【一拍】北京市西城区永定门西大街3号院1号楼4-3-404室房地产（287.16㎡） https://paimai.jd.com/106102127\n",
      "西城区永定门西大街3号院1号楼4-3-404室评估报告.doc https://storage.jd.com/auction.gateway/ccb6ef5516530a7de3051faa18cc609920180608093620316.doc\n"
     ]
    },
    {
     "name": "stderr",
     "output_type": "stream",
     "text": [
      "\r",
      " 26%|██▌       | 172/665 [10:04<25:15,  3.07s/it]"
     ]
    },
    {
     "name": "stdout",
     "output_type": "stream",
     "text": [
      "【一拍】北京市海淀区西直门北大街58号1号楼12层10门1502房地产（168.37㎡） https://paimai.jd.com/106081417\n",
      "海淀区西直门北大街58号1号楼12层10门1502-报告.pdf https://storage.jd.com/auction.gateway/1884f0147535fd4dbaa45ee03ea2eaaf20180605160229924.pdf\n"
     ]
    },
    {
     "name": "stderr",
     "output_type": "stream",
     "text": [
      "\r",
      " 26%|██▌       | 173/665 [10:07<24:29,  2.99s/it]"
     ]
    },
    {
     "name": "stdout",
     "output_type": "stream",
     "text": [
      "【二拍】北京市朝阳区将府家园北里132号楼7层1单元805号 https://paimai.jd.com/106231975\n",
      "将府家园北里132号楼.pdf https://storage.jd.com/auction.gateway/1d5476d7a2a1cb54836571c48190122220180622165919544.pdf\n"
     ]
    },
    {
     "name": "stderr",
     "output_type": "stream",
     "text": [
      "\r",
      " 26%|██▌       | 174/665 [10:13<32:05,  3.92s/it]"
     ]
    },
    {
     "name": "stdout",
     "output_type": "stream",
     "text": [
      "【二拍】北京市朝阳区百子园15号楼6至7层604号(127.55㎡) https://paimai.jd.com/106161199\n",
      "朝阳区百子园15号楼6至7层604号评估报告 .docx https://storage.jd.com/auction.gateway/5cbfdf6609ce00f34b1bdfdf78de2ee120180614094300223.docx\n"
     ]
    },
    {
     "name": "stderr",
     "output_type": "stream",
     "text": [
      "\r",
      " 26%|██▋       | 175/665 [10:17<31:15,  3.83s/it]"
     ]
    },
    {
     "name": "stdout",
     "output_type": "stream",
     "text": [
      "【一拍】北京市海淀区碧桐园12号楼1单元201号房地产(92.47㎡)及屋内物品 https://paimai.jd.com/105997924\n",
      "北京市海淀区碧桐园12号楼1单元201号房地产评估报告.doc https://storage.jd.com/auction.gateway/339474a8dbf67265b0aacf76f45a800420180528160202032.doc\n"
     ]
    },
    {
     "name": "stderr",
     "output_type": "stream",
     "text": [
      "\r",
      " 26%|██▋       | 176/665 [10:19<27:34,  3.38s/it]"
     ]
    },
    {
     "name": "stdout",
     "output_type": "stream",
     "text": [
      "【一拍】北京市丰台区新华街七里10号楼3层304号房地产(80.3㎡) https://paimai.jd.com/105998434\n",
      "北京市丰台区新华街七里10号楼3层304号房地产评估报告.doc https://storage.jd.com/auction.gateway/248fb9bcc8e137d38994aae7d05e9bf520180528162657841.doc\n"
     ]
    },
    {
     "name": "stderr",
     "output_type": "stream",
     "text": [
      "\r",
      " 27%|██▋       | 177/665 [10:22<25:29,  3.13s/it]"
     ]
    },
    {
     "name": "stdout",
     "output_type": "stream",
     "text": [
      "新华街七里价格说明函.docx https://storage.jd.com/auction.gateway/9dccbbb2112198f60fb933757c407f1720180528162657846.docx\n",
      "【一拍】昌平镇安福苑(财神庙胡同19号)30号楼7层6单元701号房地产(73.21㎡) https://paimai.jd.com/105998249\n",
      "昌平区昌平镇安福苑(财神庙胡同19号)30号楼7层6单元701号评估报告.doc https://storage.jd.com/auction.gateway/7619f9e4e814d3020b9dbede2cfa510f20180528161659319.doc\n"
     ]
    },
    {
     "name": "stderr",
     "output_type": "stream",
     "text": [
      " 27%|██▋       | 179/665 [10:29<28:15,  3.49s/it]"
     ]
    },
    {
     "name": "stdout",
     "output_type": "stream",
     "text": [
      "【一拍】北京市朝阳区甘露园6号楼20层2302号 https://paimai.jd.com/106043451\n",
      "结果报告.pdf https://storage.jd.com/auction.gateway/0524eed4111536d91a115191f5e8602120180628124821882.pdf\n"
     ]
    },
    {
     "name": "stderr",
     "output_type": "stream",
     "text": [
      "\r",
      " 27%|██▋       | 180/665 [10:32<27:36,  3.41s/it]"
     ]
    },
    {
     "name": "stdout",
     "output_type": "stream",
     "text": [
      "【一拍】北京市朝阳区利泽西园104号楼9层905号（99.29㎡） https://paimai.jd.com/106018219\n",
      "中建华-2017-0695号评估报告-带公章扫描版.pdf https://storage.jd.com/auction.gateway/d7682593966ba482a7f029f1057e67ab20180530114715095.pdf\n"
     ]
    },
    {
     "name": "stderr",
     "output_type": "stream",
     "text": [
      "\r",
      " 27%|██▋       | 181/665 [10:37<30:02,  3.72s/it]"
     ]
    },
    {
     "name": "stdout",
     "output_type": "stream",
     "text": [
      "【一拍】北京市朝阳区北苑路甲108号4号楼-1至3层02号（495.65㎡） https://paimai.jd.com/106019921\n",
      "北苑路甲108号4号楼-1至3层02号报告.doc https://storage.jd.com/auction.gateway/bf813e2109b73648bdc1efdff277222e20180530134838942.doc\n"
     ]
    },
    {
     "name": "stderr",
     "output_type": "stream",
     "text": [
      "\r",
      " 27%|██▋       | 182/665 [10:41<32:17,  4.01s/it]"
     ]
    },
    {
     "name": "stdout",
     "output_type": "stream",
     "text": [
      "【变卖】北京市东城区沙子口路50号1403号（131.49㎡） https://paimai.jd.com/105610877\n",
      "评估报告-北京市东城区沙子口路50号1403.pdf https://storage.jd.com/auction.gateway/bfae47f4e45a98a7bc4d325067e9907a20180427115656279.pdf\n",
      "执行依据.docx https://storage.jd.com/auction.gateway/5e9a0159db57cd08f56d9be79f431e3520180427115656316.docx\n"
     ]
    },
    {
     "name": "stderr",
     "output_type": "stream",
     "text": [
      "\r",
      " 28%|██▊       | 183/665 [10:44<29:17,  3.65s/it]"
     ]
    },
    {
     "name": "stdout",
     "output_type": "stream",
     "text": [
      "【一拍】北京市朝阳区北苑路172号万兴苑5号楼1401号（216.52㎡） https://paimai.jd.com/106020621\n",
      "北京市朝阳区北苑路172号万兴苑5号楼1401号.pdf https://storage.jd.com/auction.gateway/4fbe2891130661157b7b0ff65a7d3f7820180530141628391.pdf\n"
     ]
    },
    {
     "name": "stderr",
     "output_type": "stream",
     "text": [
      " 28%|██▊       | 185/665 [10:54<34:00,  4.25s/it]"
     ]
    },
    {
     "name": "stdout",
     "output_type": "stream",
     "text": [
      "【一拍】（破产）朝阳公园路9号院2号楼10至11层16单元1101 https://paimai.jd.com/105998921\n",
      "北京市存量房屋买卖合同.docx https://storage.jd.com/auction.gateway/ATTACHMENT_76bea17752ff425f9fb878599863973c.docx\n"
     ]
    },
    {
     "name": "stderr",
     "output_type": "stream",
     "text": [
      "\r",
      " 28%|██▊       | 186/665 [10:55<27:42,  3.47s/it]"
     ]
    },
    {
     "name": "stdout",
     "output_type": "stream",
     "text": [
      "【一拍】北京市海淀区冠城园之冠城北园2号楼17层17D（127.95㎡） https://paimai.jd.com/105965581\n",
      "冠城北园17D.doc https://storage.jd.com/auction.gateway/d3a7472c7fee72ae5eb768ad14b0f7e620180623085702445.doc\n"
     ]
    },
    {
     "name": "stderr",
     "output_type": "stream",
     "text": [
      "\r",
      " 28%|██▊       | 187/665 [11:00<30:10,  3.79s/it]"
     ]
    },
    {
     "name": "stdout",
     "output_type": "stream",
     "text": [
      "【一拍】北京市海淀区冠城园之冠城北园6号楼4层3单元04C（188.62㎡） https://paimai.jd.com/105964653\n",
      "结果报告-冠城北园-6-3单元04C.doc https://storage.jd.com/auction.gateway/3aff22261529f614d839c325347d09bb20180623085233074.doc\n"
     ]
    },
    {
     "name": "stderr",
     "output_type": "stream",
     "text": [
      "\r",
      " 28%|██▊       | 188/665 [11:04<31:56,  4.02s/it]"
     ]
    },
    {
     "name": "stdout",
     "output_type": "stream",
     "text": [
      "【一拍】北京市海淀区冠城园之冠城北园6号楼4层三单元04B（149.29㎡） https://paimai.jd.com/105964467\n",
      "结果报告-冠城北园-6-3单元04B.doc https://storage.jd.com/auction.gateway/1f4243700da83d2e19f3dd9effc7ff2720180623085144431.doc\n"
     ]
    },
    {
     "name": "stderr",
     "output_type": "stream",
     "text": [
      "\r",
      " 28%|██▊       | 189/665 [11:08<32:05,  4.05s/it]"
     ]
    },
    {
     "name": "stdout",
     "output_type": "stream",
     "text": [
      "【一拍】北京市海淀区冠城园之冠城北园2号楼17层17D（127.95㎡） https://paimai.jd.com/105962098\n",
      "冠城北园17D.doc https://storage.jd.com/auction.gateway/d3a7472c7fee72ae5eb768ad14b0f7e620180524135820108.doc\n"
     ]
    },
    {
     "name": "stderr",
     "output_type": "stream",
     "text": [
      "\r",
      " 29%|██▊       | 190/665 [11:11<29:26,  3.72s/it]"
     ]
    },
    {
     "name": "stdout",
     "output_type": "stream",
     "text": [
      "【一拍】朝阳区平房乡黄衫木店(青年路居住小区南区)28#住宅楼1单元805号房地产 https://paimai.jd.com/105949683\n",
      "朝阳区平房乡黄衫木店（青年路居住小区南区）28#29#住宅楼76层28#楼1单元805号评估报告.pdf https://storage.jd.com/auction.gateway/cebe18f8a8a3d41b993bd07ceba5a47a20180523114214447.pdf\n"
     ]
    },
    {
     "name": "stderr",
     "output_type": "stream",
     "text": [
      "\r",
      " 29%|██▊       | 191/665 [11:14<26:20,  3.33s/it]"
     ]
    },
    {
     "name": "stdout",
     "output_type": "stream",
     "text": [
      "【一拍】北京市朝阳区西大望路12号院3号楼3层3门302号(58.41㎡) https://paimai.jd.com/105948471\n",
      "朝阳区西大望路12号院3号楼3门302室评估报告.doc https://storage.jd.com/auction.gateway/2f9272ebfa444e1425b8520c911ac25b20180523103413001.doc\n"
     ]
    },
    {
     "name": "stderr",
     "output_type": "stream",
     "text": [
      "\r",
      " 29%|██▉       | 192/665 [11:16<22:52,  2.90s/it]"
     ]
    },
    {
     "name": "stdout",
     "output_type": "stream",
     "text": [
      "【一拍】北京市密云区檀东路15号院5号楼6层4单元502号 https://paimai.jd.com/105954902\n",
      "密云檀府家园.pdf https://storage.jd.com/auction.gateway/cc7c6344e97021bc4dd573a860caff7520180523164703974.pdf\n"
     ]
    },
    {
     "name": "stderr",
     "output_type": "stream",
     "text": [
      "\r",
      " 29%|██▉       | 193/665 [11:18<22:05,  2.81s/it]"
     ]
    },
    {
     "name": "stdout",
     "output_type": "stream",
     "text": [
      "【变卖】北京市朝阳区望京北路39号1号楼2单元7B号(146.11㎡) https://paimai.jd.com/105572251\n",
      "【结果报告】2016-1-E-3-103 北京市朝阳区望京北路39号1号楼2单元7B.pdf https://storage.jd.com/auction.gateway/7b476ea464405e13d1892cac9c34497f20180412140741637.pdf\n"
     ]
    },
    {
     "name": "stderr",
     "output_type": "stream",
     "text": [
      " 29%|██▉       | 195/665 [11:24<22:15,  2.84s/it]"
     ]
    },
    {
     "name": "stdout",
     "output_type": "stream",
     "text": [
      "【一拍】北京市通州区颐瑞西里20号楼14层3单元1703号 https://paimai.jd.com/105953458\n",
      "通州区颐瑞西里20号楼-电子版.docx https://storage.jd.com/auction.gateway/1a74a3d466dc680b751afefc61f147f920180523152634994.docx\n",
      "【一拍】北京市海淀区双榆树青年公寓9层907号 https://paimai.jd.com/105941822\n",
      "394执行依据.docx https://storage.jd.com/auction.gateway/c3450bb8c056fd1340f2041bce720b6820180622102400121.docx\n"
     ]
    },
    {
     "name": "stderr",
     "output_type": "stream",
     "text": [
      "\r",
      " 29%|██▉       | 196/665 [11:27<21:46,  2.79s/it]"
     ]
    },
    {
     "name": "stdout",
     "output_type": "stream",
     "text": [
      "3023双安青年公寓结果.docx https://storage.jd.com/auction.gateway/bcad117e8ae0586d65af420bb45b51e020180622102400128.docx\n",
      "【一拍】北京市东城区广渠门北里甲乙73号2号楼6、7、8层住宅房地产 https://paimai.jd.com/105941380\n",
      "4315，4157执行依据.docx https://storage.jd.com/auction.gateway/c028c835c9e54c2e315c6436a506cb4020180522154619388.docx\n",
      "2018-Z020-东城区广渠门北里甲乙73号2号楼6、7、8层.pdf https://storage.jd.com/auction.gateway/f5dca9f241ab677df972799bdb5ab78320180522154619409.pdf\n"
     ]
    },
    {
     "name": "stderr",
     "output_type": "stream",
     "text": [
      "\r",
      " 30%|██▉       | 197/665 [11:30<21:50,  2.80s/it]"
     ]
    },
    {
     "name": "stdout",
     "output_type": "stream",
     "text": [
      "【一拍】北京市朝阳区尚家楼路2号院4号楼2层201 https://paimai.jd.com/105942998\n",
      "尚家楼路2号院（裘马都）4号楼2层201.pdf https://storage.jd.com/auction.gateway/e6109a1734d5f557d35ba6497ccf997a20180522172706212.pdf\n"
     ]
    },
    {
     "name": "stderr",
     "output_type": "stream",
     "text": [
      "\r",
      " 30%|██▉       | 198/665 [11:33<21:58,  2.82s/it]"
     ]
    },
    {
     "name": "stdout",
     "output_type": "stream",
     "text": [
      "【一拍】北京市大兴区福苑小区甲6号楼6层1-602 https://paimai.jd.com/105941408\n",
      "福苑小区甲6幢1-602.pdf https://storage.jd.com/auction.gateway/0c1fa54fda200040f522238328af282920180522154711126.pdf\n"
     ]
    },
    {
     "name": "stderr",
     "output_type": "stream",
     "text": [
      "\r",
      " 30%|██▉       | 199/665 [11:35<20:08,  2.59s/it]"
     ]
    },
    {
     "name": "stdout",
     "output_type": "stream",
     "text": [
      "【一拍】北京市大兴区黄村镇明春苑明春东路5号1层全部 https://paimai.jd.com/105898221\n",
      "评估报告.docx https://storage.jd.com/auction.gateway/4eaf3aae44b27df8da028c1fe87fa6bf20180517181659902.docx\n"
     ]
    },
    {
     "name": "stderr",
     "output_type": "stream",
     "text": [
      "\r",
      " 30%|███       | 200/665 [11:36<18:19,  2.36s/it]"
     ]
    },
    {
     "name": "stdout",
     "output_type": "stream",
     "text": [
      "【一拍】北京市海淀文慧园路6号1号楼10层A1018房地产（34.01㎡） https://paimai.jd.com/105870702\n",
      "海淀区文慧园路6号1号楼10层A1018号评估报告.pdf https://storage.jd.com/auction.gateway/508c5302a50f52dc43344b110e0a896920180515101843001.pdf\n"
     ]
    },
    {
     "name": "stderr",
     "output_type": "stream",
     "text": [
      "\r",
      " 30%|███       | 201/665 [11:38<17:18,  2.24s/it]"
     ]
    },
    {
     "name": "stdout",
     "output_type": "stream",
     "text": [
      "【一拍】北京市西城区太平桥大街 8 号院 2 号楼8 层 2 单元 807 号房地产 https://paimai.jd.com/105888118\n",
      "结果报告.pdf https://storage.jd.com/auction.gateway/07656312de2f913eb6d194e5539b276120180516175647034.pdf\n"
     ]
    },
    {
     "name": "stderr",
     "output_type": "stream",
     "text": [
      "\r",
      " 30%|███       | 202/665 [11:41<16:53,  2.19s/it]"
     ]
    },
    {
     "name": "stdout",
     "output_type": "stream",
     "text": [
      "【一拍】北京市丰台区玉林东里三区17号楼6层11-602号房屋 https://paimai.jd.com/105876372\n",
      "丰台区玉林东里三区17-11-602.pdf https://storage.jd.com/auction.gateway/e280bb559a136d4961054085be8ee75320180515170309090.pdf\n"
     ]
    },
    {
     "name": "stderr",
     "output_type": "stream",
     "text": [
      "\r",
      " 31%|███       | 203/665 [11:45<22:05,  2.87s/it]"
     ]
    },
    {
     "name": "stdout",
     "output_type": "stream",
     "text": [
      "【一拍】北京市海淀区志强园甲1号楼-1 层2门101号 https://paimai.jd.com/105887883\n",
      "结果报告.pdf https://storage.jd.com/auction.gateway/fff627d754b41bc0c34155d3df0e31a020180516174049297.pdf\n"
     ]
    },
    {
     "name": "stderr",
     "output_type": "stream",
     "text": [
      "\r",
      " 31%|███       | 204/665 [11:48<22:10,  2.89s/it]"
     ]
    },
    {
     "name": "stdout",
     "output_type": "stream",
     "text": [
      "【一拍】北京市朝阳区麦子店街 8 号楼 6 层 1 门603 号 https://paimai.jd.com/105888130\n",
      "结果报告.pdf https://storage.jd.com/auction.gateway/0eb739769567a9633604ff671127ce1f20180516175748280.pdf\n"
     ]
    },
    {
     "name": "stderr",
     "output_type": "stream",
     "text": [
      "\r",
      " 31%|███       | 205/665 [11:51<22:26,  2.93s/it]"
     ]
    },
    {
     "name": "stdout",
     "output_type": "stream",
     "text": [
      "【一拍】北京市朝阳区东大桥路18号楼5层1单元153号住宅房地产 https://paimai.jd.com/105887608\n",
      "北京市朝阳区东大桥路18号楼5层1单元153号报告.pdf https://storage.jd.com/auction.gateway/09ac5631814981a80d76d4828cbb100120180516172642451.pdf\n"
     ]
    },
    {
     "name": "stderr",
     "output_type": "stream",
     "text": [
      "\r",
      " 31%|███       | 206/665 [11:54<22:54,  2.99s/it]"
     ]
    },
    {
     "name": "stdout",
     "output_type": "stream",
     "text": [
      "【一拍】北京市朝阳区霞光里30号院10号楼6层1单元602号房地产 https://paimai.jd.com/105887724\n",
      "结果报告.pdf https://storage.jd.com/auction.gateway/f612343e1f75b603524af2ccb9f74dec20180516173151675.pdf\n"
     ]
    },
    {
     "name": "stderr",
     "output_type": "stream",
     "text": [
      "\r",
      " 31%|███       | 207/665 [11:57<22:49,  2.99s/it]"
     ]
    },
    {
     "name": "stdout",
     "output_type": "stream",
     "text": [
      "【一拍】北京市朝阳区东大桥路39号楼5层3单元9号住宅房地产 https://paimai.jd.com/105887722\n",
      "北京市朝阳区东大桥路39号楼5层3单元9号报告.pdf https://storage.jd.com/auction.gateway/3b15c7e16287b89602e5771ac83cc1fa20180516173151385.pdf\n"
     ]
    },
    {
     "name": "stderr",
     "output_type": "stream",
     "text": [
      "\r",
      " 31%|███▏      | 208/665 [11:59<20:50,  2.74s/it]"
     ]
    },
    {
     "name": "stdout",
     "output_type": "stream",
     "text": [
      "【一拍】北京市通州区潞苑南大街614号10号楼6层163室 https://paimai.jd.com/105896678\n",
      "2017-051- 通州区潞苑南大街614号院10号楼163.pdf https://storage.jd.com/auction.gateway/fb65e4c8070c63b111eb1881e3aa6d9920180517161643929.pdf\n"
     ]
    },
    {
     "name": "stderr",
     "output_type": "stream",
     "text": [
      "\r",
      " 31%|███▏      | 209/665 [12:02<21:07,  2.78s/it]"
     ]
    },
    {
     "name": "stdout",
     "output_type": "stream",
     "text": [
      "【一拍】北京市通州区玉桥东里49号楼10层3单元1002室 https://paimai.jd.com/105885818\n",
      "张霄评估报告电子版.pdf https://storage.jd.com/auction.gateway/44f3121d585fc5295b4c36394b20c19820180516160656168.pdf\n"
     ]
    },
    {
     "name": "stderr",
     "output_type": "stream",
     "text": [
      "\r",
      " 32%|███▏      | 210/665 [12:04<20:14,  2.67s/it]"
     ]
    },
    {
     "name": "stdout",
     "output_type": "stream",
     "text": [
      "【一拍】北京市朝阳区望京西园422号楼12层1202 号（91.73㎡） https://paimai.jd.com/105887726\n",
      "望京新城422.pdf https://storage.jd.com/auction.gateway/bc98fc46bded2a53e2ba17be19ab3aeb20180517122633935.pdf\n"
     ]
    },
    {
     "name": "stderr",
     "output_type": "stream",
     "text": [
      "\r",
      " 32%|███▏      | 211/665 [12:07<18:59,  2.51s/it]"
     ]
    },
    {
     "name": "stdout",
     "output_type": "stream",
     "text": [
      "【一拍】北京市朝阳区北土城西路7号10至11层2单元1002号（263.57㎡） https://paimai.jd.com/105896527\n",
      "康正评字2017-1-0286-F01SFZC6号北京市朝阳区北土城西路7号10至11层2单元1002号公寓用房房地产市场价值评估.pdf https://storage.jd.com/auction.gateway/b7645d1f81a45fe537090beeac53f4d720180517160724115.pdf\n"
     ]
    },
    {
     "name": "stderr",
     "output_type": "stream",
     "text": [
      "\r",
      " 32%|███▏      | 212/665 [12:10<20:58,  2.78s/it]"
     ]
    },
    {
     "name": "stdout",
     "output_type": "stream",
     "text": [
      "【一拍】北京市宣武区陶然亭路2号2号楼8层1-8-802号住宅房屋（273.90平方米） https://paimai.jd.com/105901052\n",
      "结果报告.compressed.pdf https://storage.jd.com/auction.gateway/cf5aecc8eebf97574493af7e877c452420180518102705475.pdf\n"
     ]
    },
    {
     "name": "stderr",
     "output_type": "stream",
     "text": [
      "\r",
      " 32%|███▏      | 213/665 [12:13<21:36,  2.87s/it]"
     ]
    },
    {
     "name": "stdout",
     "output_type": "stream",
     "text": [
      "【一拍】北京市海淀区马连洼梅园六区21号楼5门201住宅房屋（72.90平方米） https://paimai.jd.com/105900719\n",
      "马连洼报告.pdf https://storage.jd.com/auction.gateway/722420fb66d527b08e0cd74f2cdbda4b20180518100638876.pdf\n"
     ]
    },
    {
     "name": "stderr",
     "output_type": "stream",
     "text": [
      "\r",
      " 32%|███▏      | 214/665 [12:16<20:53,  2.78s/it]"
     ]
    },
    {
     "name": "stdout",
     "output_type": "stream",
     "text": [
      "【一拍】北京市朝阳区东三环南路54号院13号楼1层106号 https://paimai.jd.com/105897289\n",
      "京城捷信20170392—SF094.pdf https://storage.jd.com/auction.gateway/39e0f326ef440f3d91c9cfb43868c58b20180517165350720.pdf\n"
     ]
    },
    {
     "name": "stderr",
     "output_type": "stream",
     "text": [
      "\r",
      " 32%|███▏      | 215/665 [12:19<21:40,  2.89s/it]"
     ]
    },
    {
     "name": "stdout",
     "output_type": "stream",
     "text": [
      "【一拍】北京市朝阳区首都机场路89号3-42幢1至2层2-27号房屋（264.4平方米） https://paimai.jd.com/105900513\n",
      "朝阳区首都机场路89号3-42幢1至2层2-27号.pdf https://storage.jd.com/auction.gateway/695f67a6e0b8f58f7980d606766c98ff20180518094634512.pdf\n"
     ]
    },
    {
     "name": "stderr",
     "output_type": "stream",
     "text": [
      "\r",
      " 32%|███▏      | 216/665 [12:22<23:13,  3.10s/it]"
     ]
    },
    {
     "name": "stdout",
     "output_type": "stream",
     "text": [
      "【一拍】北京市海淀区远大园五区12号楼2层二单元2C房屋（212.49㎡） https://paimai.jd.com/105887618\n",
      "结果报告-远大园五区.pdf https://storage.jd.com/auction.gateway/f227cc9b4e62fcde09c282d3db04c25920180517122700395.pdf\n"
     ]
    },
    {
     "name": "stderr",
     "output_type": "stream",
     "text": [
      "\r",
      " 33%|███▎      | 217/665 [12:24<20:50,  2.79s/it]"
     ]
    },
    {
     "name": "stdout",
     "output_type": "stream",
     "text": [
      "【一拍】北京市通州区云景东路15号1号楼1层0103号 https://paimai.jd.com/105886923\n",
      "云景东里报告.docx https://storage.jd.com/auction.gateway/3b56e66f2ebb7ba1dd9e17871b72fca020180516165147179.docx\n"
     ]
    },
    {
     "name": "stderr",
     "output_type": "stream",
     "text": [
      "\r",
      " 33%|███▎      | 218/665 [12:31<28:06,  3.77s/it]"
     ]
    },
    {
     "name": "stdout",
     "output_type": "stream",
     "text": [
      "【一拍】北京市朝阳区百子湾东里210号楼5层3单元501号 https://paimai.jd.com/105897838\n",
      "百子湾东里报告-无附件.pdf https://storage.jd.com/auction.gateway/b9d77925a8d46facda3e0c9299e787f620180518153219314.pdf\n"
     ]
    },
    {
     "name": "stderr",
     "output_type": "stream",
     "text": [
      "\r",
      " 33%|███▎      | 219/665 [12:36<30:57,  4.16s/it]"
     ]
    },
    {
     "name": "stdout",
     "output_type": "stream",
     "text": [
      "【二拍】北京市房山区城关街道永安家园8号楼2层1-201 https://paimai.jd.com/106033037\n",
      "房山区城关街道永安家园8号楼2层1-201(1).rar https://storage.jd.com/auction.gateway/663ece92f11c40ecc5c92bac242bc95920180531151140893.rar\n"
     ]
    },
    {
     "name": "stderr",
     "output_type": "stream",
     "text": [
      "\r",
      " 33%|███▎      | 220/665 [12:39<29:01,  3.91s/it]"
     ]
    },
    {
     "name": "stdout",
     "output_type": "stream",
     "text": [
      "【二拍】北京市朝阳区阜荣街8 号院（朝庭公寓）1 号楼17 层2 单元2001 号 https://paimai.jd.com/105996188\n",
      "朝庭公寓报告.pdf https://storage.jd.com/auction.gateway/a52f8473bc5b101a77c3bf5d6fb22fee20180528145756767.pdf\n"
     ]
    },
    {
     "name": "stderr",
     "output_type": "stream",
     "text": [
      "\r",
      " 33%|███▎      | 221/665 [12:43<28:43,  3.88s/it]"
     ]
    },
    {
     "name": "stdout",
     "output_type": "stream",
     "text": [
      "【一拍】北京市朝阳区观筑庭园1-15号楼-1至3层1-15-2号(383.31㎡) https://paimai.jd.com/105893389\n",
      "观筑庭园估价报告.doc https://storage.jd.com/auction.gateway/e489474dd8b81b508afba9a3cc83651720180517130621746.doc\n"
     ]
    },
    {
     "name": "stderr",
     "output_type": "stream",
     "text": [
      "\r",
      " 33%|███▎      | 222/665 [12:46<27:26,  3.72s/it]"
     ]
    },
    {
     "name": "stdout",
     "output_type": "stream",
     "text": [
      "【一拍】北京市朝阳区黄厂南里3号院25号楼15层3单元1806号(89.73㎡) https://paimai.jd.com/105893201\n",
      "黄厂南里3号院25楼3单元1806号报告.pdf https://storage.jd.com/auction.gateway/56d15d587822b7bf13a4993d2319e65420180517125111319.pdf\n"
     ]
    },
    {
     "name": "stderr",
     "output_type": "stream",
     "text": [
      "\r",
      " 34%|███▎      | 223/665 [12:49<25:14,  3.43s/it]"
     ]
    },
    {
     "name": "stdout",
     "output_type": "stream",
     "text": [
      "【一拍】北京市丰台区芳古园二区14号楼1层106号房屋（157.16㎡） https://paimai.jd.com/105887826\n",
      "（结果报告）京城捷信20170492—SF128.pdf https://storage.jd.com/auction.gateway/c96c086fa8d5ab26f16f0dda22e9016c20180517123128136.pdf\n"
     ]
    },
    {
     "name": "stderr",
     "output_type": "stream",
     "text": [
      "\r",
      " 34%|███▎      | 224/665 [12:52<24:12,  3.29s/it]"
     ]
    },
    {
     "name": "stdout",
     "output_type": "stream",
     "text": [
      "【一拍】北京市丰台区恒松园2号楼20层2002号房屋（169.16㎡） https://paimai.jd.com/105887612\n",
      "北京市丰台区恒松园2号楼20层2002号.PDF https://storage.jd.com/auction.gateway/8c68f59dcd769127c711999c274af0bb20180516172656202.PDF\n"
     ]
    },
    {
     "name": "stderr",
     "output_type": "stream",
     "text": [
      "\r",
      " 34%|███▍      | 225/665 [12:55<23:55,  3.26s/it]"
     ]
    },
    {
     "name": "stdout",
     "output_type": "stream",
     "text": [
      "【一拍】北京市通州区龙旺庄12号楼4层342号（134.94㎡） https://paimai.jd.com/105887732\n",
      "龙旺庄.pdf https://storage.jd.com/auction.gateway/843c366bd1bfe65f56bc92145c2b24e720180517122628557.pdf\n"
     ]
    },
    {
     "name": "stderr",
     "output_type": "stream",
     "text": [
      "\r",
      " 34%|███▍      | 226/665 [12:58<23:20,  3.19s/it]"
     ]
    },
    {
     "name": "stdout",
     "output_type": "stream",
     "text": [
      "【一拍】北京市朝阳区西坝河东里2号院9号楼13层1-1603号房地产 https://paimai.jd.com/105888119\n",
      "3036UHN国际村结果.docx https://storage.jd.com/auction.gateway/54c9b0fa6646fd8071bd17debf8059fe20180516175648866.docx\n"
     ]
    },
    {
     "name": "stderr",
     "output_type": "stream",
     "text": [
      "\r",
      " 34%|███▍      | 227/665 [13:00<20:23,  2.79s/it]"
     ]
    },
    {
     "name": "stdout",
     "output_type": "stream",
     "text": [
      "【一拍】北京市朝阳区天力街12号楼（富力城B区）6层702号（169.19平方米） https://paimai.jd.com/105888180\n",
      "富力城12号楼702报告.pdf https://storage.jd.com/auction.gateway/2079c7e39cd2f3bc39fd92f99dc6770a20180516180222381.pdf\n"
     ]
    },
    {
     "name": "stderr",
     "output_type": "stream",
     "text": [
      "\r",
      " 34%|███▍      | 228/665 [13:02<19:23,  2.66s/it]"
     ]
    },
    {
     "name": "stdout",
     "output_type": "stream",
     "text": [
      "【一拍】北京市朝阳区百子湾路16号百子园2号楼9层A单元908号（45.43平方米） https://paimai.jd.com/105888137\n",
      "百子园2号楼报告.docx https://storage.jd.com/auction.gateway/91b042292b3eae8afb7075d59439409620180516175757649.docx\n"
     ]
    },
    {
     "name": "stderr",
     "output_type": "stream",
     "text": [
      "\r",
      " 34%|███▍      | 229/665 [13:06<20:48,  2.86s/it]"
     ]
    },
    {
     "name": "stdout",
     "output_type": "stream",
     "text": [
      "【一拍】北京市朝阳区黄厂南里1号院7号楼4层2单元501号（164.21 平方米） https://paimai.jd.com/105888178\n",
      "富力又一城501报告.pdf https://storage.jd.com/auction.gateway/c585a7ef2e95549abb6f5afee95c895620180516180219194.pdf\n"
     ]
    },
    {
     "name": "stderr",
     "output_type": "stream",
     "text": [
      "\r",
      " 35%|███▍      | 230/665 [13:08<19:21,  2.67s/it]"
     ]
    },
    {
     "name": "stdout",
     "output_type": "stream",
     "text": [
      "【一拍】北京市朝阳区黄厂南里1号院7号楼4层2单元502号（209.77平方米） https://paimai.jd.com/105888179\n",
      "富力又一城502报告.pdf https://storage.jd.com/auction.gateway/25c319d95096c380438553319327597a20180516180220251.pdf\n"
     ]
    },
    {
     "name": "stderr",
     "output_type": "stream",
     "text": [
      "\r",
      " 35%|███▍      | 231/665 [13:12<22:45,  3.15s/it]"
     ]
    },
    {
     "name": "stdout",
     "output_type": "stream",
     "text": [
      "【一拍】北京市丰台区骏景园北区2号楼12层1-1205-1208号房产 https://paimai.jd.com/105888143\n",
      "骏景园北区估价报告.doc https://storage.jd.com/auction.gateway/19aa0375d167c86b9e563bae6a4e11ee20180516175812675.doc\n"
     ]
    },
    {
     "name": "stderr",
     "output_type": "stream",
     "text": [
      "\r",
      " 35%|███▍      | 232/665 [13:15<22:06,  3.06s/it]"
     ]
    },
    {
     "name": "stdout",
     "output_type": "stream",
     "text": [
      "【一拍】北京市朝阳区百子湾路32号院南（苹果社区南区）1号楼2层A座207号 https://paimai.jd.com/105892618\n",
      "朝阳区百子湾路32号院南（苹果社区南区）评估报告.pdf https://storage.jd.com/auction.gateway/d997b278617ea779e355f2ac52a5d36020180517113628374.pdf\n"
     ]
    },
    {
     "name": "stderr",
     "output_type": "stream",
     "text": [
      "\r",
      " 35%|███▌      | 233/665 [13:18<23:00,  3.19s/it]"
     ]
    },
    {
     "name": "stdout",
     "output_type": "stream",
     "text": [
      "【一拍】北京市朝阳区天力街10号楼（富力城B区）6层703号（248.58平方米） https://paimai.jd.com/105888182\n",
      "富力城10号楼703报告.pdf https://storage.jd.com/auction.gateway/3d5bdc3abcba18c0c6d5c3bd6c87b66b20180516180257816.pdf\n"
     ]
    },
    {
     "name": "stderr",
     "output_type": "stream",
     "text": [
      " 35%|███▌      | 235/665 [13:23<19:59,  2.79s/it]"
     ]
    },
    {
     "name": "stdout",
     "output_type": "stream",
     "text": [
      "【一拍】北京市石景山区景阳东街66号院6号楼2单元501住宅用房 https://paimai.jd.com/105806188\n",
      "华源涉案17100号巩金泽（北京景阳东街66号院）.doc https://storage.jd.com/auction.gateway/5f7a493f6e8da49f10a85955ab72b21e20180507172621585.doc\n",
      "【一拍】北京市石景山区时代花园南路23号院8号楼4层502住宅用房 https://paimai.jd.com/105806068\n",
      "华源涉案17099号巩金泽（北京时代花园南路23号院）.doc https://storage.jd.com/auction.gateway/53905f1ba174b3849c064aff0a26458920180507171644511.doc\n"
     ]
    },
    {
     "name": "stderr",
     "output_type": "stream",
     "text": [
      "\r",
      " 35%|███▌      | 236/665 [13:27<21:59,  3.08s/it]"
     ]
    },
    {
     "name": "stdout",
     "output_type": "stream",
     "text": [
      "【一拍】北京市崇文区（现东城区）金鱼池中区8号楼3门601号房产一处 https://paimai.jd.com/105821484\n",
      "北京市崇文区金鱼池中区8号楼3门601号房产.pdf https://storage.jd.com/auction.gateway/770e5dca58f0ee3539796f17c91f5de320180509105713524.pdf\n"
     ]
    },
    {
     "name": "stderr",
     "output_type": "stream",
     "text": [
      "\r",
      " 36%|███▌      | 237/665 [13:31<22:38,  3.17s/it]"
     ]
    },
    {
     "name": "stdout",
     "output_type": "stream",
     "text": [
      "【二拍】北京市通州区徐辛庄镇西北京通州路通道桥工程公司院内1幢111号 https://paimai.jd.com/105954427\n",
      "道桥公司家属楼报告（标准价）.pdf https://storage.jd.com/auction.gateway/5bff6bddde550b50607588282f6ec3b720180523161346416.pdf\n"
     ]
    },
    {
     "name": "stderr",
     "output_type": "stream",
     "text": [
      "\r",
      " 36%|███▌      | 238/665 [13:34<22:48,  3.21s/it]"
     ]
    },
    {
     "name": "stdout",
     "output_type": "stream",
     "text": [
      "【二拍】北京市海淀区玉海园二里21号楼11层1107号 https://paimai.jd.com/105954173\n",
      "玉海园结果报告.pdf https://storage.jd.com/auction.gateway/2f088f39217ba988fe7d7920f6ebb7f020180523155734478.pdf\n"
     ]
    },
    {
     "name": "stderr",
     "output_type": "stream",
     "text": [
      "\r",
      " 36%|███▌      | 239/665 [13:37<23:13,  3.27s/it]"
     ]
    },
    {
     "name": "stdout",
     "output_type": "stream",
     "text": [
      "【一拍】北京市房山区长阳镇碧波园1号楼4-102 https://paimai.jd.com/105816956\n",
      "北京市房山区长阳镇碧波园1号楼4-102房地产价格咨询评估 FC20180000074.doc https://storage.jd.com/auction.gateway/012a64d17453d61c0c8af4dd4269ed3820180508174147413.doc\n"
     ]
    },
    {
     "name": "stderr",
     "output_type": "stream",
     "text": [
      "\r",
      " 36%|███▌      | 240/665 [13:39<21:00,  2.97s/it]"
     ]
    },
    {
     "name": "stdout",
     "output_type": "stream",
     "text": [
      "【二拍】北京市顺义区胜利小区7号楼3层5单元302号 https://paimai.jd.com/105954820\n",
      "评估报告——顺义区胜利小区.pdf https://storage.jd.com/auction.gateway/514ea6159ca0a79bcdbf591b486cba4f20180523164157983.pdf\n"
     ]
    },
    {
     "name": "stderr",
     "output_type": "stream",
     "text": [
      "\r",
      " 36%|███▌      | 241/665 [13:43<22:09,  3.14s/it]"
     ]
    },
    {
     "name": "stdout",
     "output_type": "stream",
     "text": [
      "【一拍】北京市通州区景盛北一街16号院225号楼5层1单元501号 https://paimai.jd.com/105783722\n",
      "报告--通州区景盛北一街16号院225号楼.pdf https://storage.jd.com/auction.gateway/c08ba0ae81c3252dc661b358ea9d19ee20180504151705416.pdf\n"
     ]
    },
    {
     "name": "stderr",
     "output_type": "stream",
     "text": [
      " 37%|███▋      | 243/665 [13:50<23:10,  3.29s/it]"
     ]
    },
    {
     "name": "stdout",
     "output_type": "stream",
     "text": [
      "【一拍】北京市昌平区昌平镇南环里甲8号楼6层1单元602号 https://paimai.jd.com/105777881\n",
      "北京市昌平区昌平镇南环里甲8号楼6层1单元602号房地产评估价值报告.pdf https://storage.jd.com/auction.gateway/be8a2586d3d5d34093dc191ee91476ca20180528093102783.pdf\n",
      "【一拍】北京市朝阳区将府家园北里132号楼7层1单元805号 https://paimai.jd.com/105763000\n",
      "将府家园北里132号楼.pdf https://storage.jd.com/auction.gateway/1d5476d7a2a1cb54836571c48190122220180502153643976.pdf\n"
     ]
    },
    {
     "name": "stderr",
     "output_type": "stream",
     "text": [
      "\r",
      " 37%|███▋      | 244/665 [13:56<28:11,  4.02s/it]"
     ]
    },
    {
     "name": "stdout",
     "output_type": "stream",
     "text": [
      "【变卖】北京市朝阳区绿岛苑5号楼103号 https://paimai.jd.com/105381743\n",
      "评估报告.pdf https://storage.jd.com/auction.gateway/85ad35886c80e3e32aa14274a0be17ad20180321160801698.pdf\n"
     ]
    },
    {
     "name": "stderr",
     "output_type": "stream",
     "text": [
      "\r",
      " 37%|███▋      | 245/665 [13:58<23:18,  3.33s/it]"
     ]
    },
    {
     "name": "stdout",
     "output_type": "stream",
     "text": [
      "【变卖】北京市朝阳区望京北路39号1号楼2单元7B号(146.11㎡) https://paimai.jd.com/105382114\n",
      "【结果报告】2016-1-E-3-103 北京市朝阳区望京北路39号1号楼2单元7B.pdf https://storage.jd.com/auction.gateway/7b476ea464405e13d1892cac9c34497f20180321162800313.pdf\n"
     ]
    },
    {
     "name": "stderr",
     "output_type": "stream",
     "text": [
      "\r",
      " 37%|███▋      | 246/665 [14:01<22:56,  3.28s/it]"
     ]
    },
    {
     "name": "stdout",
     "output_type": "stream",
     "text": [
      "【一拍】北京市朝阳区百子园15号楼6至7层604号(127.55㎡) https://paimai.jd.com/105707394\n",
      "朝阳区百子园15号楼6至7层604号评估报告 .docx https://storage.jd.com/auction.gateway/5cbfdf6609ce00f34b1bdfdf78de2ee120180517094649602.docx\n"
     ]
    },
    {
     "name": "stderr",
     "output_type": "stream",
     "text": [
      "\r",
      " 37%|███▋      | 247/665 [14:04<22:58,  3.30s/it]"
     ]
    },
    {
     "name": "stdout",
     "output_type": "stream",
     "text": [
      "【一拍】北京市大兴区旧宫镇云龙家园3号楼7层1-702房产(116.07㎡) https://paimai.jd.com/105691830\n",
      "大兴区旧宫镇云龙家园3号楼1-702评估报告.doc https://storage.jd.com/auction.gateway/8ab7ee6eefbf7aa1055bd42a935b893020180425085240262.doc\n"
     ]
    },
    {
     "name": "stderr",
     "output_type": "stream",
     "text": [
      "\r",
      " 37%|███▋      | 248/665 [14:08<25:03,  3.61s/it]"
     ]
    },
    {
     "name": "stdout",
     "output_type": "stream",
     "text": [
      "【一拍】北京市朝阳区新源南路5号4层东塔R0507 https://paimai.jd.com/105644302\n",
      "最终版-结果报告北京公馆.doc https://storage.jd.com/auction.gateway/1823237ee936612fcee9c3205e84c6c320180419145243308.doc\n"
     ]
    },
    {
     "name": "stderr",
     "output_type": "stream",
     "text": [
      "\r",
      " 37%|███▋      | 249/665 [14:12<25:55,  3.74s/it]"
     ]
    },
    {
     "name": "stdout",
     "output_type": "stream",
     "text": [
      "【一拍】北京市朝阳区瑞祥里25号楼6层4单元602号 https://paimai.jd.com/105627334\n",
      "朝阳区祥瑞里.pdf https://storage.jd.com/auction.gateway/86da674154c88c1f965cefa935dc06ce20180417180244679.pdf\n"
     ]
    },
    {
     "name": "stderr",
     "output_type": "stream",
     "text": [
      "\r",
      " 38%|███▊      | 250/665 [14:15<22:56,  3.32s/it]"
     ]
    },
    {
     "name": "stdout",
     "output_type": "stream",
     "text": [
      "【一拍】北京市朝阳区太阳宫金星园15号楼1133号 https://paimai.jd.com/105627471\n",
      "朝阳区太阳星城金星园15号楼1133.doc https://storage.jd.com/auction.gateway/397efef6242f6a3dca30f619ed15d29320180417181248252.doc\n"
     ]
    },
    {
     "name": "stderr",
     "output_type": "stream",
     "text": [
      "\r",
      " 38%|███▊      | 251/665 [14:17<21:12,  3.07s/it]"
     ]
    },
    {
     "name": "stdout",
     "output_type": "stream",
     "text": [
      "【一拍】北京市朝阳区芳园南里9号院6号楼6层1单元1-701 https://paimai.jd.com/105625834\n",
      "芳园南里9号院6号楼.pdf https://storage.jd.com/auction.gateway/23f61e1ece357ae0510b97fd20836cc220180417162735574.pdf\n"
     ]
    },
    {
     "name": "stderr",
     "output_type": "stream",
     "text": [
      "\r",
      " 38%|███▊      | 252/665 [14:22<25:21,  3.68s/it]"
     ]
    },
    {
     "name": "stdout",
     "output_type": "stream",
     "text": [
      "【二拍】北京市昌平区京科苑68号楼1单元四层8号房地产 https://paimai.jd.com/105814667\n",
      "北京市昌平区京科苑68号楼1单元四层8号房地产评估结果报告.pdf https://storage.jd.com/auction.gateway/36ee0f48523b8f7d90c6253bdd2db80b20180508150521948.pdf\n"
     ]
    },
    {
     "name": "stderr",
     "output_type": "stream",
     "text": [
      "\r",
      " 38%|███▊      | 253/665 [14:25<23:13,  3.38s/it]"
     ]
    },
    {
     "name": "stdout",
     "output_type": "stream",
     "text": [
      "【二拍】北京市朝阳区雅成一里2号楼7层703号（86.70㎡） https://paimai.jd.com/105814241\n",
      "2017京0105执15451号朝阳区雅成一里2号楼7层703.pdf https://storage.jd.com/auction.gateway/17b5e2971c08f36d62bf5d87d04cf03120180508143615051.pdf\n"
     ]
    },
    {
     "name": "stderr",
     "output_type": "stream",
     "text": [
      "\r",
      " 38%|███▊      | 254/665 [14:28<21:19,  3.11s/it]"
     ]
    },
    {
     "name": "stdout",
     "output_type": "stream",
     "text": [
      "【二拍】北京市朝阳区弘善家园314号楼506号（41.06㎡） https://paimai.jd.com/105832514\n",
      "北京市朝阳区弘善家园314号楼506号.pdf https://storage.jd.com/auction.gateway/4c557013436b1331d69308e743a925dd20180510100747915.pdf\n"
     ]
    },
    {
     "name": "stderr",
     "output_type": "stream",
     "text": [
      "\r",
      " 38%|███▊      | 255/665 [14:32<23:07,  3.38s/it]"
     ]
    },
    {
     "name": "stdout",
     "output_type": "stream",
     "text": [
      "【一拍】北京市朝阳区望京西园一区113号楼6至7层2单元601号房屋（155.02㎡） https://paimai.jd.com/105702860\n",
      "望京西园报告.pdf https://storage.jd.com/auction.gateway/67b14e5b53f0b8faa1071075ef7c870d20180425160707041.pdf\n"
     ]
    },
    {
     "name": "stderr",
     "output_type": "stream",
     "text": [
      "\r",
      " 38%|███▊      | 256/665 [14:35<23:29,  3.45s/it]"
     ]
    },
    {
     "name": "stdout",
     "output_type": "stream",
     "text": [
      "【二拍】北京市朝阳区农展馆南路9号院2号楼1203号（134.55㎡） https://paimai.jd.com/105832651\n",
      "农展馆评估报告.pdf https://storage.jd.com/auction.gateway/2e7e89ecda6ce7d1e38c1583aa123f7720180510103215001.pdf\n"
     ]
    },
    {
     "name": "stderr",
     "output_type": "stream",
     "text": [
      "\r",
      " 39%|███▊      | 257/665 [14:40<25:35,  3.76s/it]"
     ]
    },
    {
     "name": "stdout",
     "output_type": "stream",
     "text": [
      "【一拍】北京市朝阳区芍药居14号院1号楼3层8单元301号 (60.07㎡) https://paimai.jd.com/105688400\n",
      "朝阳芍药居14号3层8单元301号评估报告.pdf https://storage.jd.com/auction.gateway/c86292a20d6d3d9adeccda9d5f1b8cc520180424141655045.pdf\n"
     ]
    },
    {
     "name": "stderr",
     "output_type": "stream",
     "text": [
      " 39%|███▉      | 259/665 [14:48<28:25,  4.20s/it]"
     ]
    },
    {
     "name": "stdout",
     "output_type": "stream",
     "text": [
      "【一拍】北京市朝阳区南磨房37号23层2610号房屋 https://paimai.jd.com/105711475\n",
      "评估报告【（2016）京0105执14810号执行案件——南磨房5套公寓】.pdf https://storage.jd.com/auction.gateway/df09b30f3e0b3c1e43479ab1f0287f1320180518104747100.pdf\n",
      "2017.07.14-（2016）朝执字第14810号-北京市朝阳区南磨房37号23层2606、2607、2608、2609、2610号5套房屋-房本.pdf https://storage.jd.com/auction.gateway/f9efaa78081148445d1c21013857077a20180518104747161.pdf\n"
     ]
    },
    {
     "name": "stderr",
     "output_type": "stream",
     "text": [
      " 39%|███▉      | 261/665 [14:58<29:23,  4.36s/it]"
     ]
    },
    {
     "name": "stdout",
     "output_type": "stream",
     "text": [
      "【二拍】北京市房山区房山保健路二条9号楼3-301号 https://paimai.jd.com/105829862\n",
      "（结果报告）京城捷信20170106—SF024.pdf https://storage.jd.com/auction.gateway/ccc1fd4261c0747fcc80d383ebd3cbbf20180509195558151.pdf\n",
      "【一拍】北京市通州区五里店西路6号3号楼632号 https://paimai.jd.com/105654587\n",
      "北京市通州区五里店西路6号3号楼632号房地产估价.pdf https://storage.jd.com/auction.gateway/5db88cfbef6171507f3121e3c091910620180420163735062.pdf\n"
     ]
    },
    {
     "name": "stderr",
     "output_type": "stream",
     "text": [
      "\r",
      " 39%|███▉      | 262/665 [15:00<25:17,  3.77s/it]"
     ]
    },
    {
     "name": "stdout",
     "output_type": "stream",
     "text": [
      "【一拍】北京市门头沟区月季园23号楼2-403号 https://paimai.jd.com/105680332\n",
      "306号-月季园.pdf https://storage.jd.com/auction.gateway/ccdc532a7dd76f087f994ea0dfe0193a20180423151301018.pdf\n",
      "付杨执行裁定书.doc https://storage.jd.com/auction.gateway/24158df3071da47dedd879848a8d7a9320180423151301083.doc\n"
     ]
    },
    {
     "name": "stderr",
     "output_type": "stream",
     "text": [
      "\r",
      " 40%|███▉      | 263/665 [15:05<26:39,  3.98s/it]"
     ]
    },
    {
     "name": "stdout",
     "output_type": "stream",
     "text": [
      "【一拍】北京市海淀区永泰园15楼1308号 (147.77㎡) https://paimai.jd.com/105631670\n",
      "海淀区永泰园15楼1308号 评估报告.pdf https://storage.jd.com/auction.gateway/af76d93c69253415b8f85ea3faf0909e20180508113530956.pdf\n"
     ]
    },
    {
     "name": "stderr",
     "output_type": "stream",
     "text": [
      "\r",
      " 40%|███▉      | 264/665 [15:07<23:18,  3.49s/it]"
     ]
    },
    {
     "name": "stdout",
     "output_type": "stream",
     "text": [
      "【一拍】北京市房山区窦店镇山水汇豪苑16号楼5层1单元501 https://paimai.jd.com/105643481\n",
      "结果报告 京城捷信201700189—SF044.pdf https://storage.jd.com/auction.gateway/7ca29de55b6eca72a6d9d49748c87a8f20180419140700833.pdf\n"
     ]
    },
    {
     "name": "stderr",
     "output_type": "stream",
     "text": [
      "\r",
      " 40%|███▉      | 265/665 [15:13<27:01,  4.05s/it]"
     ]
    },
    {
     "name": "stdout",
     "output_type": "stream",
     "text": [
      "【一拍】北京市房山区城关街道永安家园8号楼2层1-201 https://paimai.jd.com/105644019\n",
      "房山区城关街道永安家园8号楼2层1-201(1).rar https://storage.jd.com/auction.gateway/663ece92f11c40ecc5c92bac242bc95920180419144740555.rar\n"
     ]
    },
    {
     "name": "stderr",
     "output_type": "stream",
     "text": [
      "\r",
      " 40%|████      | 266/665 [15:16<24:48,  3.73s/it]"
     ]
    },
    {
     "name": "stdout",
     "output_type": "stream",
     "text": [
      "【一拍】北京市怀柔区开利园60号楼4-601号 https://paimai.jd.com/105626858\n",
      "结果报告.pdf https://storage.jd.com/auction.gateway/2cb34b48b4a8846e3c843aeb923950de20180417172256440.pdf\n"
     ]
    },
    {
     "name": "stderr",
     "output_type": "stream",
     "text": [
      "\r",
      " 40%|████      | 267/665 [15:19<23:28,  3.54s/it]"
     ]
    },
    {
     "name": "stdout",
     "output_type": "stream",
     "text": [
      "【变卖】北京市海淀区魏公村街1号韦伯豪家园1号楼9层902号房屋（74.20㎡） https://paimai.jd.com/105237569\n",
      "北京市海淀区魏公村街1号韦伯豪家园1号楼九层902号房屋房地产价值评估报告.doc https://storage.jd.com/auction.gateway/6e7f85e00daa68809a573dba11be4b1720180305151146859.doc\n"
     ]
    },
    {
     "name": "stderr",
     "output_type": "stream",
     "text": [
      "\r",
      " 40%|████      | 268/665 [15:21<21:19,  3.22s/it]"
     ]
    },
    {
     "name": "stdout",
     "output_type": "stream",
     "text": [
      "【变卖】北京市密云区溪水花园八区3号楼5层1单元502号（81.6㎡） https://paimai.jd.com/105234680\n",
      "2017-6-15北京市密云区溪水花园八区-----结果报告.doc https://storage.jd.com/auction.gateway/c92d02f45868fd62143129c99c191c5120180305112658487.doc\n"
     ]
    },
    {
     "name": "stderr",
     "output_type": "stream",
     "text": [
      " 41%|████      | 271/665 [15:35<27:21,  4.17s/it]"
     ]
    },
    {
     "name": "stdout",
     "output_type": "stream",
     "text": [
      "【一拍】北京市朝阳区双柳北街39号6层2单元601 https://paimai.jd.com/105558408\n",
      "北京首次好阳区双柳北街39号6层2单元601号.pdf https://storage.jd.com/auction.gateway/1866a8f01c3eee67144a5775dfe3ab9320180410160747752.pdf\n"
     ]
    },
    {
     "name": "stderr",
     "output_type": "stream",
     "text": [
      "\r",
      " 41%|████      | 272/665 [15:37<23:15,  3.55s/it]"
     ]
    },
    {
     "name": "stdout",
     "output_type": "stream",
     "text": [
      "【一拍】北京市西城区红居街2号楼20层2005（83.1㎡） https://paimai.jd.com/105548069\n",
      "结果报告2017-1-1062-F01SFZC6北京市西城区红居街2号楼20层2005号住宅用房房地产市场价值评估.pdf https://storage.jd.com/auction.gateway/5e192802f44b13cee539de707b739ee120180409141711681.pdf\n"
     ]
    },
    {
     "name": "stderr",
     "output_type": "stream",
     "text": [
      "\r",
      " 41%|████      | 273/665 [15:40<21:54,  3.35s/it]"
     ]
    },
    {
     "name": "stdout",
     "output_type": "stream",
     "text": [
      "【一拍】北京市朝阳区朝阳北路万象新天家园407号楼1层4-101 https://paimai.jd.com/105549482\n",
      "万象新天报告.pdf https://storage.jd.com/auction.gateway/0e8605108741a115bf5102804384dca320180409153212180.pdf\n"
     ]
    },
    {
     "name": "stderr",
     "output_type": "stream",
     "text": [
      "\r",
      " 41%|████      | 274/665 [15:42<19:40,  3.02s/it]"
     ]
    },
    {
     "name": "stdout",
     "output_type": "stream",
     "text": [
      "【一拍】北京市朝阳区双柳北街39号6层2单元602号 https://paimai.jd.com/105627087\n",
      "北京首次好阳区双柳北街39号6层2单元602号.pdf https://storage.jd.com/auction.gateway/0d04c420de9e3975b789ce0eb6cead4620180417173913296.pdf\n"
     ]
    },
    {
     "name": "stderr",
     "output_type": "stream",
     "text": [
      "\r",
      " 41%|████▏     | 275/665 [15:44<18:31,  2.85s/it]"
     ]
    },
    {
     "name": "stdout",
     "output_type": "stream",
     "text": [
      "【一拍】北京市顺义区胜利小区7号楼3层5单元302号 https://paimai.jd.com/105571997\n",
      "评估报告——顺义区胜利小区.pdf https://storage.jd.com/auction.gateway/514ea6159ca0a79bcdbf591b486cba4f20180420164740227.pdf\n"
     ]
    },
    {
     "name": "stderr",
     "output_type": "stream",
     "text": [
      "\r",
      " 42%|████▏     | 276/665 [15:49<21:18,  3.29s/it]"
     ]
    },
    {
     "name": "stdout",
     "output_type": "stream",
     "text": [
      "【变卖】北京市朝阳区八里庄西75 号楼19 层1908 号 https://paimai.jd.com/105189970\n",
      "八里庄西里75号楼1908-京港（2017）涉案字第（37）号.pdf https://storage.jd.com/auction.gateway/40139bace35a12a59b6b10b74b16b71c20180227161100679.pdf\n"
     ]
    },
    {
     "name": "stderr",
     "output_type": "stream",
     "text": [
      "\r",
      " 42%|████▏     | 277/665 [15:51<20:07,  3.11s/it]"
     ]
    },
    {
     "name": "stdout",
     "output_type": "stream",
     "text": [
      "【一拍】北京市通州区徐辛庄镇西北京通州路通道桥工程公司院内1幢111号 https://paimai.jd.com/105536145\n",
      "道桥公司家属楼报告（标准价）.pdf https://storage.jd.com/auction.gateway/5bff6bddde550b50607588282f6ec3b720180408163756386.pdf\n"
     ]
    },
    {
     "name": "stderr",
     "output_type": "stream",
     "text": [
      "\r",
      " 42%|████▏     | 278/665 [15:54<20:00,  3.10s/it]"
     ]
    },
    {
     "name": "stdout",
     "output_type": "stream",
     "text": [
      "【一拍】北京市怀柔区红螺路16号院701号 (347.63㎡) https://paimai.jd.com/105530265\n",
      "怀柔区红螺路16号院湖光山舍评估报告.pdf https://storage.jd.com/auction.gateway/96947af9a402be7fce566c2621fb455220180418111209530.pdf\n"
     ]
    },
    {
     "name": "stderr",
     "output_type": "stream",
     "text": [
      "\r",
      " 42%|████▏     | 279/665 [15:57<18:44,  2.91s/it]"
     ]
    },
    {
     "name": "stdout",
     "output_type": "stream",
     "text": [
      "【一拍】北京市海淀区玉海园二里21号楼11层1107号 https://paimai.jd.com/105510245\n",
      "玉海园结果报告.pdf https://storage.jd.com/auction.gateway/2f088f39217ba988fe7d7920f6ebb7f020180408160422777.pdf\n"
     ]
    },
    {
     "name": "stderr",
     "output_type": "stream",
     "text": [
      " 42%|████▏     | 281/665 [16:06<25:02,  3.91s/it]"
     ]
    },
    {
     "name": "stdout",
     "output_type": "stream",
     "text": [
      "【二拍】北京市昌平区昌平镇西环里小区40号楼5层505号房地产 https://paimai.jd.com/105554061\n",
      "昌平区昌平镇西环里小区40号楼5层505号.pdf https://storage.jd.com/auction.gateway/629867d3eda21cdc744065c9657d6b7f20180410093658108.pdf\n"
     ]
    },
    {
     "name": "stderr",
     "output_type": "stream",
     "text": [
      " 43%|████▎     | 283/665 [16:15<26:26,  4.15s/it]"
     ]
    },
    {
     "name": "stdout",
     "output_type": "stream",
     "text": [
      "【一拍】北京市东城区西花市南里西区1号楼9-1002号 https://paimai.jd.com/105504131\n",
      "(结果报告) 京城捷信20170435—SF112.pdf https://storage.jd.com/auction.gateway/0269c9f5e0e6bc107b51b4bc5116037120180403162326579.pdf\n",
      "裁定书.docx https://storage.jd.com/auction.gateway/de9d1d4e12456946bb0579ad0762fc1720180403162326616.docx\n"
     ]
    },
    {
     "name": "stderr",
     "output_type": "stream",
     "text": [
      "\r",
      " 43%|████▎     | 284/665 [16:20<28:08,  4.43s/it]"
     ]
    },
    {
     "name": "stdout",
     "output_type": "stream",
     "text": [
      "【一拍】北京市朝阳区东苇路万象新天家园130号楼3-4层4-301号 https://paimai.jd.com/105500687\n",
      "万象新天家园.pdf https://storage.jd.com/auction.gateway/49c5cee4c29331ea6f09a52ee33c345720180403111022595.pdf\n",
      "裁定书.docx https://storage.jd.com/auction.gateway/2d32df0d6e1f1c9b979da734497790f220180403111022638.docx\n"
     ]
    },
    {
     "name": "stderr",
     "output_type": "stream",
     "text": [
      "\r",
      " 43%|████▎     | 285/665 [16:23<26:12,  4.14s/it]"
     ]
    },
    {
     "name": "stdout",
     "output_type": "stream",
     "text": [
      "【一拍】北京市大兴区旧宫镇云龙家园3号楼7层1-702房产(116.07㎡) https://paimai.jd.com/105490418\n",
      "大兴区旧宫镇云龙家园3号楼1-702评估报告.doc https://storage.jd.com/auction.gateway/8ab7ee6eefbf7aa1055bd42a935b893020180418144236051.doc\n"
     ]
    },
    {
     "name": "stderr",
     "output_type": "stream",
     "text": [
      "\r",
      " 43%|████▎     | 286/665 [16:27<26:14,  4.15s/it]"
     ]
    },
    {
     "name": "stdout",
     "output_type": "stream",
     "text": [
      "【一拍】北京市大兴区安顺北路6号院15号楼6层3单元601 https://paimai.jd.com/105449303\n",
      "评估报告-大兴区安顺北路6号院15号楼3单元601.doc https://storage.jd.com/auction.gateway/5aad3f6b40dd48fe2acb0d5804e35c6420180329123713380.doc\n"
     ]
    },
    {
     "name": "stderr",
     "output_type": "stream",
     "text": [
      "\r",
      " 43%|████▎     | 287/665 [16:31<24:53,  3.95s/it]"
     ]
    },
    {
     "name": "stdout",
     "output_type": "stream",
     "text": [
      "【一拍】北京市朝阳区大屯路科学园南里-风林绿洲I甲号楼14层1403号 https://paimai.jd.com/105453793\n",
      "风林绿洲 估价报告.pdf https://storage.jd.com/auction.gateway/b20f9aec1649157331bdfcb1e4b7847420180402105204769.pdf\n"
     ]
    },
    {
     "name": "stderr",
     "output_type": "stream",
     "text": [
      "\r",
      " 43%|████▎     | 288/665 [16:34<23:15,  3.70s/it]"
     ]
    },
    {
     "name": "stdout",
     "output_type": "stream",
     "text": [
      "【一拍】北京市朝阳区朝阳公园西里南区8号院1号楼6层1-702、2-701号 https://paimai.jd.com/105430292\n",
      "北京市朝阳区朝阳公园西里南区8号院1号楼6层1-702、2-701号.doc https://storage.jd.com/auction.gateway/5985d099249a43eaec07b0dd27a5678020180328094222465.doc\n"
     ]
    },
    {
     "name": "stderr",
     "output_type": "stream",
     "text": [
      "\r",
      " 43%|████▎     | 289/665 [16:37<22:24,  3.58s/it]"
     ]
    },
    {
     "name": "stdout",
     "output_type": "stream",
     "text": [
      "【一拍】北京经济技术开发区富园东里一区122号 https://paimai.jd.com/105361047\n",
      "经济技术开发区富园东里一区122号楼评估报告.pdf https://storage.jd.com/auction.gateway/f0066e3ae7917ae3da3a87958a14057820180319153706376.pdf\n"
     ]
    },
    {
     "name": "stderr",
     "output_type": "stream",
     "text": [
      "\r",
      " 44%|████▎     | 290/665 [16:40<20:03,  3.21s/it]"
     ]
    },
    {
     "name": "stdout",
     "output_type": "stream",
     "text": [
      "【一拍】北京市朝阳区北苑路86号院207号楼1至2层4单元102及地下车库-1层046号 https://paimai.jd.com/105399901\n",
      "结果报告--嘉铭桐城-终稿.pdf https://storage.jd.com/auction.gateway/cc27e495e1d2e18e5a0c83d95c6d2e8a20180323165249640.pdf\n"
     ]
    },
    {
     "name": "stderr",
     "output_type": "stream",
     "text": [
      "\r",
      " 44%|████▍     | 291/665 [16:44<22:12,  3.56s/it]"
     ]
    },
    {
     "name": "stdout",
     "output_type": "stream",
     "text": [
      "【一拍】北京市昌平区北七家镇蓬莱公寓32号楼B单元3层5号房产(140.2㎡) https://paimai.jd.com/105386944\n",
      "北京市昌平区北七家蓬莱公寓32号楼B单元3层5号-评估报告.pdf https://storage.jd.com/auction.gateway/843b8706e678a5e53fe6f804969efc3c20180322112632338.pdf\n"
     ]
    },
    {
     "name": "stderr",
     "output_type": "stream",
     "text": [
      "\r",
      " 44%|████▍     | 292/665 [16:49<24:54,  4.01s/it]"
     ]
    },
    {
     "name": "stdout",
     "output_type": "stream",
     "text": [
      "【一拍】北京市朝阳区工体南路4号楼8层810房产(41.96㎡) https://paimai.jd.com/105388289\n",
      "朝阳区工体南路4号楼8层810评估报告.pdf https://storage.jd.com/auction.gateway/900a45714213c3ca7f3bda4a2c00a3db20180416095232118.pdf\n"
     ]
    },
    {
     "name": "stderr",
     "output_type": "stream",
     "text": [
      "\r",
      " 44%|████▍     | 293/665 [16:52<22:22,  3.61s/it]"
     ]
    },
    {
     "name": "stdout",
     "output_type": "stream",
     "text": [
      "【一拍】北京市海淀区西二旗西路1号院53号楼1至3层103房产(297.11㎡) https://paimai.jd.com/105372390\n",
      "海淀区西二旗西路1号院53号楼103号房屋房地产价值评估.pdf https://storage.jd.com/auction.gateway/6ad94a10f5355b2e23b358542574782e20180328093235108.pdf\n"
     ]
    },
    {
     "name": "stderr",
     "output_type": "stream",
     "text": [
      "\r",
      " 44%|████▍     | 294/665 [16:54<19:59,  3.23s/it]"
     ]
    },
    {
     "name": "stdout",
     "output_type": "stream",
     "text": [
      "【一拍】北京市海淀区小南庄37号楼6层1061号房地产 https://paimai.jd.com/105310974\n",
      "小南庄37号楼结果报告.doc https://storage.jd.com/auction.gateway/1c730a1af85a34a4d040d43c0100446a20180314091124392.doc\n"
     ]
    },
    {
     "name": "stderr",
     "output_type": "stream",
     "text": [
      "\r",
      " 44%|████▍     | 295/665 [16:57<19:10,  3.11s/it]"
     ]
    },
    {
     "name": "stdout",
     "output_type": "stream",
     "text": [
      "【一拍】北京市朝阳区弘善家园314号楼506 https://paimai.jd.com/105292675\n",
      "北京市朝阳区弘善家园314号楼506号.pdf https://storage.jd.com/auction.gateway/4c557013436b1331d69308e743a925dd20180315164223760.pdf\n"
     ]
    },
    {
     "name": "stderr",
     "output_type": "stream",
     "text": [
      "\r",
      " 45%|████▍     | 296/665 [17:02<22:57,  3.73s/it]"
     ]
    },
    {
     "name": "stdout",
     "output_type": "stream",
     "text": [
      "【一拍】西城区马连道路6号院5号楼13层2单元1607 https://paimai.jd.com/105273677\n",
      "马连道路6号院5号楼13层2单元1607号（2015朝执字第13025号）.pdf https://storage.jd.com/auction.gateway/21cc97f214ed52f26f491a642e65e43620180309161149228.pdf\n"
     ]
    },
    {
     "name": "stderr",
     "output_type": "stream",
     "text": [
      "\r",
      " 45%|████▍     | 297/665 [17:06<23:00,  3.75s/it]"
     ]
    },
    {
     "name": "stdout",
     "output_type": "stream",
     "text": [
      "【一拍】北京市朝阳区建华南路6号院2号楼24层2803号 https://paimai.jd.com/105294783\n",
      "北京市朝阳区建华南路6号院2号楼24层2803.pdf https://storage.jd.com/auction.gateway/12192109acd0f56dd3fb5f23844f7b2c20180313144132415.pdf\n"
     ]
    },
    {
     "name": "stderr",
     "output_type": "stream",
     "text": [
      "\r",
      " 45%|████▍     | 298/665 [17:09<21:16,  3.48s/it]"
     ]
    },
    {
     "name": "stdout",
     "output_type": "stream",
     "text": [
      "【一拍】北京市朝阳区双柳北街39号6层2单元601号 https://paimai.jd.com/105326355\n",
      "北京首次好阳区双柳北街39号6层2单元601号.pdf https://storage.jd.com/auction.gateway/5aed4ca5d126dcd637c44c5a31d59b5920180316102235399.pdf\n"
     ]
    },
    {
     "name": "stderr",
     "output_type": "stream",
     "text": [
      "\r",
      " 45%|████▍     | 299/665 [17:12<21:27,  3.52s/it]"
     ]
    },
    {
     "name": "stdout",
     "output_type": "stream",
     "text": [
      "【一拍】北京市丰台区大成南里长安新城社区二区10号楼1单元202室 https://paimai.jd.com/105292120\n",
      "2018A006丰台区大成南里长安新城社区二区10号楼1单元202号房屋房地产价值评估.pdf https://storage.jd.com/auction.gateway/3ac3a8a7c8c154bc62482ade48bee54a20180329161723381.pdf\n"
     ]
    },
    {
     "name": "stderr",
     "output_type": "stream",
     "text": [
      "\r",
      " 45%|████▌     | 300/665 [17:16<21:21,  3.51s/it]"
     ]
    },
    {
     "name": "stdout",
     "output_type": "stream",
     "text": [
      "【二拍】北京市朝阳区大屯路科学园南里-风林绿洲I甲号楼14层1404号 https://paimai.jd.com/105439164\n",
      "2017A142朝阳区大屯路科学园南里-风林绿洲Ⅰ甲号楼1404号房屋房地产价值评估.pdf https://storage.jd.com/auction.gateway/14f35640ed1b37b06da33f409ba426d720180328151754434.pdf\n"
     ]
    },
    {
     "name": "stderr",
     "output_type": "stream",
     "text": [
      "\r",
      " 45%|████▌     | 301/665 [17:20<22:16,  3.67s/it]"
     ]
    },
    {
     "name": "stdout",
     "output_type": "stream",
     "text": [
      "【一拍】北京市丰台区恒松园1 号楼20层1403 https://paimai.jd.com/105334865\n",
      "北京市丰台区恒松园1号楼20层1403住宅房地产价值评估.pdf https://storage.jd.com/auction.gateway/54fbf705daccdd3e20d6d75d37e709c620180316105218044.pdf\n"
     ]
    },
    {
     "name": "stderr",
     "output_type": "stream",
     "text": [
      "\r",
      " 45%|████▌     | 302/665 [17:24<22:48,  3.77s/it]"
     ]
    },
    {
     "name": "stdout",
     "output_type": "stream",
     "text": [
      "【一拍】北京市朝阳区双柳北街39号6层2单元602号 https://paimai.jd.com/105326504\n",
      "北京首次好阳区双柳北街39号6层2单元602号.pdf https://storage.jd.com/auction.gateway/0d04c420de9e3975b789ce0eb6cead4620180316102231854.pdf\n"
     ]
    },
    {
     "name": "stderr",
     "output_type": "stream",
     "text": [
      "\r",
      " 46%|████▌     | 303/665 [17:27<21:13,  3.52s/it]"
     ]
    },
    {
     "name": "stdout",
     "output_type": "stream",
     "text": [
      "【一拍】朝阳区胜古家园5号楼5单元1106 https://paimai.jd.com/105272883\n",
      "北京市朝阳区胜古家园5号楼11层5-1106号.PDF https://storage.jd.com/auction.gateway/2737813034494de29a85b03a61c60d8b20180309151736070.PDF\n"
     ]
    },
    {
     "name": "stderr",
     "output_type": "stream",
     "text": [
      " 46%|████▌     | 305/665 [17:34<22:33,  3.76s/it]"
     ]
    },
    {
     "name": "stdout",
     "output_type": "stream",
     "text": [
      "【一拍】北京市海淀区西二旗西路1号院53号楼1至3层103房产(297.11㎡) https://paimai.jd.com/105335622\n",
      "海淀区西二旗西路1号院53号楼103号房屋房地产价值评估.pdf https://storage.jd.com/auction.gateway/6ad94a10f5355b2e23b358542574782e20180319091153374.pdf\n"
     ]
    },
    {
     "name": "stderr",
     "output_type": "stream",
     "text": [
      "\r",
      " 46%|████▌     | 306/665 [17:37<21:21,  3.57s/it]"
     ]
    },
    {
     "name": "stdout",
     "output_type": "stream",
     "text": [
      "【二拍】北京市延庆区南菜园二区37号楼一单元110号房产 https://paimai.jd.com/105422988\n",
      "170128延庆南菜园结果报告.doc https://storage.jd.com/auction.gateway/aeb8ca450d9ab6825cedb82ebd1fc34a20180326192626286.doc\n"
     ]
    },
    {
     "name": "stderr",
     "output_type": "stream",
     "text": [
      " 46%|████▋     | 308/665 [17:46<24:22,  4.10s/it]"
     ]
    },
    {
     "name": "stdout",
     "output_type": "stream",
     "text": [
      "【一拍】北京市昌平区昌平镇新悦家园29号楼4单元401号 https://paimai.jd.com/105234892\n",
      "北京市昌平区昌平镇新悦家园29号楼4单元401号评估报告.pdf https://storage.jd.com/auction.gateway/06fae671abc287ef2c68f125706a513920180321110647119.pdf\n"
     ]
    },
    {
     "name": "stderr",
     "output_type": "stream",
     "text": [
      "\r",
      " 46%|████▋     | 309/665 [17:50<23:47,  4.01s/it]"
     ]
    },
    {
     "name": "stdout",
     "output_type": "stream",
     "text": [
      "【变卖】北京市大兴区庞各庄镇隆盛西园5号楼5层6-502 号 https://paimai.jd.com/104938569\n",
      "中建华-2017-225号报告(含照片.pdf https://storage.jd.com/auction.gateway/58df9dcb2c2fd2b9c4b1f85901d22fce20180123163059957.pdf\n"
     ]
    },
    {
     "name": "stderr",
     "output_type": "stream",
     "text": [
      "\r",
      " 47%|████▋     | 310/665 [17:54<23:28,  3.97s/it]"
     ]
    },
    {
     "name": "stdout",
     "output_type": "stream",
     "text": [
      "【一拍】北京市海淀区学院路6号1号楼-③1902号房产(152.50㎡) https://paimai.jd.com/105201855\n",
      "北京市海淀区学院路6号1号楼③-1902号住宅用途房地产市场价值评估.pdf https://storage.jd.com/auction.gateway/a7d95d551e5cd7f147c1f2ce9127d67920180301093655671.pdf\n"
     ]
    },
    {
     "name": "stderr",
     "output_type": "stream",
     "text": [
      "\r",
      " 47%|████▋     | 311/665 [17:59<24:53,  4.22s/it]"
     ]
    },
    {
     "name": "stdout",
     "output_type": "stream",
     "text": [
      "【二拍】北京市海淀区万柳万泉新新家园12号楼7层1-702房 https://paimai.jd.com/105334110\n",
      "评估报告.pdf https://storage.jd.com/auction.gateway/9ee9aa76788a1cf93888ece67ee512f320180316095709899.pdf\n"
     ]
    },
    {
     "name": "stderr",
     "output_type": "stream",
     "text": [
      " 47%|████▋     | 313/665 [18:07<24:13,  4.13s/it]"
     ]
    },
    {
     "name": "stdout",
     "output_type": "stream",
     "text": [
      "【二拍】北京市海淀区万柳万泉新新家园12号楼7层1-701房 https://paimai.jd.com/105333933\n",
      "评估报告.pdf https://storage.jd.com/auction.gateway/f9f1e8d3cc2c078d1c237e511ab4b54920180316093247460.pdf\n",
      "【二拍】北京市丰台区科学城帝京路1号（1-49）号住宅用途房屋 https://paimai.jd.com/105291503\n",
      "01-98 裁定.pdf https://storage.jd.com/auction.gateway/2a651a34f42316671c935418f739fdc020180313101132644.pdf\n",
      "(结果报告)京城捷信20170227—sf061-谢审改.pdf https://storage.jd.com/auction.gateway/45946216fcde2079f0da36b4ee0a9d3f20180313101132675.pdf\n"
     ]
    },
    {
     "name": "stderr",
     "output_type": "stream",
     "text": [
      "\r",
      " 47%|████▋     | 314/665 [18:10<21:38,  3.70s/it]"
     ]
    },
    {
     "name": "stdout",
     "output_type": "stream",
     "text": [
      "情况说明.pdf https://storage.jd.com/auction.gateway/5e79d366ef7ab4403cd831897776465920180313101132718.pdf\n",
      "【一拍】北京市朝阳区甘露园6号楼20层2302号 https://paimai.jd.com/105176164\n",
      "结果报告.pdf https://storage.jd.com/auction.gateway/0524eed4111536d91a115191f5e8602120180226171728428.pdf\n"
     ]
    },
    {
     "name": "stderr",
     "output_type": "stream",
     "text": [
      "\r",
      " 47%|████▋     | 315/665 [18:14<22:39,  3.89s/it]"
     ]
    },
    {
     "name": "stdout",
     "output_type": "stream",
     "text": [
      "【二拍】北京市朝阳区望京园三区303号楼乙1202号住宅 https://paimai.jd.com/105174756\n",
      "评估报告.pdf https://storage.jd.com/auction.gateway/0f4c5387a65c673158afed6bb3d57afb20180226162658032.pdf\n"
     ]
    },
    {
     "name": "stderr",
     "output_type": "stream",
     "text": [
      "\r",
      " 48%|████▊     | 316/665 [18:18<22:17,  3.83s/it]"
     ]
    },
    {
     "name": "stdout",
     "output_type": "stream",
     "text": [
      "（2015）二中执字第1457号.doc https://storage.jd.com/auction.gateway/b5c65115d242f3bff8b814f19cc091a520180226162658162.doc\n",
      "【二拍】北京市大兴区黄村镇观音寺北里10号楼1层3-101 https://paimai.jd.com/105237262\n",
      "2016京0105执16447号+大兴区黄村镇观音寺北里10号楼1层3-101报告.pdf https://storage.jd.com/auction.gateway/6db5472ceffa39c8560a0100193dde8920180305145653578.pdf\n"
     ]
    },
    {
     "name": "stderr",
     "output_type": "stream",
     "text": [
      "\r",
      " 48%|████▊     | 317/665 [18:21<20:53,  3.60s/it]"
     ]
    },
    {
     "name": "stdout",
     "output_type": "stream",
     "text": [
      "【变卖】北京市通州区西富河园1号4号楼5层451号住宅（128.29㎡） https://paimai.jd.com/104777122\n",
      "评估报告-西富河园.pdf https://storage.jd.com/auction.gateway/9898d4e3708371057b1a3a9c31b57ff520180104142625629.pdf\n"
     ]
    },
    {
     "name": "stderr",
     "output_type": "stream",
     "text": [
      "\r",
      " 48%|████▊     | 318/665 [18:23<18:36,  3.22s/it]"
     ]
    },
    {
     "name": "stdout",
     "output_type": "stream",
     "text": [
      "【二拍】北京市房山区长阳镇碧桂园57号楼6层2单元603室 https://paimai.jd.com/105249442\n",
      "房山长阳镇碧桂园57号楼6层2单元603号.pdf https://storage.jd.com/auction.gateway/dd59d13cae0c3c8f61ae36569861c5c420180306165630414.pdf\n"
     ]
    },
    {
     "name": "stderr",
     "output_type": "stream",
     "text": [
      "\r",
      " 48%|████▊     | 319/665 [18:26<17:39,  3.06s/it]"
     ]
    },
    {
     "name": "stdout",
     "output_type": "stream",
     "text": [
      "【二拍】北京市门头沟永新小区8号楼1层1单元102号（85.77㎡） https://paimai.jd.com/105202165\n",
      "门头沟永新小区8号楼1层1单元102号.pdf https://storage.jd.com/auction.gateway/67e86f3aa4fa0f10cf498b13bae2a57520180301100423722.pdf\n"
     ]
    },
    {
     "name": "stderr",
     "output_type": "stream",
     "text": [
      "\r",
      " 48%|████▊     | 320/665 [18:30<19:04,  3.32s/it]"
     ]
    },
    {
     "name": "stdout",
     "output_type": "stream",
     "text": [
      "【二拍】北京市朝阳区紫玉东路1号716幢-1至3层 https://paimai.jd.com/105189217\n",
      "北京市朝阳区紫玉东路1号716幢-1至3层房地产估价报告.pdf https://storage.jd.com/auction.gateway/f98431ca930fcc9205eae5bf2808971d20180227152210558.pdf\n"
     ]
    },
    {
     "name": "stderr",
     "output_type": "stream",
     "text": [
      "\r",
      " 48%|████▊     | 321/665 [18:33<18:57,  3.31s/it]"
     ]
    },
    {
     "name": "stdout",
     "output_type": "stream",
     "text": [
      "【二拍】北京市朝阳区通惠家园惠泽园6号楼8层1单元805号、806号两套房屋 https://paimai.jd.com/105189198\n",
      "评估报告（通惠家园805）.pdf https://storage.jd.com/auction.gateway/381e2ca9d6e9973b6a139df356c7922520180227152136126.pdf\n",
      "评估报告-朝阳通惠家园惠泽园（2015朝执字第4670号）.pdf https://storage.jd.com/auction.gateway/378879c0b64b17591487c210a0b4fb2e20180227152136437.pdf\n"
     ]
    },
    {
     "name": "stderr",
     "output_type": "stream",
     "text": [
      "\r",
      " 48%|████▊     | 322/665 [18:39<23:20,  4.08s/it]"
     ]
    },
    {
     "name": "stdout",
     "output_type": "stream",
     "text": [
      "【一拍】北京市东城区香河园街1号8号楼20层2305号 https://paimai.jd.com/105111053\n",
      "香河园执行依据.docx https://storage.jd.com/auction.gateway/151efb9cae3dc8ace0bdc466aa502a3320180209094127686.docx\n",
      "香河园街1号8号楼-估价报告.pdf https://storage.jd.com/auction.gateway/49c1438ad453e5dc093dfdda17643ca720180209094127734.pdf\n"
     ]
    },
    {
     "name": "stderr",
     "output_type": "stream",
     "text": [
      "\r",
      " 49%|████▊     | 323/665 [18:42<21:34,  3.78s/it]"
     ]
    },
    {
     "name": "stdout",
     "output_type": "stream",
     "text": [
      "【一拍】北京市房山区阎村镇乐活家园19号4层2单元304 https://paimai.jd.com/105121906\n",
      "（北京）华信（2017）（估）字第00421号北京市房山区阎村镇乐活家园19号2单元304号住宅用途市场价值评估结果终稿.pdf https://storage.jd.com/auction.gateway/ff61d41d061bc93f444cbda4275f3f6120180212160125528.pdf\n"
     ]
    },
    {
     "name": "stderr",
     "output_type": "stream",
     "text": [
      "\r",
      " 49%|████▊     | 324/665 [18:45<21:13,  3.74s/it]"
     ]
    },
    {
     "name": "stdout",
     "output_type": "stream",
     "text": [
      "【一拍】北京市房山区阎村镇乐活家园19号4层2单元303 https://paimai.jd.com/105121827\n",
      "（北京）华信（2017）（估）字第00420号北京市房山区阎村镇乐活家园19号2单元303号住宅用途市场价值评估结果终稿.pdf https://storage.jd.com/auction.gateway/ceda6d3e1201b42e7cf1828223c4d15620180212155119855.pdf\n"
     ]
    },
    {
     "name": "stderr",
     "output_type": "stream",
     "text": [
      "\r",
      " 49%|████▉     | 325/665 [18:48<19:34,  3.45s/it]"
     ]
    },
    {
     "name": "stdout",
     "output_type": "stream",
     "text": [
      "【一拍】北京市昌平区水库路16号院二区2号10层1单元1001、1002住宅 https://paimai.jd.com/105108507\n",
      "北京市昌平区水库路16号院二区2号10层1单元1001、1002住宅房地产评估结果报告.pdf https://storage.jd.com/auction.gateway/efb6f044dde3634cf8a430f86e5813c220180208163130977.pdf\n"
     ]
    },
    {
     "name": "stderr",
     "output_type": "stream",
     "text": [
      "\r",
      " 49%|████▉     | 326/665 [18:52<19:48,  3.51s/it]"
     ]
    },
    {
     "name": "stdout",
     "output_type": "stream",
     "text": [
      "【一拍】北京市房山区阎村镇乐活家园31号4至5层3单元201 https://paimai.jd.com/105121873\n",
      "（北京）华信（2017）（估）字第00422号北京市房山区阎村镇乐活家园31号3单元201号住宅用途市场价值评估结果.pdf https://storage.jd.com/auction.gateway/63eec435d7c4306e3383a8b3c340a24020180212155627570.pdf\n"
     ]
    },
    {
     "name": "stderr",
     "output_type": "stream",
     "text": [
      "\r",
      " 49%|████▉     | 327/665 [18:54<18:03,  3.20s/it]"
     ]
    },
    {
     "name": "stdout",
     "output_type": "stream",
     "text": [
      "【一拍】北京市海淀区蓝靛厂南路59号18号楼3层18231房产(249.63㎡) https://paimai.jd.com/105111022\n",
      "海淀区蓝靛厂南路59号18号楼3层18231房产.pdf https://storage.jd.com/auction.gateway/2fd0cd12db5c1c5446c046e3521b69dd20180209092634254.pdf\n"
     ]
    },
    {
     "name": "stderr",
     "output_type": "stream",
     "text": [
      "\r",
      " 49%|████▉     | 328/665 [18:57<17:20,  3.09s/it]"
     ]
    },
    {
     "name": "stdout",
     "output_type": "stream",
     "text": [
      "【变卖】北京市门头沟区月季园23号楼2-403号房屋 https://paimai.jd.com/104713548\n",
      "付杨执行裁定书.doc https://storage.jd.com/auction.gateway/6a9c299b5569a4b162343db42f8e404220171227150427889.doc\n",
      "306号-月季园.pdf https://storage.jd.com/auction.gateway/890af4406282f0ef0817075660a56fea20171227150427923.pdf\n"
     ]
    },
    {
     "name": "stderr",
     "output_type": "stream",
     "text": [
      "\r",
      " 49%|████▉     | 329/665 [18:59<15:50,  2.83s/it]"
     ]
    },
    {
     "name": "stdout",
     "output_type": "stream",
     "text": [
      "【变卖】北京市丰台区芳古园一区2号楼10层3-1004号住宅 https://paimai.jd.com/104713760\n",
      "317号-芳古园一区.pdf https://storage.jd.com/auction.gateway/ce2c818ddb0e06f695292484d5fa1d3c20171227151317044.pdf\n"
     ]
    },
    {
     "name": "stderr",
     "output_type": "stream",
     "text": [
      "\r",
      " 50%|████▉     | 330/665 [19:02<15:21,  2.75s/it]"
     ]
    },
    {
     "name": "stdout",
     "output_type": "stream",
     "text": [
      "蔡宏莉民事判决书(一审民事案件用).doc https://storage.jd.com/auction.gateway/a10208aef19bd3fdd34cb9cf2261fa2d20171227151317140.doc\n"
     ]
    },
    {
     "name": "stderr",
     "output_type": "stream",
     "text": [
      "\r",
      " 50%|████▉     | 331/665 [19:07<19:25,  3.49s/it]"
     ]
    },
    {
     "name": "stdout",
     "output_type": "stream",
     "text": [
      "【变卖】北京市朝阳区百子湾路32号院2号楼19层2座2211号 https://paimai.jd.com/104704279\n",
      "百子湾路结果报告.pdf https://storage.jd.com/auction.gateway/c371ec7507760450ef5e9b590cbf46f720171226162042587.pdf\n"
     ]
    },
    {
     "name": "stderr",
     "output_type": "stream",
     "text": [
      "\r",
      " 50%|████▉     | 332/665 [19:11<19:06,  3.44s/it]"
     ]
    },
    {
     "name": "stdout",
     "output_type": "stream",
     "text": [
      "【变卖】北京市大兴区黄村镇富强西里 25 号楼 2层 1-203号 https://paimai.jd.com/104697453\n",
      "170178富强西里20170710.pdf https://storage.jd.com/auction.gateway/9e7b01846142ffef0dd0f6b46aa8471220171226110611482.pdf\n"
     ]
    },
    {
     "name": "stderr",
     "output_type": "stream",
     "text": [
      "\r",
      " 50%|█████     | 333/665 [19:14<18:47,  3.40s/it]"
     ]
    },
    {
     "name": "stdout",
     "output_type": "stream",
     "text": [
      "【变卖】北京市大兴区庞各庄镇隆盛西园5号楼5层6-502 号 https://paimai.jd.com/104697061\n",
      "中建华-2017-225号报告(含照片.pdf https://storage.jd.com/auction.gateway/58df9dcb2c2fd2b9c4b1f85901d22fce20171226104703232.pdf\n"
     ]
    },
    {
     "name": "stderr",
     "output_type": "stream",
     "text": [
      "\r",
      " 50%|█████     | 334/665 [19:18<20:33,  3.73s/it]"
     ]
    },
    {
     "name": "stdout",
     "output_type": "stream",
     "text": [
      "【变卖】北京市朝阳区南湖西园228号楼6层1单元701号 https://paimai.jd.com/104696518\n",
      "（结果报告）京城捷信20170200—SF049.pdf https://storage.jd.com/auction.gateway/62dffa5c1cfe5aa9eccfaab0ea42dc3220171226101701929.pdf\n"
     ]
    },
    {
     "name": "stderr",
     "output_type": "stream",
     "text": [
      "\r",
      " 50%|█████     | 335/665 [19:23<21:40,  3.94s/it]"
     ]
    },
    {
     "name": "stdout",
     "output_type": "stream",
     "text": [
      "【一拍】北京市海淀区板井路69号世纪金源国际公寓西区16层6单元19B号(175.7㎡) https://paimai.jd.com/105063992\n",
      "海淀区板井路世纪金源国际公寓报告.pdf https://storage.jd.com/auction.gateway/9f392142ce095234461c48044b5baf1620180208170609982.pdf\n"
     ]
    },
    {
     "name": "stderr",
     "output_type": "stream",
     "text": [
      "\r",
      " 51%|█████     | 336/665 [19:25<19:25,  3.54s/it]"
     ]
    },
    {
     "name": "stdout",
     "output_type": "stream",
     "text": [
      "【一拍】北京市房山区良乡苏园小区8号楼4层1-401号 https://paimai.jd.com/105065961\n",
      "2017-9-20良乡苏园小区-----结果.doc https://storage.jd.com/auction.gateway/1327a44300758827beecedf4dede5b8720180205145215311.doc\n"
     ]
    },
    {
     "name": "stderr",
     "output_type": "stream",
     "text": [
      "\r",
      " 51%|█████     | 337/665 [19:29<20:03,  3.67s/it]"
     ]
    },
    {
     "name": "stdout",
     "output_type": "stream",
     "text": [
      "【一拍】北京市昌平区京科苑68号楼1单元四层8号房地产 https://paimai.jd.com/104927894\n",
      "北京市昌平区京科苑68号楼1单元四层8号房地产评估结果报告.pdf https://storage.jd.com/auction.gateway/36ee0f48523b8f7d90c6253bdd2db80b20180122155548638.pdf\n"
     ]
    },
    {
     "name": "stderr",
     "output_type": "stream",
     "text": [
      "\r",
      " 51%|█████     | 338/665 [19:31<17:12,  3.16s/it]"
     ]
    },
    {
     "name": "stdout",
     "output_type": "stream",
     "text": [
      "【一拍】北京市昌平区昌平镇西环里小区40号楼5层505号房地产 https://paimai.jd.com/104888984\n",
      "昌平区昌平镇西环里小区40号楼5层505号.pdf https://storage.jd.com/auction.gateway/629867d3eda21cdc744065c9657d6b7f20180117165058352.pdf\n"
     ]
    },
    {
     "name": "stderr",
     "output_type": "stream",
     "text": [
      "\r",
      " 51%|█████     | 339/665 [19:35<17:42,  3.26s/it]"
     ]
    },
    {
     "name": "stdout",
     "output_type": "stream",
     "text": [
      "【一拍】北京市海淀区金沟河路2号914号楼1单元5号的房屋(55.7㎡) https://paimai.jd.com/104958206\n",
      "北京市海淀区金沟河路2号914号楼1单元5号住宅用途房地产市场价值估价.pdf https://storage.jd.com/auction.gateway/37658a8c3ce0015ae76c0628c70f448b20180125162604132.pdf\n"
     ]
    },
    {
     "name": "stderr",
     "output_type": "stream",
     "text": [
      "\r",
      " 51%|█████     | 340/665 [19:37<16:30,  3.05s/it]"
     ]
    },
    {
     "name": "stdout",
     "output_type": "stream",
     "text": [
      "【一拍】北京市海淀区中关村东南小区中关村937号楼1层1门102号的房屋(78.3㎡) https://paimai.jd.com/104962021\n",
      "北京市海淀区中关村东南小区中关村937号楼1层1门102号住宅用途涉案房地产市场价值评估.pdf https://storage.jd.com/auction.gateway/b9d1fa86e06bc7fc1ad696568831e61020180126094052931.pdf\n"
     ]
    },
    {
     "name": "stderr",
     "output_type": "stream",
     "text": [
      "\r",
      " 51%|█████▏    | 341/665 [19:40<15:54,  2.95s/it]"
     ]
    },
    {
     "name": "stdout",
     "output_type": "stream",
     "text": [
      "【一拍】北京市海淀区万柳万泉新新家园12号楼7层1-701房 https://paimai.jd.com/105006490\n",
      "评估报告.pdf https://storage.jd.com/auction.gateway/f9f1e8d3cc2c078d1c237e511ab4b54920180130114150947.pdf\n"
     ]
    },
    {
     "name": "stderr",
     "output_type": "stream",
     "text": [
      "\r",
      " 51%|█████▏    | 342/665 [19:43<16:33,  3.08s/it]"
     ]
    },
    {
     "name": "stdout",
     "output_type": "stream",
     "text": [
      "【一拍】北京市海淀区万柳万泉新新家园12号楼7层1-702房 https://paimai.jd.com/105006606\n",
      "评估报告.pdf https://storage.jd.com/auction.gateway/9ee9aa76788a1cf93888ece67ee512f320180130115146631.pdf\n"
     ]
    },
    {
     "name": "stderr",
     "output_type": "stream",
     "text": [
      "\r",
      " 52%|█████▏    | 343/665 [19:49<20:29,  3.82s/it]"
     ]
    },
    {
     "name": "stdout",
     "output_type": "stream",
     "text": [
      "【一拍】北京市朝阳区北四环中路6号E座3层304号房地产 https://paimai.jd.com/104719969\n",
      "北京市朝阳区北四环中路6号（华亭嘉园）E座3层304号公寓用途房地产评估结果报告.pdf https://storage.jd.com/auction.gateway/cb96c30686bef7ef02bea89c430fcd2220171228094547505.pdf\n"
     ]
    },
    {
     "name": "stderr",
     "output_type": "stream",
     "text": [
      "\r",
      " 52%|█████▏    | 344/665 [19:52<19:52,  3.72s/it]"
     ]
    },
    {
     "name": "stdout",
     "output_type": "stream",
     "text": [
      "【一拍】北京市丰台区翠海明苑4号楼1-401号 https://paimai.jd.com/104967722\n",
      "（2017）京02执526号 裁定.pdf https://storage.jd.com/auction.gateway/838ae8018b314fd8e8611154c4549f4320180126172335216.pdf\n",
      "2017-562 胡 评估报告.pdf https://storage.jd.com/auction.gateway/39b19ac84f4c9fb7624b75df85e1025120180126172335269.pdf\n"
     ]
    },
    {
     "name": "stderr",
     "output_type": "stream",
     "text": [
      "\r",
      " 52%|█████▏    | 345/665 [19:56<19:27,  3.65s/it]"
     ]
    },
    {
     "name": "stdout",
     "output_type": "stream",
     "text": [
      "【二拍】北京市朝阳区辛店路1号（静风园）5号楼5-5号 https://paimai.jd.com/104875408\n",
      "静风园评估报告.pdf https://storage.jd.com/auction.gateway/a7c7e0ac8ee58c2b5e48fb24d73574a620180116110216642.pdf\n"
     ]
    },
    {
     "name": "stderr",
     "output_type": "stream",
     "text": [
      "\r",
      " 52%|█████▏    | 346/665 [19:58<17:02,  3.20s/it]"
     ]
    },
    {
     "name": "stdout",
     "output_type": "stream",
     "text": [
      "【变卖】北京市朝阳区慧忠北里417号楼1至2层3单元202号住宅 https://paimai.jd.com/104609712\n",
      "评估报告.doc https://storage.jd.com/auction.gateway/afe54eb5c74416b346ddc2647760eaa420171215102148610.doc\n"
     ]
    },
    {
     "name": "stderr",
     "output_type": "stream",
     "text": [
      "\r",
      " 52%|█████▏    | 347/665 [20:02<17:36,  3.32s/it]"
     ]
    },
    {
     "name": "stdout",
     "output_type": "stream",
     "text": [
      "【一拍】北京市丰台区莲花池西里11号1号楼803号(143.93㎡) https://paimai.jd.com/104836824\n",
      "北京市丰台区莲花池西里11号1号楼803号评估报告.pdf https://storage.jd.com/auction.gateway/b8fd2235f95d8e561b2500471960a78720180111134602491.pdf\n"
     ]
    },
    {
     "name": "stderr",
     "output_type": "stream",
     "text": [
      "\r",
      " 52%|█████▏    | 348/665 [20:06<18:57,  3.59s/it]"
     ]
    },
    {
     "name": "stdout",
     "output_type": "stream",
     "text": [
      "【二拍】北京市朝阳区劲松南路13号楼6层607室 https://paimai.jd.com/104887627\n",
      "北京市朝阳区劲松南路13号楼6层607号房屋评估报告.pdf https://storage.jd.com/auction.gateway/be9beeac21464054b99c55276dfd198c20180117160129550.pdf\n"
     ]
    },
    {
     "name": "stderr",
     "output_type": "stream",
     "text": [
      "\r",
      " 52%|█████▏    | 349/665 [20:09<18:15,  3.47s/it]"
     ]
    },
    {
     "name": "stdout",
     "output_type": "stream",
     "text": [
      "【一拍】北京市海淀区西翠路17号院9号楼4-202（192.29㎡） https://paimai.jd.com/104893756\n",
      "北京市海淀区西翠路17号院9号楼4-202号评估报告.doc https://storage.jd.com/auction.gateway/e708d52d7b5ae7eefc486a0322cf797120180118114132260.doc\n"
     ]
    },
    {
     "name": "stderr",
     "output_type": "stream",
     "text": [
      "\r",
      " 53%|█████▎    | 350/665 [20:13<18:27,  3.51s/it]"
     ]
    },
    {
     "name": "stdout",
     "output_type": "stream",
     "text": [
      "【一拍】北京市昌平区北七家天通北苑三区46号楼6至7层3单元2号的房屋(216.59㎡) https://paimai.jd.com/104896144\n",
      "北京市昌平区北七家镇天通北苑三区46号楼6至7层3单元2号楼1单元302号评估报告.pdf https://storage.jd.com/auction.gateway/409f03a7175082b8025b0ff48899256320180118150550830.pdf\n"
     ]
    },
    {
     "name": "stderr",
     "output_type": "stream",
     "text": [
      "\r",
      " 53%|█████▎    | 351/665 [20:15<16:59,  3.25s/it]"
     ]
    },
    {
     "name": "stdout",
     "output_type": "stream",
     "text": [
      "【一拍】北京市朝阳区延静东里1号楼4层3门401 https://paimai.jd.com/104967697\n",
      "延静东里报告.pdf https://storage.jd.com/auction.gateway/8507663440e8ce5f8e8c37892287f6af20180126172216650.pdf\n"
     ]
    },
    {
     "name": "stderr",
     "output_type": "stream",
     "text": [
      "\r",
      " 53%|█████▎    | 352/665 [20:18<15:57,  3.06s/it]"
     ]
    },
    {
     "name": "stdout",
     "output_type": "stream",
     "text": [
      "【一拍】北京市丰台区骏景园北区2号楼5层2-505号房屋 https://paimai.jd.com/104838516\n",
      "骏景园北区_20171220110641 (1).pdf https://storage.jd.com/auction.gateway/cfc00dd75f5a6ad59444f98dd2e3478720180118143625641.pdf\n",
      "丰台区骏景园北区2号楼5层2-505、2-506、2-507号-房产证.pdf https://storage.jd.com/auction.gateway/9b6fe071fafb8dd400671d45b6e5c8fc20180118143626099.pdf\n"
     ]
    },
    {
     "name": "stderr",
     "output_type": "stream",
     "text": [
      "\r",
      " 53%|█████▎    | 353/665 [20:23<18:52,  3.63s/it]"
     ]
    },
    {
     "name": "stdout",
     "output_type": "stream",
     "text": [
      "【一拍】北京市丰台区骏景园北区2号楼5层2-507号 https://paimai.jd.com/104838809\n",
      "骏景园北区_20171220110641 (1).pdf https://storage.jd.com/auction.gateway/1ca1772f24c5fb80ede5cdb0e9a3fe0420180118143626440.pdf\n",
      "丰台区骏景园北区2号楼5层2-505、2-506、2-507号-房产证.pdf https://storage.jd.com/auction.gateway/b43e86f852374832a907919de37478da20180118143626810.pdf\n"
     ]
    },
    {
     "name": "stderr",
     "output_type": "stream",
     "text": [
      " 53%|█████▎    | 355/665 [20:36<25:53,  5.01s/it]"
     ]
    },
    {
     "name": "stdout",
     "output_type": "stream",
     "text": [
      "【一拍】北京市大兴区黄村镇富强西里25号楼2层1-203号 https://paimai.jd.com/104839551\n",
      "170178富强西里20170710.pdf https://storage.jd.com/auction.gateway/fb7fb94886a2d69dcfef8cec96eb53cb20180126110620163.pdf\n"
     ]
    },
    {
     "name": "stderr",
     "output_type": "stream",
     "text": [
      "\r",
      " 54%|█████▎    | 356/665 [20:40<24:34,  4.77s/it]"
     ]
    },
    {
     "name": "stdout",
     "output_type": "stream",
     "text": [
      "【一拍】北京市朝阳区阜荣街8 号院（朝庭公寓）1 号楼17 层2 单元2001 号 https://paimai.jd.com/104839991\n",
      "朝庭公寓报告.pdf https://storage.jd.com/auction.gateway/a52f8473bc5b101a77c3bf5d6fb22fee20180126111057314.pdf\n"
     ]
    },
    {
     "name": "stderr",
     "output_type": "stream",
     "text": [
      "\r",
      " 54%|█████▎    | 357/665 [20:42<20:25,  3.98s/it]"
     ]
    },
    {
     "name": "stdout",
     "output_type": "stream",
     "text": [
      "【一拍】北京市延庆区南菜园二区37号楼一单元110号房产 https://paimai.jd.com/104755364\n",
      "170128延庆南菜园结果报告.doc https://storage.jd.com/auction.gateway/aeb8ca450d9ab6825cedb82ebd1fc34a20180102162018143.doc\n"
     ]
    },
    {
     "name": "stderr",
     "output_type": "stream",
     "text": [
      "\r",
      " 54%|█████▍    | 358/665 [20:45<18:39,  3.65s/it]"
     ]
    },
    {
     "name": "stdout",
     "output_type": "stream",
     "text": [
      "【一拍】北京市丰台区骏景园北区2号楼5层2-506号 https://paimai.jd.com/104838657\n",
      "骏景园北区_20171220110641 (1).pdf https://storage.jd.com/auction.gateway/031ea58d5f86eff5f8a6289cbcfc949120180118143628189.pdf\n",
      "丰台区骏景园北区2号楼5层2-505、2-506、2-507号-房产证.pdf https://storage.jd.com/auction.gateway/2170c2c725a71fd7f375960ad495ce6b20180118143628700.pdf\n"
     ]
    },
    {
     "name": "stderr",
     "output_type": "stream",
     "text": [
      "\r",
      " 54%|█████▍    | 359/665 [20:53<24:44,  4.85s/it]"
     ]
    },
    {
     "name": "stdout",
     "output_type": "stream",
     "text": [
      "【一拍】北京市朝阳区东四环北路10号3楼 11层11-1105号 https://paimai.jd.com/104937635\n",
      "朝阳区东四环北路10号3号楼1105号报告.pdf https://storage.jd.com/auction.gateway/f4694179dca01b28c185cb8d96f4926c20180123151608196.pdf\n"
     ]
    },
    {
     "name": "stderr",
     "output_type": "stream",
     "text": [
      " 54%|█████▍    | 361/665 [21:01<23:43,  4.68s/it]"
     ]
    },
    {
     "name": "stdout",
     "output_type": "stream",
     "text": [
      "【二拍】北京市通州区芙蓉路西侧芙蓉花园A3#住宅楼18层1单元2101号 https://paimai.jd.com/104935817\n",
      "【结果报告】2016-1-E-3-144北京市通州区芙蓉园282号楼1单元2101号住宅用房.pdf https://storage.jd.com/auction.gateway/3469aacce4f0b184d1c9f09977d654eb20180123120033310.pdf\n"
     ]
    },
    {
     "name": "stderr",
     "output_type": "stream",
     "text": [
      "\r",
      " 54%|█████▍    | 362/665 [21:05<22:46,  4.51s/it]"
     ]
    },
    {
     "name": "stdout",
     "output_type": "stream",
     "text": [
      "【一拍】北京市朝阳区建国门外大街乙24号11层3-1203号住宅用房 https://paimai.jd.com/104947472\n",
      "【结果报告】2017-1-0409-F01SFZC6 北京市朝阳区建国门外大街乙24号11层3-1203号住宅用房房地产市场价值评估.pdf https://storage.jd.com/auction.gateway/87c5f63ad2a6b5a7ee6a183e7eea1f4a20180124160611478.pdf\n"
     ]
    },
    {
     "name": "stderr",
     "output_type": "stream",
     "text": [
      "\r",
      " 55%|█████▍    | 363/665 [21:08<20:17,  4.03s/it]"
     ]
    },
    {
     "name": "stdout",
     "output_type": "stream",
     "text": [
      "【二拍】北京市朝阳区望京北路39号1号楼2单元7B号(146.11㎡) https://paimai.jd.com/104935979\n",
      "【结果报告】2016-1-E-3-103 北京市朝阳区望京北路39号1号楼2单元7B.pdf https://storage.jd.com/auction.gateway/7b476ea464405e13d1892cac9c34497f20180123122535233.pdf\n"
     ]
    },
    {
     "name": "stderr",
     "output_type": "stream",
     "text": [
      "\r",
      " 55%|█████▍    | 364/665 [21:13<20:49,  4.15s/it]"
     ]
    },
    {
     "name": "stdout",
     "output_type": "stream",
     "text": [
      "【一拍】北京市朝阳区望京园三区303号楼乙1202号住宅 https://paimai.jd.com/104889193\n",
      "（2015）二中执字第1457号.doc https://storage.jd.com/auction.gateway/b5c65115d242f3bff8b814f19cc091a520180201113046209.doc\n",
      "评估报告.pdf https://storage.jd.com/auction.gateway/0f4c5387a65c673158afed6bb3d57afb20180201113046122.pdf\n"
     ]
    },
    {
     "name": "stderr",
     "output_type": "stream",
     "text": [
      "\r",
      " 55%|█████▍    | 365/665 [21:16<19:42,  3.94s/it]"
     ]
    },
    {
     "name": "stdout",
     "output_type": "stream",
     "text": [
      "【一拍】北京市房山区长阳镇碧桂园57号楼6层2单元603室 https://paimai.jd.com/104901327\n",
      "房山长阳镇碧桂园57号楼6层2单元603号.pdf https://storage.jd.com/auction.gateway/dd59d13cae0c3c8f61ae36569861c5c420180119103539242.pdf\n"
     ]
    },
    {
     "name": "stderr",
     "output_type": "stream",
     "text": [
      "\r",
      " 55%|█████▌    | 366/665 [21:19<17:23,  3.49s/it]"
     ]
    },
    {
     "name": "stdout",
     "output_type": "stream",
     "text": [
      "【一拍】北京市朝阳区西坝河北里18号楼1305号(44.3㎡) https://paimai.jd.com/104836776\n",
      "北京市朝阳区西坝河北里18号楼1305号评估报告.pdf https://storage.jd.com/auction.gateway/f0d6e35c69aa5ff94797f3d06d80ca5820180111112634133.pdf\n"
     ]
    },
    {
     "name": "stderr",
     "output_type": "stream",
     "text": [
      " 56%|█████▌    | 370/665 [21:39<24:34,  5.00s/it]"
     ]
    },
    {
     "name": "stdout",
     "output_type": "stream",
     "text": [
      "【一拍】北京市昌平区天通中苑58号楼4单元1501号房地产 https://paimai.jd.com/104709932\n",
      "北京市昌平区天通中苑58号楼4单元1501号房地产市场价值评估报告.pdf https://storage.jd.com/auction.gateway/9ec155a2058a07bebe7ecfc5cee0019b20171227111043760.pdf\n"
     ]
    },
    {
     "name": "stderr",
     "output_type": "stream",
     "text": [
      "\r",
      " 56%|█████▌    | 371/665 [21:41<20:41,  4.22s/it]"
     ]
    },
    {
     "name": "stdout",
     "output_type": "stream",
     "text": [
      "【一拍】北京市门头沟永新小区8号楼1层1单元102号（85.77㎡） https://paimai.jd.com/104724735\n",
      "门头沟永新小区8号楼1层1单元102号.pdf https://storage.jd.com/auction.gateway/67e86f3aa4fa0f10cf498b13bae2a57520171228161650544.pdf\n"
     ]
    },
    {
     "name": "stderr",
     "output_type": "stream",
     "text": [
      " 56%|█████▌    | 373/665 [21:52<23:38,  4.86s/it]"
     ]
    },
    {
     "name": "stdout",
     "output_type": "stream",
     "text": [
      "【一拍】北京市朝阳区大屯路科学园南里-风林绿洲I甲号楼14层1404号 https://paimai.jd.com/104708690\n",
      "2017A142朝阳区大屯路科学园南里-风林绿洲Ⅰ甲号楼1404号房屋房地产价值评估.pdf https://storage.jd.com/auction.gateway/14f35640ed1b37b06da33f409ba426d720171227095122874.pdf\n"
     ]
    },
    {
     "name": "stderr",
     "output_type": "stream",
     "text": [
      "\r",
      " 56%|█████▌    | 374/665 [21:54<20:37,  4.25s/it]"
     ]
    },
    {
     "name": "stdout",
     "output_type": "stream",
     "text": [
      "【一拍】北京市朝阳区通惠家园惠泽园6号楼8层1单元804号 https://paimai.jd.com/104709665\n",
      "评估报告-朝阳通惠家园惠泽园（2015朝执字第4670号）.pdf https://storage.jd.com/auction.gateway/2052acb643db43e8d20df4ed0a1007f420171227105614667.pdf\n"
     ]
    },
    {
     "name": "stderr",
     "output_type": "stream",
     "text": [
      "\r",
      " 56%|█████▋    | 375/665 [22:00<23:08,  4.79s/it]"
     ]
    },
    {
     "name": "stdout",
     "output_type": "stream",
     "text": [
      "【一拍】北京市朝阳区通惠家园惠泽园6号楼8层1单元805号、806号两套房屋 https://paimai.jd.com/104710005\n",
      "评估报告（通惠家园805）.pdf https://storage.jd.com/auction.gateway/381e2ca9d6e9973b6a139df356c7922520171227111701407.pdf\n",
      "评估报告-朝阳通惠家园惠泽园（2015朝执字第4670号）.pdf https://storage.jd.com/auction.gateway/378879c0b64b17591487c210a0b4fb2e20171227111701743.pdf\n"
     ]
    },
    {
     "name": "stderr",
     "output_type": "stream",
     "text": [
      "\r",
      " 57%|█████▋    | 376/665 [22:08<26:25,  5.49s/it]"
     ]
    },
    {
     "name": "stdout",
     "output_type": "stream",
     "text": [
      "【一拍】北京市东城区朝阳门北小街4号楼9单元601号 https://paimai.jd.com/104704822\n",
      "执行依据.docx https://storage.jd.com/auction.gateway/3a96e29e5b9b69ab7e52412e91f0538c20180105124606650.docx\n",
      "司法--GTDZ-BJ[2017]房估字第0090号--朝阳门北小街4号楼9单元601.pdf https://storage.jd.com/auction.gateway/a84c75f3e9fc27497d4a469d1585b43520180105124606689.pdf\n"
     ]
    },
    {
     "name": "stderr",
     "output_type": "stream",
     "text": [
      "\r",
      " 57%|█████▋    | 377/665 [22:11<24:02,  5.01s/it]"
     ]
    },
    {
     "name": "stdout",
     "output_type": "stream",
     "text": [
      "【一拍】北京市通州区梨园东里8号楼453号 https://paimai.jd.com/104704949\n",
      "结果报告（梨园东里）.pdf https://storage.jd.com/auction.gateway/3c4898add17f14278a3c68692ce4d7e320180105134246706.pdf\n",
      "执行依据.docx https://storage.jd.com/auction.gateway/f75169ad62bbfb6cdf1eb361db195e2220180105134246742.docx\n"
     ]
    },
    {
     "name": "stderr",
     "output_type": "stream",
     "text": [
      "\r",
      " 57%|█████▋    | 378/665 [22:16<22:49,  4.77s/it]"
     ]
    },
    {
     "name": "stdout",
     "output_type": "stream",
     "text": [
      "【一拍】北京市海淀区阜成路115号（北京印象）4号楼5层518号（171.21平方米） https://paimai.jd.com/104697452\n",
      "康正评字2017-1-0759-F02SFZC6号北京市海淀区阜成路115号4号楼5层518号住宅用房房地产市场价值评估.pdf https://storage.jd.com/auction.gateway/667e0cca19a56532729bee34625a83d320171226110602446.pdf\n"
     ]
    },
    {
     "name": "stderr",
     "output_type": "stream",
     "text": [
      "\r",
      " 57%|█████▋    | 379/665 [22:18<19:17,  4.05s/it]"
     ]
    },
    {
     "name": "stdout",
     "output_type": "stream",
     "text": [
      "【一拍】北京市顺义区顺安路33号院（合景香悦四季）一区13号楼2单元602号 https://paimai.jd.com/104697600\n",
      "合景香悦四季估价报告.pdf https://storage.jd.com/auction.gateway/cd9e4d98da81e2a753e1a61172fe21e220171226111559773.pdf\n"
     ]
    },
    {
     "name": "stderr",
     "output_type": "stream",
     "text": [
      "\r",
      " 57%|█████▋    | 380/665 [22:21<17:45,  3.74s/it]"
     ]
    },
    {
     "name": "stdout",
     "output_type": "stream",
     "text": [
      "【二拍】北京市朝阳区首都机场路89号丽京花园别墅区4-14幢4-1-7号房屋 https://paimai.jd.com/104777930\n",
      "执行裁定书.doc https://storage.jd.com/auction.gateway/667aa93ef43868348175fc71ebab8fe020180104154543279.doc\n"
     ]
    },
    {
     "name": "stderr",
     "output_type": "stream",
     "text": [
      "\r",
      " 57%|█████▋    | 381/665 [22:24<17:13,  3.64s/it]"
     ]
    },
    {
     "name": "stdout",
     "output_type": "stream",
     "text": [
      "3-评估报告正文1.doc https://storage.jd.com/auction.gateway/6d8c362dbce6cf16f94c3d2ed501977e20180104154543322.doc\n",
      "【一拍】北京市石景山区玉泉路65号西院11号楼6层1单元602号(46.98㎡) https://paimai.jd.com/104658425\n",
      "北京市石景山区玉泉路65号院西院11号楼6层1单元602号评估报告.pdf https://storage.jd.com/auction.gateway/c67f29f8ee5a05f4e344bb01ffbc7cda20171221135534082.pdf\n"
     ]
    },
    {
     "name": "stderr",
     "output_type": "stream",
     "text": [
      "\r",
      " 57%|█████▋    | 382/665 [22:28<16:29,  3.50s/it]"
     ]
    },
    {
     "name": "stdout",
     "output_type": "stream",
     "text": [
      "【一拍】北京市海淀区明光北里2号楼16层1601号(72.1㎡) https://paimai.jd.com/104658410\n",
      "北京市海淀区明光北里2号楼16层1601号评估报告.pdf https://storage.jd.com/auction.gateway/44555fe80ca5aa288d36bccbfb532da220171221135518232.pdf\n"
     ]
    },
    {
     "name": "stderr",
     "output_type": "stream",
     "text": [
      "\r",
      " 58%|█████▊    | 383/665 [22:30<15:27,  3.29s/it]"
     ]
    },
    {
     "name": "stdout",
     "output_type": "stream",
     "text": [
      "【二拍】北京市朝阳区东大桥路4号楼9层902号 https://paimai.jd.com/104694175\n",
      "东大桥报告.docx https://storage.jd.com/auction.gateway/860c4f24a526abdb07770774b0a3558820171225175053619.docx\n"
     ]
    },
    {
     "name": "stderr",
     "output_type": "stream",
     "text": [
      "\r",
      " 58%|█████▊    | 384/665 [22:35<16:41,  3.56s/it]"
     ]
    },
    {
     "name": "stdout",
     "output_type": "stream",
     "text": [
      "【一拍】北京市朝阳区紫玉东路1号716幢-1至3层 https://paimai.jd.com/104671645\n",
      "北京市朝阳区紫玉东路1号716幢-1至3层房地产估价报告.pdf https://storage.jd.com/auction.gateway/f98431ca930fcc9205eae5bf2808971d20171226094101465.pdf\n"
     ]
    },
    {
     "name": "stderr",
     "output_type": "stream",
     "text": [
      "\r",
      " 58%|█████▊    | 385/665 [22:38<16:09,  3.46s/it]"
     ]
    },
    {
     "name": "stdout",
     "output_type": "stream",
     "text": [
      "【一拍】北京市昌平区东小口镇陈营村北北苑北小区3号楼2单元504号（65.5平方米） https://paimai.jd.com/104659651\n",
      "昌平区东小口镇陈营村北北苑北小区3号楼2单元504房屋评估报告.pdf https://storage.jd.com/auction.gateway/62604004eac4e0de12bf647dd472a61f20171221132509448.pdf\n"
     ]
    },
    {
     "name": "stderr",
     "output_type": "stream",
     "text": [
      "\r",
      " 58%|█████▊    | 386/665 [22:42<17:24,  3.74s/it]"
     ]
    },
    {
     "name": "stdout",
     "output_type": "stream",
     "text": [
      "【一拍】北京市昌平区东小口镇天通东苑二区4号楼4层3单元1号房地产 https://paimai.jd.com/104657266\n",
      "北京市昌平区东小口镇天通东苑二区4号楼4层3单元1号评估结果报告.pdf https://storage.jd.com/auction.gateway/bf3e4c513c0b5e985c47140d464ac3c020171221084034086.pdf\n"
     ]
    },
    {
     "name": "stderr",
     "output_type": "stream",
     "text": [
      "\r",
      " 58%|█████▊    | 387/665 [22:44<15:02,  3.25s/it]"
     ]
    },
    {
     "name": "stdout",
     "output_type": "stream",
     "text": [
      "【一拍】北京市朝阳区亮马桥路36号（亮马名居）A座19层22F号（93.63平方米） https://paimai.jd.com/104659929\n",
      "亮马名居报告.pdf https://storage.jd.com/auction.gateway/d9a121023d14be0b7a5d5a611de4f13620171221135501608.pdf\n"
     ]
    },
    {
     "name": "stderr",
     "output_type": "stream",
     "text": [
      " 58%|█████▊    | 389/665 [22:52<16:54,  3.67s/it]"
     ]
    },
    {
     "name": "stdout",
     "output_type": "stream",
     "text": [
      "【二拍】北京市朝阳区九龙山家园2号楼508室房屋 https://paimai.jd.com/104692996\n",
      "”2017京0105执8782号“案件报告扫描件.docx https://storage.jd.com/auction.gateway/eed5179f9d5042fe8f5b7a94db51981a20171225155130297.docx\n"
     ]
    },
    {
     "name": "stderr",
     "output_type": "stream",
     "text": [
      " 59%|█████▉    | 391/665 [23:02<20:00,  4.38s/it]"
     ]
    },
    {
     "name": "stdout",
     "output_type": "stream",
     "text": [
      "【一拍】北京市朝阳区雅成一里2号楼7层703号 https://paimai.jd.com/104638495\n",
      "2017京0105执15451号朝阳区雅成一里2号楼7层703.pdf https://storage.jd.com/auction.gateway/17b5e2971c08f36d62bf5d87d04cf03120171227165611982.pdf\n"
     ]
    },
    {
     "name": "stderr",
     "output_type": "stream",
     "text": [
      "\r",
      " 59%|█████▉    | 392/665 [23:05<17:32,  3.86s/it]"
     ]
    },
    {
     "name": "stdout",
     "output_type": "stream",
     "text": [
      "【一拍】北京市朝阳区林萃路9号院5号楼11层1单元1103号房屋 https://paimai.jd.com/104663406\n",
      "2017-ZJH-房-房评-0689号北京市朝阳区林萃路9号院5号楼1单元1103号住宅用途房地产市场价值估价.pdf https://storage.jd.com/auction.gateway/050539069e51dcb1ade549fd0449bffa20171226141637887.pdf\n"
     ]
    },
    {
     "name": "stderr",
     "output_type": "stream",
     "text": [
      " 59%|█████▉    | 394/665 [23:13<18:47,  4.16s/it]"
     ]
    },
    {
     "name": "stdout",
     "output_type": "stream",
     "text": [
      "【一拍】北京市密云区宾阳西里19号楼2层2单元201号（89.2平方米） https://paimai.jd.com/104658449\n",
      "密云宾阳西里19号楼评估报告.pdf https://storage.jd.com/auction.gateway/378273aa410c41a538de229cf0a160df20171221111425516.pdf\n"
     ]
    },
    {
     "name": "stderr",
     "output_type": "stream",
     "text": [
      "\r",
      " 59%|█████▉    | 395/665 [23:17<18:26,  4.10s/it]"
     ]
    },
    {
     "name": "stdout",
     "output_type": "stream",
     "text": [
      "【一拍】北京市大兴区黄村镇观音寺北里10号楼1层3-101 https://paimai.jd.com/104671714\n",
      "2016京0105执16447号+大兴区黄村镇观音寺北里10号楼1层3-101报告.pdf https://storage.jd.com/auction.gateway/6db5472ceffa39c8560a0100193dde8920171222213038078.pdf\n"
     ]
    },
    {
     "name": "stderr",
     "output_type": "stream",
     "text": [
      "\r",
      " 60%|█████▉    | 396/665 [23:20<16:25,  3.66s/it]"
     ]
    },
    {
     "name": "stdout",
     "output_type": "stream",
     "text": [
      "【一拍】北京市顺义区馨港庄园二区15号楼4层3-402 https://paimai.jd.com/104671597\n",
      "评估报告--顺义馨港庄园.pdf https://storage.jd.com/auction.gateway/b9a0a7259a49e7e71ef08ef996c7bedc20171222201536637.pdf\n"
     ]
    },
    {
     "name": "stderr",
     "output_type": "stream",
     "text": [
      " 60%|██████    | 401/665 [23:43<20:48,  4.73s/it]"
     ]
    },
    {
     "name": "stdout",
     "output_type": "stream",
     "text": [
      "【二拍】北京市朝阳区八里庄西75 号楼19 层1908 号 https://paimai.jd.com/104692804\n",
      "八里庄西里75号楼1908-京港（2017）涉案字第（37）号.pdf https://storage.jd.com/auction.gateway/40139bace35a12a59b6b10b74b16b71c20171225153736190.pdf\n"
     ]
    },
    {
     "name": "stderr",
     "output_type": "stream",
     "text": [
      "\r",
      " 60%|██████    | 402/665 [23:46<18:38,  4.25s/it]"
     ]
    },
    {
     "name": "stdout",
     "output_type": "stream",
     "text": [
      "【一拍】北京市昌平区东小口镇陈营村北5号楼5单元6层602号（63.02平方米） https://paimai.jd.com/104659478\n",
      "昌平区东小口镇陈营村北5号楼5单元6层602房屋评估报告.pdf https://storage.jd.com/auction.gateway/522147edc3a67ce675c30a0bf56d64db20180109111051493.pdf\n"
     ]
    },
    {
     "name": "stderr",
     "output_type": "stream",
     "text": [
      " 61%|██████    | 404/665 [23:56<20:02,  4.61s/it]"
     ]
    },
    {
     "name": "stdout",
     "output_type": "stream",
     "text": [
      "【一拍】北京市朝阳区大屯路科学园南里-风林绿洲I甲号楼14层1404号 https://paimai.jd.com/104671751\n",
      "2017A142朝阳区大屯路科学园南里-风林绿洲Ⅰ甲号楼1404号房屋房地产价值评估.pdf https://storage.jd.com/auction.gateway/14f35640ed1b37b06da33f409ba426d720171222215529540.pdf\n"
     ]
    },
    {
     "name": "stderr",
     "output_type": "stream",
     "text": [
      "\r",
      " 61%|██████    | 405/665 [24:00<18:36,  4.29s/it]"
     ]
    },
    {
     "name": "stdout",
     "output_type": "stream",
     "text": [
      "【一拍】位于北京市朝阳区松榆南路38号院2号楼3层2-2单元302室房产 https://paimai.jd.com/104588720\n",
      "2017执632号评估报告.pdf https://storage.jd.com/auction.gateway/1cfc668b988a8a51241fdf051ce4838320171212160055540.pdf\n",
      "2017执632号裁定.pdf https://storage.jd.com/auction.gateway/78679a62c5693ac843d2d36f982376c720171212160055694.pdf\n",
      "2017执632恢复拍卖裁定.pdf https://storage.jd.com/auction.gateway/b9522b654c2b466ce7f86ce29486003320171212160055729.pdf\n"
     ]
    },
    {
     "name": "stderr",
     "output_type": "stream",
     "text": [
      "\r",
      " 61%|██████    | 406/665 [24:03<18:01,  4.17s/it]"
     ]
    },
    {
     "name": "stdout",
     "output_type": "stream",
     "text": [
      "【一拍】北京市朝阳区慧忠北里109号楼23层2305、2306 https://paimai.jd.com/104534786\n",
      "1714+建亚恒泰 慧忠北里报告.pdf https://storage.jd.com/auction.gateway/996f54207b85930a954438b7b86ab32f20171207144004583.pdf\n"
     ]
    },
    {
     "name": "stderr",
     "output_type": "stream",
     "text": [
      "\r",
      " 61%|██████    | 407/665 [24:09<19:34,  4.55s/it]"
     ]
    },
    {
     "name": "stdout",
     "output_type": "stream",
     "text": [
      "【一拍】北京市海淀区华清嘉园8号楼14层2门1404(77.17㎡) https://paimai.jd.com/104603294\n",
      "北京市海淀区华清嘉园8号楼14层2门1404房屋评估报告.doc https://storage.jd.com/auction.gateway/001b655e47796e9143e95e9d2d73d74420171214151043708.doc\n"
     ]
    },
    {
     "name": "stderr",
     "output_type": "stream",
     "text": [
      "\r",
      " 61%|██████▏   | 408/665 [24:13<18:48,  4.39s/it]"
     ]
    },
    {
     "name": "stdout",
     "output_type": "stream",
     "text": [
      "【一拍】北京市朝阳区广渠路36号院（首城国际）25号楼1层2单元103号 https://paimai.jd.com/104603300\n",
      "首城国际报告.pdf https://storage.jd.com/auction.gateway/d003423ef0b92aa8aeb9cfb3b24e1dc820171214143702945.pdf\n"
     ]
    },
    {
     "name": "stderr",
     "output_type": "stream",
     "text": [
      "\r",
      " 62%|██████▏   | 409/665 [24:17<17:58,  4.21s/it]"
     ]
    },
    {
     "name": "stdout",
     "output_type": "stream",
     "text": [
      "【一拍】北京市朝阳区劲松南路13号楼6层607室 https://paimai.jd.com/104594756\n",
      "北京市朝阳区劲松南路13号楼6层607号房屋评估报告.pdf https://storage.jd.com/auction.gateway/be9beeac21464054b99c55276dfd198c20171227110040672.pdf\n"
     ]
    },
    {
     "name": "stderr",
     "output_type": "stream",
     "text": [
      "\r",
      " 62%|██████▏   | 410/665 [24:19<16:04,  3.78s/it]"
     ]
    },
    {
     "name": "stdout",
     "output_type": "stream",
     "text": [
      "【一拍】北京市朝阳区幸福二村39号楼17层2单元1708号 https://paimai.jd.com/104596251\n",
      "幸福二村39号楼1708估价报告.pdf https://storage.jd.com/auction.gateway/99ce86e441bc180ccd4bd0160af0ee6520171227105535628.pdf\n"
     ]
    },
    {
     "name": "stderr",
     "output_type": "stream",
     "text": [
      "\r",
      " 62%|██████▏   | 411/665 [24:22<14:51,  3.51s/it]"
     ]
    },
    {
     "name": "stdout",
     "output_type": "stream",
     "text": [
      "【一拍】北京市朝阳区幸福二村39号楼17层2单元1707号 https://paimai.jd.com/104595758\n",
      "幸福二村39号楼1707估价报告.pdf https://storage.jd.com/auction.gateway/1609fabc8c283f401e003429653b7ea720171227105031531.pdf\n"
     ]
    },
    {
     "name": "stderr",
     "output_type": "stream",
     "text": [
      "\r",
      " 62%|██████▏   | 412/665 [24:25<13:42,  3.25s/it]"
     ]
    },
    {
     "name": "stdout",
     "output_type": "stream",
     "text": [
      "【一拍】北京市丰台区顺二条六号院1号楼1单元701号 https://paimai.jd.com/104580433\n",
      "执行依据.docx https://storage.jd.com/auction.gateway/5d6a5e587548a922dc7a9ed995c2bd6120180105161551795.docx\n",
      "丰台顺二条六号院1号楼1单元701号报告.pdf https://storage.jd.com/auction.gateway/0122a707f69b19da961ce638a00c738920180105161551858.pdf\n"
     ]
    },
    {
     "name": "stderr",
     "output_type": "stream",
     "text": [
      "\r",
      " 62%|██████▏   | 413/665 [24:28<13:03,  3.11s/it]"
     ]
    },
    {
     "name": "stdout",
     "output_type": "stream",
     "text": [
      "【一拍】北京市海淀区阜成路115号4号楼9层909号(175.65㎡) https://paimai.jd.com/104547889\n",
      "北京市海淀区阜成路115号4号楼9层909号评估报告.doc https://storage.jd.com/auction.gateway/b767f47df6ac61fe9aaab9dac60f1cfa20171207153018194.doc\n"
     ]
    },
    {
     "name": "stderr",
     "output_type": "stream",
     "text": [
      " 62%|██████▏   | 415/665 [24:37<16:23,  3.94s/it]"
     ]
    },
    {
     "name": "stdout",
     "output_type": "stream",
     "text": [
      "【一拍】北京市朝阳区辛店路1号（静风园）5号楼5-5号 https://paimai.jd.com/104548981\n",
      "静风园评估报告.pdf https://storage.jd.com/auction.gateway/a7c7e0ac8ee58c2b5e48fb24d73574a620171207163531299.pdf\n"
     ]
    },
    {
     "name": "stderr",
     "output_type": "stream",
     "text": [
      " 63%|██████▎   | 418/665 [24:51<19:12,  4.66s/it]"
     ]
    },
    {
     "name": "stdout",
     "output_type": "stream",
     "text": [
      "【一拍】关于对中国对外建设有限公司所有的登记在张韧名下位于北京市石景山区一处住宅楼的拍卖 https://paimai.jd.com/104548974\n",
      "附拍卖裁定及评估报告.zip https://storage.jd.com/auction.gateway/17af299b8969b5db59772ed06681047120171207163504782.zip\n"
     ]
    },
    {
     "name": "stderr",
     "output_type": "stream",
     "text": [
      "\r",
      " 63%|██████▎   | 419/665 [24:54<16:47,  4.09s/it]"
     ]
    },
    {
     "name": "stdout",
     "output_type": "stream",
     "text": [
      "【一拍】关于对中国对外建设有限公司所有的登记在白延全名下位于北京市石景山区住宅楼的拍卖 https://paimai.jd.com/104549161\n",
      "附拍卖裁定及评估报告.zip https://storage.jd.com/auction.gateway/b41b867104acae09e3807ebd95ca4aa620171207170104787.zip\n"
     ]
    },
    {
     "name": "stderr",
     "output_type": "stream",
     "text": [
      "\r",
      " 63%|██████▎   | 420/665 [24:56<15:09,  3.71s/it]"
     ]
    },
    {
     "name": "stdout",
     "output_type": "stream",
     "text": [
      "【一拍】北京市朝阳区朝阳路7号院（北京新天地）1号楼7层4单元706号（68.45㎡） https://paimai.jd.com/104529350\n",
      "北京新天地.pdf https://storage.jd.com/auction.gateway/aef4b79f3bbb8cafcb8432818f49b15f20171205171039340.pdf\n"
     ]
    },
    {
     "name": "stderr",
     "output_type": "stream",
     "text": [
      " 63%|██████▎   | 422/665 [25:08<19:41,  4.86s/it]"
     ]
    },
    {
     "name": "stdout",
     "output_type": "stream",
     "text": [
      "【一拍】北京市朝阳区广渠路66号院17号楼6层608号(139.7㎡) https://paimai.jd.com/104531679\n",
      "康正评字2017-1-0287-F01SFZC6号北京市朝阳区广渠路66号院17号楼6层608号住宅用房房地产市场价值评估.pdf https://storage.jd.com/auction.gateway/0df825a3d04988311f085c52a8ae222120171205183453643.pdf\n"
     ]
    },
    {
     "name": "stderr",
     "output_type": "stream",
     "text": [
      "\r",
      " 64%|██████▎   | 423/665 [25:12<18:20,  4.55s/it]"
     ]
    },
    {
     "name": "stdout",
     "output_type": "stream",
     "text": [
      "【一拍】北京市通州区芙蓉路西侧芙蓉花园A3#住宅楼18层1单元2101号 https://paimai.jd.com/104531553\n",
      "【结果报告】2016-1-E-3-144北京市通州区芙蓉园282号楼1单元2101号住宅用房.pdf https://storage.jd.com/auction.gateway/3469aacce4f0b184d1c9f09977d654eb20171228160726667.pdf\n"
     ]
    },
    {
     "name": "stderr",
     "output_type": "stream",
     "text": [
      "\r",
      " 64%|██████▍   | 424/665 [25:16<18:03,  4.50s/it]"
     ]
    },
    {
     "name": "stdout",
     "output_type": "stream",
     "text": [
      "【二拍】北京市大兴区黄村中里3号楼5层3单元601号 https://paimai.jd.com/104651009\n",
      "中建华-2017-717-黄村中里3号楼3单元601号-正文（给大兴法院）.pdf https://storage.jd.com/auction.gateway/10cf9b864ba57b26ffe2b46d4402e95620171220112530505.pdf\n"
     ]
    },
    {
     "name": "stderr",
     "output_type": "stream",
     "text": [
      "\r",
      " 64%|██████▍   | 425/665 [25:19<16:01,  4.01s/it]"
     ]
    },
    {
     "name": "stdout",
     "output_type": "stream",
     "text": [
      "【一拍】北京市朝阳区望京北路39号1号楼2单元7B号(146.11㎡) https://paimai.jd.com/104531472\n",
      "【结果报告】2016-1-E-3-103 北京市朝阳区望京北路39号1号楼2单元7B.pdf https://storage.jd.com/auction.gateway/7b476ea464405e13d1892cac9c34497f20171205175508979.pdf\n"
     ]
    },
    {
     "name": "stderr",
     "output_type": "stream",
     "text": [
      "\r",
      " 64%|██████▍   | 426/665 [25:23<16:09,  4.06s/it]"
     ]
    },
    {
     "name": "stdout",
     "output_type": "stream",
     "text": [
      "【一拍】北京市通州区四员厅街36号6号楼G单元302号(89.13㎡) https://paimai.jd.com/104529797\n",
      "四员厅评估报告.pdf https://storage.jd.com/auction.gateway/bd6a88f5e17f630dc1e1cf3663434bbc20171228160656069.pdf\n"
     ]
    },
    {
     "name": "stderr",
     "output_type": "stream",
     "text": [
      "\r",
      " 64%|██████▍   | 427/665 [25:28<16:55,  4.26s/it]"
     ]
    },
    {
     "name": "stdout",
     "output_type": "stream",
     "text": [
      "【一拍】北京市海淀区万柳万泉新新家园12号楼7层1-701房 https://paimai.jd.com/104494668\n",
      "评估报告.pdf https://storage.jd.com/auction.gateway/f9f1e8d3cc2c078d1c237e511ab4b54920171201163104438.pdf\n"
     ]
    },
    {
     "name": "stderr",
     "output_type": "stream",
     "text": [
      " 65%|██████▍   | 430/665 [25:41<17:43,  4.53s/it]"
     ]
    },
    {
     "name": "stdout",
     "output_type": "stream",
     "text": [
      "【一拍】北京市海淀区万柳万泉新新家园12号楼7层1-702房 https://paimai.jd.com/104495084\n",
      "评估报告.pdf https://storage.jd.com/auction.gateway/9ee9aa76788a1cf93888ece67ee512f320171201165103479.pdf\n"
     ]
    },
    {
     "name": "stderr",
     "output_type": "stream",
     "text": [
      " 65%|██████▍   | 432/665 [25:50<17:07,  4.41s/it]"
     ]
    },
    {
     "name": "stdout",
     "output_type": "stream",
     "text": [
      "【一拍】北京市东城区兴隆都市馨园5号楼3层353号（38.73㎡） https://paimai.jd.com/104478756\n",
      "（结果报告）东城区兴隆都市馨园5号楼3层353号.doc https://storage.jd.com/auction.gateway/4b01191dc642c188413cb3ca2037e14d20171129160531468.doc\n"
     ]
    },
    {
     "name": "stderr",
     "output_type": "stream",
     "text": [
      "\r",
      " 65%|██████▌   | 433/665 [25:53<16:28,  4.26s/it]"
     ]
    },
    {
     "name": "stdout",
     "output_type": "stream",
     "text": [
      "【二拍】北京市海淀区联慧路101号院9层A座1028号 https://paimai.jd.com/104614737\n",
      "西晴公寓-结果报告.pdf https://storage.jd.com/auction.gateway/9e029d46078fb72e1b3b20280fe22d1b20171215170537706.pdf\n"
     ]
    },
    {
     "name": "stderr",
     "output_type": "stream",
     "text": [
      "\r",
      " 65%|██████▌   | 434/665 [25:56<14:58,  3.89s/it]"
     ]
    },
    {
     "name": "stdout",
     "output_type": "stream",
     "text": [
      "【一拍】北京市朝阳区首都机场路89号丽京花园别墅区4-14幢4-1-7号房屋 https://paimai.jd.com/104453581\n",
      "执行裁定书.doc https://storage.jd.com/auction.gateway/667aa93ef43868348175fc71ebab8fe020171127112534571.doc\n",
      "3-评估报告正文1.doc https://storage.jd.com/auction.gateway/6d8c362dbce6cf16f94c3d2ed501977e20171127112534597.doc\n"
     ]
    },
    {
     "name": "stderr",
     "output_type": "stream",
     "text": [
      "\r",
      " 65%|██████▌   | 435/665 [25:59<13:50,  3.61s/it]"
     ]
    },
    {
     "name": "stdout",
     "output_type": "stream",
     "text": [
      "【一拍】北京市海淀区西三环北路50 号院5 号楼7层808 号（191.39㎡） https://paimai.jd.com/104432581\n",
      "北京市海淀区西三环北路50 号院5 号楼808 号评估报告.pdf https://storage.jd.com/auction.gateway/4f88173e3e77b6605a192772c5a994a020171124153009854.pdf\n"
     ]
    },
    {
     "name": "stderr",
     "output_type": "stream",
     "text": [
      "\r",
      " 66%|██████▌   | 436/665 [26:02<12:12,  3.20s/it]"
     ]
    },
    {
     "name": "stdout",
     "output_type": "stream",
     "text": [
      "【一拍】北京市丰台区西罗园四区9号楼4层1-111号（60.5㎡） https://paimai.jd.com/104400276\n",
      "北京市丰台区西罗园四区9号楼4层1-111号住宅-评估报告 (1).pdf https://storage.jd.com/auction.gateway/f729af970486ebb0903cb1fa7c8bf67520171120151044723.pdf\n",
      "执行依据.docx https://storage.jd.com/auction.gateway/dcbc0cb36b2cc698a6e60e3979d57c0120171120151044893.docx\n"
     ]
    },
    {
     "name": "stderr",
     "output_type": "stream",
     "text": [
      "\r",
      " 66%|██████▌   | 437/665 [26:07<14:10,  3.73s/it]"
     ]
    },
    {
     "name": "stdout",
     "output_type": "stream",
     "text": [
      "【一拍】北京市大兴区庞各庄镇龙景湾丁区121号楼3层1-304号(112.35㎡) https://paimai.jd.com/104401929\n",
      "执行依据.docx https://storage.jd.com/auction.gateway/11759e3ade872b68fc99dbb41dd1021420171120164517221.docx\n",
      "龙景湾报告.pdf https://storage.jd.com/auction.gateway/0569302b396b79d299821b01f99c5a1920171120164517347.pdf\n"
     ]
    },
    {
     "name": "stderr",
     "output_type": "stream",
     "text": [
      "\r",
      " 66%|██████▌   | 438/665 [26:10<13:51,  3.66s/it]"
     ]
    },
    {
     "name": "stdout",
     "output_type": "stream",
     "text": [
      "【一拍】北京市密云县溪水花园十区4号住宅楼-1至3层05号（256.93㎡） https://paimai.jd.com/104399498\n",
      "溪水花园执行依据.docx https://storage.jd.com/auction.gateway/2329ee70c2678e6c9d2b7a5bfa2d6b3f20171120144018655.docx\n",
      "结果报告.pdf https://storage.jd.com/auction.gateway/d4c1b6d658f2d3a3dbc1ede2e1705c7b20171120144018767.pdf\n"
     ]
    },
    {
     "name": "stderr",
     "output_type": "stream",
     "text": [
      "\r",
      " 66%|██████▌   | 439/665 [26:13<13:22,  3.55s/it]"
     ]
    },
    {
     "name": "stdout",
     "output_type": "stream",
     "text": [
      "【一拍】北京市密云县溪水花园十区4号住宅楼-1至三层05号 https://paimai.jd.com/104398938\n",
      "溪水花园执行依据.docx https://storage.jd.com/auction.gateway/2329ee70c2678e6c9d2b7a5bfa2d6b3f20171120141947731.docx\n",
      "结果报告.pdf https://storage.jd.com/auction.gateway/d4c1b6d658f2d3a3dbc1ede2e1705c7b20171120141947860.pdf\n"
     ]
    },
    {
     "name": "stderr",
     "output_type": "stream",
     "text": [
      "\r",
      " 66%|██████▌   | 440/665 [26:16<12:38,  3.37s/it]"
     ]
    },
    {
     "name": "stdout",
     "output_type": "stream",
     "text": [
      "【二拍】北京市朝阳区广渠路23号院2号楼23层1单元2701房屋 https://paimai.jd.com/104477175\n",
      "G012北京朝阳区金茂府结果报告全.pdf https://storage.jd.com/auction.gateway/115089d6901c282e77c3af2693d9748220171129142027965.pdf\n"
     ]
    },
    {
     "name": "stderr",
     "output_type": "stream",
     "text": [
      "\r",
      " 66%|██████▋   | 441/665 [26:20<12:55,  3.46s/it]"
     ]
    },
    {
     "name": "stdout",
     "output_type": "stream",
     "text": [
      "【一拍】北京市大兴区芳苑小区28号楼3层2单元302 https://paimai.jd.com/104365611\n",
      "芳苑小区评估报告电子版.doc https://storage.jd.com/auction.gateway/32a26e280200f3f6205d5a0bbb6c198720171116125652906.doc\n"
     ]
    },
    {
     "name": "stderr",
     "output_type": "stream",
     "text": [
      "\r",
      " 66%|██████▋   | 442/665 [26:24<13:06,  3.52s/it]"
     ]
    },
    {
     "name": "stdout",
     "output_type": "stream",
     "text": [
      "【一拍】昌平区回龙观镇龙城花园二期60号楼1至2层60-A(208.1㎡) https://paimai.jd.com/104368430\n",
      "昌平区回龙观镇龙城花园二期60号楼1-2层60-A号房地产市场价值评估报告.doc https://storage.jd.com/auction.gateway/be2143fdb5c8166475b87af1ff22906f20171116173948544.doc\n"
     ]
    },
    {
     "name": "stderr",
     "output_type": "stream",
     "text": [
      "\r",
      " 67%|██████▋   | 443/665 [26:27<12:17,  3.32s/it]"
     ]
    },
    {
     "name": "stdout",
     "output_type": "stream",
     "text": [
      "【一拍】北京市海淀区翠微路4号颐源居15号楼6单元1101室（234.95㎡） https://paimai.jd.com/104368520\n",
      "颐源居15号楼6单元1101评估报告-.pdf https://storage.jd.com/auction.gateway/1170c35a7e0857105eb006e6747a929e20171128094027342.pdf\n"
     ]
    },
    {
     "name": "stderr",
     "output_type": "stream",
     "text": [
      " 67%|██████▋   | 445/665 [26:35<14:26,  3.94s/it]"
     ]
    },
    {
     "name": "stdout",
     "output_type": "stream",
     "text": [
      "【二拍】北京市朝阳区南湖西园228号楼6层1单元701号 https://paimai.jd.com/104456050\n",
      "（结果报告）京城捷信20170200—SF049.pdf https://storage.jd.com/auction.gateway/62dffa5c1cfe5aa9eccfaab0ea42dc3220171127143552054.pdf\n"
     ]
    },
    {
     "name": "stderr",
     "output_type": "stream",
     "text": [
      "\r",
      " 67%|██████▋   | 446/665 [26:40<15:07,  4.14s/it]"
     ]
    },
    {
     "name": "stdout",
     "output_type": "stream",
     "text": [
      "【二拍】北京市大兴区庞各庄镇隆盛西园5号楼5层6-502 号 https://paimai.jd.com/104454129\n",
      "中建华-2017-225号报告(含照片.pdf https://storage.jd.com/auction.gateway/58df9dcb2c2fd2b9c4b1f85901d22fce20171127120013127.pdf\n"
     ]
    },
    {
     "name": "stderr",
     "output_type": "stream",
     "text": [
      "\r",
      " 67%|██████▋   | 447/665 [26:44<15:08,  4.17s/it]"
     ]
    },
    {
     "name": "stdout",
     "output_type": "stream",
     "text": [
      "【一拍】北京市朝阳区福怡苑14号楼1单元101号 https://paimai.jd.com/104318313\n",
      "北京市朝阳区福怡苑14号楼1门101号住宅用途房地产市场价值评估 华信.pdf https://storage.jd.com/auction.gateway/0d1498a974cf527bb4a31b482000046720171110170049391.pdf\n"
     ]
    },
    {
     "name": "stderr",
     "output_type": "stream",
     "text": [
      "\r",
      " 67%|██████▋   | 448/665 [26:50<16:55,  4.68s/it]"
     ]
    },
    {
     "name": "stdout",
     "output_type": "stream",
     "text": [
      "【一拍】北京市朝阳区九龙山家园2号楼508室房屋 https://paimai.jd.com/104319379\n",
      "”2017京0105执8782号“案件报告扫描件.docx https://storage.jd.com/auction.gateway/eed5179f9d5042fe8f5b7a94db51981a20171113100034665.docx\n"
     ]
    },
    {
     "name": "stderr",
     "output_type": "stream",
     "text": [
      " 68%|██████▊   | 450/665 [26:58<15:41,  4.38s/it]"
     ]
    },
    {
     "name": "stdout",
     "output_type": "stream",
     "text": [
      "【二拍】北京市朝阳区西大望路甲20号院12号楼-1至2层4单元101号 https://paimai.jd.com/104410133\n",
      "【结果报告】2017-1-0199北京市朝阳区西大望路甲20号院12号楼4单元101.pdf https://storage.jd.com/auction.gateway/f685f413c906bf9d8af84f949529c70920171121155008528.pdf\n"
     ]
    },
    {
     "name": "stderr",
     "output_type": "stream",
     "text": [
      "\r",
      " 68%|██████▊   | 451/665 [27:01<13:51,  3.88s/it]"
     ]
    },
    {
     "name": "stdout",
     "output_type": "stream",
     "text": [
      "【一拍】北京市朝阳区北苑路172号万兴苑16号楼18层1806号 https://paimai.jd.com/104319540\n",
      "朝阳区北苑路172号.docx https://storage.jd.com/auction.gateway/676c8a70d945a68356f66b13132afd3e20171110195033839.docx\n"
     ]
    },
    {
     "name": "stderr",
     "output_type": "stream",
     "text": [
      "\r",
      " 68%|██████▊   | 452/665 [27:04<12:48,  3.61s/it]"
     ]
    },
    {
     "name": "stdout",
     "output_type": "stream",
     "text": [
      "【一拍】北京市朝阳区将台乡驼房营将府家园北里123楼5-501号 https://paimai.jd.com/104317028\n",
      "朝阳区将台乡驼房营将府家园北里123楼5-501号（建亚评字2017-195号）.pdf https://storage.jd.com/auction.gateway/5db8f27b40d8556d3981c13f4d0a9f2a20171113093457210.pdf\n"
     ]
    },
    {
     "name": "stderr",
     "output_type": "stream",
     "text": [
      "\r",
      " 68%|██████▊   | 453/665 [27:07<12:27,  3.52s/it]"
     ]
    },
    {
     "name": "stdout",
     "output_type": "stream",
     "text": [
      "【一拍】北京市朝阳区北苑路180号1号楼9层904 https://paimai.jd.com/104319147\n",
      "朝阳区北苑路180号1号楼9层904号.pdf https://storage.jd.com/auction.gateway/b7742841003076e8c1044fa826f4e62a20171110183511796.pdf\n"
     ]
    },
    {
     "name": "stderr",
     "output_type": "stream",
     "text": [
      "\r",
      " 68%|██████▊   | 454/665 [27:09<11:10,  3.18s/it]"
     ]
    },
    {
     "name": "stdout",
     "output_type": "stream",
     "text": [
      "【一拍】北京市朝阳区东大桥路4号楼9层902号 https://paimai.jd.com/104319317\n",
      "东大桥报告.docx https://storage.jd.com/auction.gateway/860c4f24a526abdb07770774b0a3558820171116144540489.docx\n"
     ]
    },
    {
     "name": "stderr",
     "output_type": "stream",
     "text": [
      "\r",
      " 68%|██████▊   | 455/665 [27:14<12:39,  3.62s/it]"
     ]
    },
    {
     "name": "stdout",
     "output_type": "stream",
     "text": [
      "【二拍】北京市朝阳区西大望路甲20号院12号楼3至5层4单元301 https://paimai.jd.com/104410512\n",
      "【结果报告】2017-1-0360北京市朝阳区西大望路甲20号院12号楼4单元301.pdf https://storage.jd.com/auction.gateway/e0d520f6ae4d49bdbe630af9dac607c820171121161009140.pdf\n"
     ]
    },
    {
     "name": "stderr",
     "output_type": "stream",
     "text": [
      "\r",
      " 69%|██████▊   | 456/665 [27:17<11:50,  3.40s/it]"
     ]
    },
    {
     "name": "stdout",
     "output_type": "stream",
     "text": [
      "【二拍】北京市朝阳区百子湾路32号院2号楼19层2座2211号 https://paimai.jd.com/104403183\n",
      "百子湾路结果报告.pdf https://storage.jd.com/auction.gateway/c371ec7507760450ef5e9b590cbf46f720171121162514684.pdf\n"
     ]
    },
    {
     "name": "stderr",
     "output_type": "stream",
     "text": [
      "\r",
      " 69%|██████▊   | 457/665 [27:19<11:03,  3.19s/it]"
     ]
    },
    {
     "name": "stdout",
     "output_type": "stream",
     "text": [
      "【一拍】北京市朝阳区东四环北路10号3楼 11层11-1105号 https://paimai.jd.com/104318518\n",
      "朝阳区东四环北路10号3号楼1105号报告.pdf https://storage.jd.com/auction.gateway/f4694179dca01b28c185cb8d96f4926c20171114093446538.pdf\n"
     ]
    },
    {
     "name": "stderr",
     "output_type": "stream",
     "text": [
      "\r",
      " 69%|██████▉   | 458/665 [27:22<10:28,  3.03s/it]"
     ]
    },
    {
     "name": "stdout",
     "output_type": "stream",
     "text": [
      "【二拍】北京市朝阳区甜水园北里2号楼4 层408号 https://paimai.jd.com/104415256\n",
      "甜水园北里报告.pdf https://storage.jd.com/auction.gateway/89c350a058ef861bc362802e0984adca20171122154527073.pdf\n"
     ]
    },
    {
     "name": "stderr",
     "output_type": "stream",
     "text": [
      "\r",
      " 69%|██████▉   | 459/665 [27:26<11:13,  3.27s/it]"
     ]
    },
    {
     "name": "stdout",
     "output_type": "stream",
     "text": [
      "【一拍】北京市朝阳区八里庄西75 号楼19 层1908 号 https://paimai.jd.com/104318379\n",
      "八里庄西里75号楼1908-京港（2017）涉案字第（37）号.pdf https://storage.jd.com/auction.gateway/40139bace35a12a59b6b10b74b16b71c20171110170938517.pdf\n"
     ]
    },
    {
     "name": "stderr",
     "output_type": "stream",
     "text": [
      "\r",
      " 69%|██████▉   | 460/665 [27:29<11:06,  3.25s/it]"
     ]
    },
    {
     "name": "stdout",
     "output_type": "stream",
     "text": [
      "【二拍】北京市大兴区黄村镇富强西里 25 号楼 2层 1-203号 https://paimai.jd.com/104414823\n",
      "170178富强西里20170710.pdf https://storage.jd.com/auction.gateway/9e7b01846142ffef0dd0f6b46aa8471220171122095021574.pdf\n"
     ]
    },
    {
     "name": "stderr",
     "output_type": "stream",
     "text": [
      "\r",
      " 69%|██████▉   | 461/665 [27:33<11:16,  3.32s/it]"
     ]
    },
    {
     "name": "stdout",
     "output_type": "stream",
     "text": [
      "【一拍】北京市朝阳区天福园8号楼3层4门302号 https://paimai.jd.com/104317941\n",
      "朝阳区天福园8号楼4门302号报告 宝孚.pdf https://storage.jd.com/auction.gateway/48fc786a9893a366e20f9953fd4731c220171110163013033.pdf\n"
     ]
    },
    {
     "name": "stderr",
     "output_type": "stream",
     "text": [
      "\r",
      " 69%|██████▉   | 462/665 [27:37<12:07,  3.58s/it]"
     ]
    },
    {
     "name": "stdout",
     "output_type": "stream",
     "text": [
      "【一拍】大兴区开泰东里16号楼-1至1层3单元102 https://paimai.jd.com/104317989\n",
      "(j结果报告)京城捷信20170384—SF088.pdf https://storage.jd.com/auction.gateway/f74e36b76baa0fa4e40a7d97718c760d20171110172608194.pdf\n"
     ]
    },
    {
     "name": "stderr",
     "output_type": "stream",
     "text": [
      "\r",
      " 70%|██████▉   | 463/665 [27:40<12:08,  3.61s/it]"
     ]
    },
    {
     "name": "stdout",
     "output_type": "stream",
     "text": [
      "【二拍】北京市海淀区联慧路101号院9层A座1028号 https://paimai.jd.com/104415105\n",
      "西晴公寓-结果报告.pdf https://storage.jd.com/auction.gateway/9e029d46078fb72e1b3b20280fe22d1b20171122102001753.pdf\n"
     ]
    },
    {
     "name": "stderr",
     "output_type": "stream",
     "text": [
      " 70%|██████▉   | 465/665 [27:46<10:18,  3.09s/it]"
     ]
    },
    {
     "name": "stdout",
     "output_type": "stream",
     "text": [
      "【一拍】北京市朝阳区方舟苑5号楼1层107号房屋（143.39㎡） https://paimai.jd.com/104306777\n",
      "2017--1104 朝阳区方舟苑5号楼1层107估价结果报告.doc https://storage.jd.com/auction.gateway/46e1a98e5fbc2e54e885af57b54e178720171109104617174.doc\n",
      "【一拍】北京市大兴区芳苑小区6号楼4层2单元401号（140.07㎡） https://paimai.jd.com/104310380\n",
      "北京市大兴区芳苑小区6号楼4层2单元401号.doc https://storage.jd.com/auction.gateway/417673c7511d321d32d141717253628720171109162508547.doc\n"
     ]
    },
    {
     "name": "stderr",
     "output_type": "stream",
     "text": [
      " 70%|███████   | 467/665 [27:53<11:28,  3.48s/it]"
     ]
    },
    {
     "name": "stdout",
     "output_type": "stream",
     "text": [
      "【一拍】北京市海淀区翠微路25号1号楼2门5层209号（112.32㎡） https://paimai.jd.com/104310161\n",
      "评估报告-北京市海淀区翠微路25号1号楼2门5层209号.doc https://storage.jd.com/auction.gateway/a1f2e2f8c75a60df3315c4b50d1bf4d620171109155602485.doc\n"
     ]
    },
    {
     "name": "stderr",
     "output_type": "stream",
     "text": [
      "\r",
      " 70%|███████   | 468/665 [27:58<12:59,  3.96s/it]"
     ]
    },
    {
     "name": "stdout",
     "output_type": "stream",
     "text": [
      "【一拍】北京市通州区永顺地区焦王庄村枫露苑三区58号住宅用途房产 https://paimai.jd.com/104293975\n",
      "2007-356裁定.pdf https://storage.jd.com/auction.gateway/a3ba134252a12326e120f983396f339d20171107155601890.pdf\n",
      "枫露苑三区58号楼报告.pdf https://storage.jd.com/auction.gateway/d611c556280736329a64b6d55b70d24c20171107155602123.pdf\n"
     ]
    },
    {
     "name": "stderr",
     "output_type": "stream",
     "text": [
      " 71%|███████   | 470/665 [28:07<13:11,  4.06s/it]"
     ]
    },
    {
     "name": "stdout",
     "output_type": "stream",
     "text": [
      "【二拍】北京市朝阳区慧忠北里417号楼1至2层3单元202号住宅 https://paimai.jd.com/104411757\n",
      "评估报告.doc https://storage.jd.com/auction.gateway/afe54eb5c74416b346ddc2647760eaa420171121180531496.doc\n"
     ]
    },
    {
     "name": "stderr",
     "output_type": "stream",
     "text": [
      "\r",
      " 71%|███████   | 471/665 [28:10<12:48,  3.96s/it]"
     ]
    },
    {
     "name": "stdout",
     "output_type": "stream",
     "text": [
      "【二拍】北京市密云区溪水花园八区3号楼5层1单元502号（81.6㎡） https://paimai.jd.com/104260058\n",
      "2017-6-15北京市密云区溪水花园八区-----结果报告.doc https://storage.jd.com/auction.gateway/c92d02f45868fd62143129c99c191c5120171103135502107.doc\n"
     ]
    },
    {
     "name": "stderr",
     "output_type": "stream",
     "text": [
      "\r",
      " 71%|███████   | 472/665 [28:13<11:31,  3.58s/it]"
     ]
    },
    {
     "name": "stdout",
     "output_type": "stream",
     "text": [
      "【二拍】北京市海淀区香山南路88号36号楼01至03层05号住宅（287.66㎡） https://paimai.jd.com/104260810\n",
      "香山南路88号评估报告.pdf https://storage.jd.com/auction.gateway/ac958de102405e1a161f67d978d3e99920171103144502802.pdf\n"
     ]
    },
    {
     "name": "stderr",
     "output_type": "stream",
     "text": [
      "\r",
      " 71%|███████   | 473/665 [28:15<09:53,  3.09s/it]"
     ]
    },
    {
     "name": "stdout",
     "output_type": "stream",
     "text": [
      "【一拍】北京市通州区潞苑南里3号18号楼9层3单元902号（116.48㎡） https://paimai.jd.com/104258131\n",
      "评估报告-北京市通州区潞苑南里3号18号楼三单元902号.pdf https://storage.jd.com/auction.gateway/fd8b5ace82f6d36fc591847aca26729620171103102027119.pdf\n"
     ]
    },
    {
     "name": "stderr",
     "output_type": "stream",
     "text": [
      "\r",
      " 71%|███████▏  | 474/665 [28:18<09:27,  2.97s/it]"
     ]
    },
    {
     "name": "stdout",
     "output_type": "stream",
     "text": [
      "【一拍】北京市密云区隆源大厦3到9层房地产 https://paimai.jd.com/104263169\n",
      "结果报告-隆源大厦3到9层估价报告.doc https://storage.jd.com/auction.gateway/2cd61d85f310c8bd4d76ba002d0602cb20171103181021208.doc\n"
     ]
    },
    {
     "name": "stderr",
     "output_type": "stream",
     "text": [
      "\r",
      " 71%|███████▏  | 475/665 [28:20<08:44,  2.76s/it]"
     ]
    },
    {
     "name": "stdout",
     "output_type": "stream",
     "text": [
      "（2016）京02执892号.doc https://storage.jd.com/auction.gateway/d4f852199e3ca88272c5516b1f52ce7620171103181021241.doc\n"
     ]
    },
    {
     "name": "stderr",
     "output_type": "stream",
     "text": [
      "\r",
      " 72%|███████▏  | 476/665 [28:26<11:32,  3.67s/it]"
     ]
    },
    {
     "name": "stdout",
     "output_type": "stream",
     "text": [
      "【一拍】北京市朝阳区朝阳北路107号院45号楼6层601室房屋 https://paimai.jd.com/104190167\n",
      "结果报告.pdf https://storage.jd.com/auction.gateway/be08e901573b06a3da12076164918ace20171026095958747.pdf\n"
     ]
    },
    {
     "name": "stderr",
     "output_type": "stream",
     "text": [
      "\r",
      " 72%|███████▏  | 477/665 [28:29<11:11,  3.57s/it]"
     ]
    },
    {
     "name": "stdout",
     "output_type": "stream",
     "text": [
      "【一拍】北京市通州区杨庄南里81号楼6层3单元602号住宅 https://paimai.jd.com/104194172\n",
      "（结果报告）京城捷信20170224—SF059.pdf https://storage.jd.com/auction.gateway/76ddbcc328ac6ac6663f83bbd375cc3420171026172504338.pdf\n"
     ]
    },
    {
     "name": "stderr",
     "output_type": "stream",
     "text": [
      "\r",
      " 72%|███████▏  | 478/665 [28:35<13:08,  4.22s/it]"
     ]
    },
    {
     "name": "stdout",
     "output_type": "stream",
     "text": [
      "【一拍】北京市朝阳区广渠路23号院2号楼23层1单元2701房屋 https://paimai.jd.com/104197482\n",
      "G012北京朝阳区金茂府结果报告全.pdf https://storage.jd.com/auction.gateway/115089d6901c282e77c3af2693d9748220171027100500477.pdf\n"
     ]
    },
    {
     "name": "stderr",
     "output_type": "stream",
     "text": [
      "\r",
      " 72%|███████▏  | 479/665 [28:38<11:49,  3.81s/it]"
     ]
    },
    {
     "name": "stdout",
     "output_type": "stream",
     "text": [
      "【一拍】北京市朝阳区广渠路23号院2号楼23层1单元2701房屋 https://paimai.jd.com/104190863\n",
      "G012北京朝阳区金茂府结果报告全.pdf https://storage.jd.com/auction.gateway/115089d6901c282e77c3af2693d9748220171026110514949.pdf\n"
     ]
    },
    {
     "name": "stderr",
     "output_type": "stream",
     "text": [
      "\r",
      " 72%|███████▏  | 480/665 [28:40<10:38,  3.45s/it]"
     ]
    },
    {
     "name": "stdout",
     "output_type": "stream",
     "text": [
      "【一拍】北京市西城区椿树园15号楼3-8-801号 https://paimai.jd.com/104168117\n",
      "执行依据.docx https://storage.jd.com/auction.gateway/f280ab8a42cbb8a23c6a603ed538f81b20171101153524247.docx\n"
     ]
    },
    {
     "name": "stderr",
     "output_type": "stream",
     "text": [
      "\r",
      " 72%|███████▏  | 481/665 [28:44<10:52,  3.55s/it]"
     ]
    },
    {
     "name": "stdout",
     "output_type": "stream",
     "text": [
      "3074椿树园结果报告.doc https://storage.jd.com/auction.gateway/95833bfe9041fdf9adf1ebf3f1af485e20171101153524390.doc\n",
      "【一拍】北京市东城区（原崇文区）景泰西里东区3号楼2单元1104号住宅用途房产 https://paimai.jd.com/104167545\n",
      "评估报告-景泰西里.pdf https://storage.jd.com/auction.gateway/43bd0aac0995e5fbf296835cadab924620171023151014185.pdf\n",
      "执行依据.docx https://storage.jd.com/auction.gateway/602915cda5228515094e2f03a76d83d820171023151014257.docx\n"
     ]
    },
    {
     "name": "stderr",
     "output_type": "stream",
     "text": [
      "\r",
      " 72%|███████▏  | 482/665 [28:49<12:13,  4.01s/it]"
     ]
    },
    {
     "name": "stdout",
     "output_type": "stream",
     "text": [
      "【一拍】北京市海淀区上地东里六区10号楼423号（63.9㎡） https://paimai.jd.com/104127933\n",
      "上地东里六区10楼4层423结果评估报告.pdf https://storage.jd.com/auction.gateway/f38a519463d22f175f7b9080cf34650e20171019113958760.pdf\n"
     ]
    },
    {
     "name": "stderr",
     "output_type": "stream",
     "text": [
      " 73%|███████▎  | 484/665 [28:57<12:15,  4.06s/it]"
     ]
    },
    {
     "name": "stdout",
     "output_type": "stream",
     "text": [
      "【一拍】北京市大兴区黄村镇义和庄东里10号楼3层5-303 https://paimai.jd.com/104119114\n",
      "大兴义和庄东里10号楼3层5-303号.pdf https://storage.jd.com/auction.gateway/506c5b436a8d863782071acc9c75795220171018113834130.pdf\n"
     ]
    },
    {
     "name": "stderr",
     "output_type": "stream",
     "text": [
      "\r",
      " 73%|███████▎  | 485/665 [29:00<10:48,  3.60s/it]"
     ]
    },
    {
     "name": "stdout",
     "output_type": "stream",
     "text": [
      "【一拍】北京市朝阳区慧忠北里417号楼1至2层3单元202号住宅 https://paimai.jd.com/104124226\n",
      "评估报告.doc https://storage.jd.com/auction.gateway/afe54eb5c74416b346ddc2647760eaa420171018200023796.doc\n"
     ]
    },
    {
     "name": "stderr",
     "output_type": "stream",
     "text": [
      "\r",
      " 73%|███████▎  | 486/665 [29:02<09:28,  3.18s/it]"
     ]
    },
    {
     "name": "stdout",
     "output_type": "stream",
     "text": [
      "【一拍】北京市大兴区黄村中里3号楼5层3单元601号 https://paimai.jd.com/104119112\n",
      "中建华-2017-717-黄村中里3号楼3单元601号-正文（给大兴法院）.pdf https://storage.jd.com/auction.gateway/10cf9b864ba57b26ffe2b46d4402e95620171018113821428.pdf\n"
     ]
    },
    {
     "name": "stderr",
     "output_type": "stream",
     "text": [
      "\r",
      " 73%|███████▎  | 487/665 [29:03<08:06,  2.73s/it]"
     ]
    },
    {
     "name": "stdout",
     "output_type": "stream",
     "text": [
      "【二拍】北京市大兴区黄村镇兴政东里18号楼20层2006号房屋 https://paimai.jd.com/104251071\n",
      "2016A109大兴区黄村镇兴政东里18号楼2006号房屋房地产价值评估.pdf https://storage.jd.com/auction.gateway/c8ed6826b04a9ef60bf6282cdef45b5d20171102101954020.pdf\n"
     ]
    },
    {
     "name": "stderr",
     "output_type": "stream",
     "text": [
      " 74%|███████▎  | 489/665 [29:15<13:19,  4.54s/it]"
     ]
    },
    {
     "name": "stdout",
     "output_type": "stream",
     "text": [
      "【一拍】北京市朝阳区高碑店路99号4号楼3层1单元302号 https://paimai.jd.com/104096917\n",
      "结果报告--CBD高尔夫别墅.pdf https://storage.jd.com/auction.gateway/03c10a5dcf3d0e4425d8c5d764aa1ca620171016105510057.pdf\n"
     ]
    },
    {
     "name": "stderr",
     "output_type": "stream",
     "text": [
      "\r",
      " 74%|███████▎  | 490/665 [29:19<12:49,  4.40s/it]"
     ]
    },
    {
     "name": "stdout",
     "output_type": "stream",
     "text": [
      "【一拍】北京市朝阳区吉庆里11号楼9层6门902号（106.72㎡） https://paimai.jd.com/104004965\n",
      "北京市朝阳区吉庆里11号楼9层6门902号住宅房地产价值评估.pdf https://storage.jd.com/auction.gateway/80ebe0db4f6f0fd488782e8b3134031720170929160525761.pdf\n"
     ]
    },
    {
     "name": "stderr",
     "output_type": "stream",
     "text": [
      " 74%|███████▍  | 492/665 [29:29<13:14,  4.59s/it]"
     ]
    },
    {
     "name": "stdout",
     "output_type": "stream",
     "text": [
      "【二拍】北京市密云县亚澜湾AC-6号楼（262.98㎡） https://paimai.jd.com/104130722\n",
      "密云县亚澜湾AC-6号楼评估报告.docx https://storage.jd.com/auction.gateway/c246d06d7ecc4c1d3845b56cec5c93fc20171019150518064.docx\n"
     ]
    },
    {
     "name": "stderr",
     "output_type": "stream",
     "text": [
      "\r",
      " 74%|███████▍  | 493/665 [29:32<11:59,  4.18s/it]"
     ]
    },
    {
     "name": "stdout",
     "output_type": "stream",
     "text": [
      "【一拍】北京市门头沟区滨河临镜苑6号楼8层5单元801号房屋（123.02㎡）及电子设备 https://paimai.jd.com/104002770\n",
      "房门头沟区临镜苑评估报告.doc https://storage.jd.com/auction.gateway/004fdfc13d63a174b79962ce13b0357720170929115942751.doc\n"
     ]
    },
    {
     "name": "stderr",
     "output_type": "stream",
     "text": [
      "\r",
      " 74%|███████▍  | 494/665 [29:35<11:02,  3.87s/it]"
     ]
    },
    {
     "name": "stdout",
     "output_type": "stream",
     "text": [
      "【一拍】北京市东城区景山东街11号1幢等5幢及6幢1层 https://paimai.jd.com/103988325\n",
      "评估报告.pdf https://storage.jd.com/auction.gateway/2f4765179fb17f431b169ba32fc72fc620170927171355472.pdf\n",
      "景山东街 位置及照片.pdf https://storage.jd.com/auction.gateway/aefb5757e79bee716f0117ae1a01646120170927171355716.pdf\n",
      "执行裁定.docx https://storage.jd.com/auction.gateway/4da365e760a431e5c0887017221bfb6620170927171355792.docx\n"
     ]
    },
    {
     "name": "stderr",
     "output_type": "stream",
     "text": [
      "\r",
      " 74%|███████▍  | 495/665 [29:38<10:19,  3.64s/it]"
     ]
    },
    {
     "name": "stdout",
     "output_type": "stream",
     "text": [
      "【一拍】朝阳区霄云路8号院6号楼5层2单元502 https://paimai.jd.com/104043545\n",
      "霄云路8号评估报告.pdf https://storage.jd.com/auction.gateway/7d1056a15d0a5a87cc4131ac3224340f20171009174447488.pdf\n"
     ]
    },
    {
     "name": "stderr",
     "output_type": "stream",
     "text": [
      " 75%|███████▍  | 497/665 [29:47<11:16,  4.02s/it]"
     ]
    },
    {
     "name": "stdout",
     "output_type": "stream",
     "text": [
      "【一拍】北京市顺义区顺义东方太阳城277号楼-1至2层全部 https://paimai.jd.com/103988437\n",
      "执行裁定.docx https://storage.jd.com/auction.gateway/4282d78a93b9b0f2aee8bd72ddca87d220170927171933597.docx\n"
     ]
    },
    {
     "name": "stderr",
     "output_type": "stream",
     "text": [
      "\r",
      " 75%|███████▍  | 498/665 [29:49<10:02,  3.61s/it]"
     ]
    },
    {
     "name": "stdout",
     "output_type": "stream",
     "text": [
      "（北京）华信（2017）（估）字第00032号北京市顺义区顺义东方太阳城277号楼-1至2层住宅用途房地产价值评估.pdf https://storage.jd.com/auction.gateway/20146164d6018d20380ea748fcf5c7a320170927171934512.pdf\n",
      "【一拍】北京市大兴区滨河西里10幢8-602号 https://paimai.jd.com/104001415\n",
      "大兴区滨河西里10幢8-602.pdf https://storage.jd.com/auction.gateway/e72e440f49063a3615d1513b2f5d48ed20170929092410017.pdf\n",
      "执行依据.docx https://storage.jd.com/auction.gateway/a2d05e44f76d7642ef345ccf068b7e0420170929092410105.docx\n"
     ]
    },
    {
     "name": "stderr",
     "output_type": "stream",
     "text": [
      "\r",
      " 75%|███████▌  | 499/665 [29:53<09:43,  3.52s/it]"
     ]
    },
    {
     "name": "stdout",
     "output_type": "stream",
     "text": [
      "【一拍】北京市朝阳区北苑家园茉藜园16号楼2001号 https://paimai.jd.com/104049109\n",
      "北苑家园茉藜园结果报告.pdf https://storage.jd.com/auction.gateway/cfc03d5b9a274c3f76774dd15d65acaf20171010135001847.pdf\n"
     ]
    },
    {
     "name": "stderr",
     "output_type": "stream",
     "text": [
      "\r",
      " 75%|███████▌  | 500/665 [29:56<09:44,  3.54s/it]"
     ]
    },
    {
     "name": "stdout",
     "output_type": "stream",
     "text": [
      "【一拍】北京市海淀区联慧路101号院9层A座1028号 https://paimai.jd.com/104049734\n",
      "西晴公寓-结果报告.pdf https://storage.jd.com/auction.gateway/9e029d46078fb72e1b3b20280fe22d1b20171010143503496.pdf\n"
     ]
    },
    {
     "name": "stderr",
     "output_type": "stream",
     "text": [
      "\r",
      " 75%|███████▌  | 501/665 [29:59<09:12,  3.37s/it]"
     ]
    },
    {
     "name": "stdout",
     "output_type": "stream",
     "text": [
      "【一拍】北京市朝阳区百子湾路3号楼5层2单元12 https://paimai.jd.com/104048654\n",
      "2017-Z024-朝阳区百子湾路3号楼5层2单元12号.pdf https://storage.jd.com/auction.gateway/f9290b2bfa3117db5964592f0cfa6b1020171010130359422.pdf\n"
     ]
    },
    {
     "name": "stderr",
     "output_type": "stream",
     "text": [
      "\r",
      " 75%|███████▌  | 502/665 [30:02<08:54,  3.28s/it]"
     ]
    },
    {
     "name": "stdout",
     "output_type": "stream",
     "text": [
      "【一拍】北京市东城区安外上龙西里34号楼1806号 https://paimai.jd.com/103988064\n",
      "（北京）华信（2017）（估）字第00235号北京市东城区上龙西里34号楼18层1806号住宅用途市场价值评估报告.pdf https://storage.jd.com/auction.gateway/56c32eb4a1b67be3183a227b36e1b94820170927165945600.pdf\n",
      "执行裁定.docx https://storage.jd.com/auction.gateway/3be2da7e68ad8a2755be5f592d2001ca20170927165945659.docx\n"
     ]
    },
    {
     "name": "stderr",
     "output_type": "stream",
     "text": [
      "\r",
      " 76%|███████▌  | 503/665 [30:05<08:20,  3.09s/it]"
     ]
    },
    {
     "name": "stdout",
     "output_type": "stream",
     "text": [
      "【一拍】北京市朝阳区农展馆南路9号院2号楼1203号 https://paimai.jd.com/104050305\n",
      "农展馆评估报告.pdf https://storage.jd.com/auction.gateway/2e7e89ecda6ce7d1e38c1583aa123f7720171010152451587.pdf\n"
     ]
    },
    {
     "name": "stderr",
     "output_type": "stream",
     "text": [
      "\r",
      " 76%|███████▌  | 504/665 [30:09<09:07,  3.40s/it]"
     ]
    },
    {
     "name": "stdout",
     "output_type": "stream",
     "text": [
      "【一拍】北京市朝阳区甜水西园8 号楼801 号 https://paimai.jd.com/104043428\n",
      "甜水西园8号楼801号.pdf https://storage.jd.com/auction.gateway/ee548e9f6548dd771e875e4fd78b7dc820171108130449082.pdf\n"
     ]
    },
    {
     "name": "stderr",
     "output_type": "stream",
     "text": [
      "\r",
      " 76%|███████▌  | 505/665 [30:11<08:05,  3.04s/it]"
     ]
    },
    {
     "name": "stdout",
     "output_type": "stream",
     "text": [
      "【一拍】北京市朝阳区南湖西园228号楼6层1单元701号 https://paimai.jd.com/104051064\n",
      "（结果报告）京城捷信20170200—SF049.pdf https://storage.jd.com/auction.gateway/62dffa5c1cfe5aa9eccfaab0ea42dc3220171010161026113.pdf\n"
     ]
    },
    {
     "name": "stderr",
     "output_type": "stream",
     "text": [
      "\r",
      " 76%|███████▌  | 506/665 [30:14<07:44,  2.92s/it]"
     ]
    },
    {
     "name": "stdout",
     "output_type": "stream",
     "text": [
      "【一拍】北京市朝阳区酒仙桥路甲10号1号楼27F号 https://paimai.jd.com/104049654\n",
      "执行裁定.docx https://storage.jd.com/auction.gateway/ad408e14385d0d2e5c1a236be9c6e18d20171010143033851.docx\n",
      "评估报告.docx https://storage.jd.com/auction.gateway/22155e2753eda36147209ee35be7808220171010143035195.docx\n"
     ]
    },
    {
     "name": "stderr",
     "output_type": "stream",
     "text": [
      "\r",
      " 76%|███████▌  | 507/665 [30:18<08:27,  3.21s/it]"
     ]
    },
    {
     "name": "stdout",
     "output_type": "stream",
     "text": [
      "【一拍】北京市朝阳区甜水园北里2号楼4 层408号 https://paimai.jd.com/104049799\n",
      "甜水园北里报告.pdf https://storage.jd.com/auction.gateway/89c350a058ef861bc362802e0984adca20171010144025009.pdf\n"
     ]
    },
    {
     "name": "stderr",
     "output_type": "stream",
     "text": [
      "\r",
      " 76%|███████▋  | 508/665 [30:22<09:08,  3.49s/it]"
     ]
    },
    {
     "name": "stdout",
     "output_type": "stream",
     "text": [
      "【一拍】北京市朝阳区天溪园8号楼3-4层1单元301号 https://paimai.jd.com/104047754\n",
      "朝阳区天溪园8号楼-结果报告.pdf https://storage.jd.com/auction.gateway/f87770d4d663b51dd660f061ce8acea620171010114423200.pdf\n"
     ]
    },
    {
     "name": "stderr",
     "output_type": "stream",
     "text": [
      "\r",
      " 77%|███████▋  | 509/665 [30:24<08:06,  3.12s/it]"
     ]
    },
    {
     "name": "stdout",
     "output_type": "stream",
     "text": [
      "【一拍】北京市大兴区黄村镇富强西里 25 号楼 2层 1-203号 https://paimai.jd.com/104042501\n",
      "170178富强西里20170710.pdf https://storage.jd.com/auction.gateway/9e7b01846142ffef0dd0f6b46aa8471220171009163446543.pdf\n"
     ]
    },
    {
     "name": "stderr",
     "output_type": "stream",
     "text": [
      "\r",
      " 77%|███████▋  | 510/665 [30:28<08:41,  3.37s/it]"
     ]
    },
    {
     "name": "stdout",
     "output_type": "stream",
     "text": [
      "【一拍】北京市朝阳区管庄西里71 号楼604 号 https://paimai.jd.com/104057108\n",
      "管庄西里71号楼604结果报告.pdf https://storage.jd.com/auction.gateway/d4432b6e51d54e352e4bb854b942c9d920171011151454657.pdf\n"
     ]
    },
    {
     "name": "stderr",
     "output_type": "stream",
     "text": [
      "\r",
      " 77%|███████▋  | 511/665 [30:31<08:14,  3.21s/it]"
     ]
    },
    {
     "name": "stdout",
     "output_type": "stream",
     "text": [
      "【一拍】北京市大兴区黄村镇三合南里33号楼2层7-201 https://paimai.jd.com/104050770\n",
      "结果报告（三合南里）.pdf https://storage.jd.com/auction.gateway/a97229510caf55c7ca6a2b811f37f74a20171010155423378.pdf\n"
     ]
    },
    {
     "name": "stderr",
     "output_type": "stream",
     "text": [
      "\r",
      " 77%|███████▋  | 512/665 [30:33<07:04,  2.77s/it]"
     ]
    },
    {
     "name": "stdout",
     "output_type": "stream",
     "text": [
      "【一拍】北京市大兴区庞各庄镇隆盛西园5号楼5层6-502 号 https://paimai.jd.com/104052209\n",
      "中建华-2017-225号报告(含照片.pdf https://storage.jd.com/auction.gateway/58df9dcb2c2fd2b9c4b1f85901d22fce20171010171457264.pdf\n"
     ]
    },
    {
     "name": "stderr",
     "output_type": "stream",
     "text": [
      "\r",
      " 77%|███████▋  | 513/665 [30:37<07:50,  3.09s/it]"
     ]
    },
    {
     "name": "stdout",
     "output_type": "stream",
     "text": [
      "【二拍】北京市丰台区东门里7号楼5层2-501号住宅用途房屋 https://paimai.jd.com/103971523\n",
      "王连生执行裁定书.doc https://storage.jd.com/auction.gateway/f4a56da8c5fd265a27d93e75e7092dff20170926154514691.doc\n",
      "298号-东门里.pdf https://storage.jd.com/auction.gateway/0e5b85be8a049d873aa09f936be9090720170926154514718.pdf\n"
     ]
    },
    {
     "name": "stderr",
     "output_type": "stream",
     "text": [
      "\r",
      " 77%|███████▋  | 514/665 [30:41<09:10,  3.65s/it]"
     ]
    },
    {
     "name": "stdout",
     "output_type": "stream",
     "text": [
      "【二拍】北京市丰台区大成南里一区 3 号楼9 层3-902房屋 https://paimai.jd.com/103976152\n",
      "长安新城一区结果报告.pdf https://storage.jd.com/auction.gateway/dbe07da04d7ceaac2699df08f79c705320170926202930681.pdf\n"
     ]
    },
    {
     "name": "stderr",
     "output_type": "stream",
     "text": [
      "\r",
      " 77%|███████▋  | 515/665 [30:46<09:38,  3.86s/it]"
     ]
    },
    {
     "name": "stdout",
     "output_type": "stream",
     "text": [
      "安祥斌执行裁定书.doc https://storage.jd.com/auction.gateway/d5faa4ef63a4eeaf56e5994bf1b4b76b20170926202930742.doc\n",
      "【二拍】北京市门头沟区月季园23号楼2-403号房屋 https://paimai.jd.com/103972143\n",
      "付杨执行裁定书.doc https://storage.jd.com/auction.gateway/6a9c299b5569a4b162343db42f8e404220170926160950504.doc\n",
      "306号-月季园.pdf https://storage.jd.com/auction.gateway/890af4406282f0ef0817075660a56fea20170926160950547.pdf\n"
     ]
    },
    {
     "name": "stderr",
     "output_type": "stream",
     "text": [
      "\r",
      " 78%|███████▊  | 516/665 [30:50<10:09,  4.09s/it]"
     ]
    },
    {
     "name": "stdout",
     "output_type": "stream",
     "text": [
      "【二拍】北京市丰台区芳古园一区2号楼10层3-1004号住宅 https://paimai.jd.com/103971789\n",
      "317号-芳古园一区.pdf https://storage.jd.com/auction.gateway/ce2c818ddb0e06f695292484d5fa1d3c20170926155502935.pdf\n"
     ]
    },
    {
     "name": "stderr",
     "output_type": "stream",
     "text": [
      "\r",
      " 78%|███████▊  | 517/665 [30:55<10:29,  4.25s/it]"
     ]
    },
    {
     "name": "stdout",
     "output_type": "stream",
     "text": [
      "蔡宏莉民事判决书(一审民事案件用).doc https://storage.jd.com/auction.gateway/a10208aef19bd3fdd34cb9cf2261fa2d20170926155503015.doc\n",
      "【二拍】北京市丰台区益辰欣园小区3号楼3幢2层2-202号 https://paimai.jd.com/104177651\n",
      "川诺力达房评字2017第049号[北京市两套住宅市场价值评估项目]-广元市中级人民法院.pdf https://storage.jd.com/auction.gateway/cbae8113417a054108de105883c1bbf320171025083943348.pdf\n"
     ]
    },
    {
     "name": "stderr",
     "output_type": "stream",
     "text": [
      "\r",
      " 78%|███████▊  | 518/665 [30:58<09:15,  3.78s/it]"
     ]
    },
    {
     "name": "stdout",
     "output_type": "stream",
     "text": [
      "【一拍】位于北京市朝阳区松榆南路38号院2号楼3层2-2单元302室房产 https://paimai.jd.com/104010710\n",
      "2017执632号评估报告.pdf https://storage.jd.com/auction.gateway/1cfc668b988a8a51241fdf051ce4838320170930144931228.pdf\n"
     ]
    },
    {
     "name": "stderr",
     "output_type": "stream",
     "text": [
      "\r",
      " 78%|███████▊  | 519/665 [31:00<08:24,  3.46s/it]"
     ]
    },
    {
     "name": "stdout",
     "output_type": "stream",
     "text": [
      "2017执632号裁定.pdf https://storage.jd.com/auction.gateway/78679a62c5693ac843d2d36f982376c720170930144931370.pdf\n"
     ]
    },
    {
     "name": "stderr",
     "output_type": "stream",
     "text": [
      "\r",
      " 78%|███████▊  | 520/665 [31:04<08:07,  3.36s/it]"
     ]
    },
    {
     "name": "stdout",
     "output_type": "stream",
     "text": [
      "【一拍】北京市密云区溪水花园八区3号楼5层1单元502号（81.6㎡） https://paimai.jd.com/103929839\n",
      "2017-6-15北京市密云区溪水花园八区-----结果报告.doc https://storage.jd.com/auction.gateway/c92d02f45868fd62143129c99c191c5120171009142018999.doc\n",
      "【一拍】北京市朝阳区十里堡乙2号院2号楼6层2单元703号（137.06㎡） https://paimai.jd.com/103927740\n",
      "朝阳区十里堡乙2号院2号楼6层2单元703号评估报告(2017-082）.pdf https://storage.jd.com/auction.gateway/f1e551ce8e5e9d307b5c6a6ba823a31820171009142945765.pdf\n"
     ]
    },
    {
     "name": "stderr",
     "output_type": "stream",
     "text": [
      "\r",
      " 78%|███████▊  | 521/665 [31:06<07:22,  3.07s/it]"
     ]
    },
    {
     "name": "stdout",
     "output_type": "stream",
     "text": [
      "【一拍】北京昌平区东小口镇天通西苑二区1号楼18至19层2单元1802（256.43㎡） https://paimai.jd.com/103929114\n",
      "北京昌平区东小口镇天通西苑二区1号楼18至19层2单元1802评估报告.pdf https://storage.jd.com/auction.gateway/f44f8b3dc8d30847c01008f12814d6de20171009141946762.pdf\n"
     ]
    },
    {
     "name": "stderr",
     "output_type": "stream",
     "text": [
      "\r",
      " 78%|███████▊  | 522/665 [31:09<07:08,  3.00s/it]"
     ]
    },
    {
     "name": "stdout",
     "output_type": "stream",
     "text": [
      "【一拍】北京市通州区永顺地区焦王庄村枫露苑别墅二区18号楼 https://paimai.jd.com/103992402\n",
      "2017-164 潘 枫露苑二区18号楼 评估报告.pdf https://storage.jd.com/auction.gateway/c1e0e481d31426e71f4bd5c7f2aac6de20170928094408364.pdf\n",
      "2011-164 裁定.pdf https://storage.jd.com/auction.gateway/a0cb3cf48359eadcded8bbb1429fe19320170928094408451.pdf\n"
     ]
    },
    {
     "name": "stderr",
     "output_type": "stream",
     "text": [
      "\r",
      " 79%|███████▊  | 523/665 [31:12<07:05,  3.00s/it]"
     ]
    },
    {
     "name": "stdout",
     "output_type": "stream",
     "text": [
      "【一拍】北京市海淀区香山南路88号36号楼01至03层05号住宅（287.66㎡） https://paimai.jd.com/103973656\n",
      "香山南路88号评估报告.pdf https://storage.jd.com/auction.gateway/ac958de102405e1a161f67d978d3e99920171009141948174.pdf\n"
     ]
    },
    {
     "name": "stderr",
     "output_type": "stream",
     "text": [
      "\r",
      " 79%|███████▉  | 524/665 [31:14<06:40,  2.84s/it]"
     ]
    },
    {
     "name": "stdout",
     "output_type": "stream",
     "text": [
      "【一拍】北京市海淀区西北旺中海枫涟山庄20楼6层5单元702号房产 https://paimai.jd.com/103917649\n",
      "中海枫涟-报告.pdf https://storage.jd.com/auction.gateway/a4710364a87627611637540f6da2082820170920164431252.pdf\n"
     ]
    },
    {
     "name": "stderr",
     "output_type": "stream",
     "text": [
      "\r",
      " 79%|███████▉  | 525/665 [31:17<06:47,  2.91s/it]"
     ]
    },
    {
     "name": "stdout",
     "output_type": "stream",
     "text": [
      "【一拍】北京市大兴区采育镇育林街1号院23号楼11层4单元1101室 https://paimai.jd.com/103900767\n",
      "结果报告.pdf https://storage.jd.com/auction.gateway/4cb9b94a9fd3a0495459a304e8d2a85720170919095426138.pdf\n"
     ]
    },
    {
     "name": "stderr",
     "output_type": "stream",
     "text": [
      "\r",
      " 79%|███████▉  | 526/665 [31:21<07:08,  3.08s/it]"
     ]
    },
    {
     "name": "stdout",
     "output_type": "stream",
     "text": [
      "【一拍】大兴区兴泰街5号院7号楼13层2单元1306号 https://paimai.jd.com/103845961\n",
      "2017A063大兴区兴泰街5号院7号楼2单元1306号房屋房地产价值评估.pdf https://storage.jd.com/auction.gateway/49e39506281f82ad4cf4d8b26eff38a820170912144902904.pdf\n"
     ]
    },
    {
     "name": "stderr",
     "output_type": "stream",
     "text": [
      "\r",
      " 79%|███████▉  | 527/665 [31:25<07:43,  3.36s/it]"
     ]
    },
    {
     "name": "stdout",
     "output_type": "stream",
     "text": [
      "【一拍】北京市门头沟区永新3号楼1单元101号 https://paimai.jd.com/103845293\n",
      "结果报告-永新小区.pdf https://storage.jd.com/auction.gateway/2db27ec486e3893befdb5713f007929920170912133905490.pdf\n"
     ]
    },
    {
     "name": "stderr",
     "output_type": "stream",
     "text": [
      "\r",
      " 79%|███████▉  | 528/665 [31:29<08:01,  3.51s/it]"
     ]
    },
    {
     "name": "stdout",
     "output_type": "stream",
     "text": [
      "【一拍】北京市大兴区黄村西大街65号兴华中里21号楼10层3单元1003号 https://paimai.jd.com/103845111\n",
      "正文报告.pdf https://storage.jd.com/auction.gateway/71b583759428fb7b9ed0f1bbe9ae3bd420170912131918340.pdf\n"
     ]
    },
    {
     "name": "stderr",
     "output_type": "stream",
     "text": [
      "\r",
      " 80%|███████▉  | 529/665 [31:31<06:49,  3.01s/it]"
     ]
    },
    {
     "name": "stdout",
     "output_type": "stream",
     "text": [
      "【一拍】北京市大兴区康盛园42号楼3-102号 https://paimai.jd.com/103846899\n",
      "康盛园估价报告.doc https://storage.jd.com/auction.gateway/9a7c36194d38e3e0ebf856a60d01032720170912154912770.doc\n"
     ]
    },
    {
     "name": "stderr",
     "output_type": "stream",
     "text": [
      " 80%|███████▉  | 531/665 [31:36<06:03,  2.71s/it]"
     ]
    },
    {
     "name": "stdout",
     "output_type": "stream",
     "text": [
      "【一拍】北京市密云县亚澜湾AC-6号楼（262.98㎡） https://paimai.jd.com/103817227\n",
      "密云县亚澜湾AC-6号楼评估报告.docx https://storage.jd.com/auction.gateway/c246d06d7ecc4c1d3845b56cec5c93fc20171009141402956.docx\n"
     ]
    },
    {
     "name": "stderr",
     "output_type": "stream",
     "text": [
      "\r",
      " 80%|████████  | 532/665 [31:41<08:08,  3.67s/it]"
     ]
    },
    {
     "name": "stdout",
     "output_type": "stream",
     "text": [
      "【一拍】北京市密云县亚澜湾AC-20号楼（262.98㎡） https://paimai.jd.com/103817397\n",
      "密云县亚澜湾AC-20评估报告.docx https://storage.jd.com/auction.gateway/813c6da675bb79aca5b3778d213cdf5920171009140906782.docx\n"
     ]
    },
    {
     "name": "stderr",
     "output_type": "stream",
     "text": [
      "\r",
      " 80%|████████  | 533/665 [31:44<07:36,  3.46s/it]"
     ]
    },
    {
     "name": "stdout",
     "output_type": "stream",
     "text": [
      "【一拍】北京市朝阳区武圣东里20楼2门202号 https://paimai.jd.com/103819135\n",
      "武圣东里20号楼-结果报告.pdf https://storage.jd.com/auction.gateway/099c6496475c8df857543c0760723ca420171009111937967.pdf\n"
     ]
    },
    {
     "name": "stderr",
     "output_type": "stream",
     "text": [
      "\r",
      " 80%|████████  | 534/665 [31:47<06:58,  3.19s/it]"
     ]
    },
    {
     "name": "stdout",
     "output_type": "stream",
     "text": [
      "【一拍】北京市朝阳区西大望路甲20号院12号楼3至5层4单元301 https://paimai.jd.com/103819844\n",
      "【结果报告】2017-1-0360北京市朝阳区西大望路甲20号院12号楼4单元301.pdf https://storage.jd.com/auction.gateway/e0d520f6ae4d49bdbe630af9dac607c820171009112940371.pdf\n"
     ]
    },
    {
     "name": "stderr",
     "output_type": "stream",
     "text": [
      "\r",
      " 80%|████████  | 535/665 [31:50<06:48,  3.14s/it]"
     ]
    },
    {
     "name": "stdout",
     "output_type": "stream",
     "text": [
      "【一拍】北京市朝阳区小营路10号院3号楼6d号房屋 https://paimai.jd.com/103818981\n",
      "朝阳区小营路10号院3号楼6d房屋涉案评估结果报告.doc https://storage.jd.com/auction.gateway/23904e5f8aaf25f4b390368a406e7c4a20171009113940320.doc\n"
     ]
    },
    {
     "name": "stderr",
     "output_type": "stream",
     "text": [
      "\r",
      " 81%|████████  | 536/665 [31:54<07:33,  3.52s/it]"
     ]
    },
    {
     "name": "stdout",
     "output_type": "stream",
     "text": [
      "【一拍】北京市朝阳区百子湾路32号院2号楼19层2座2211号 https://paimai.jd.com/103819578\n",
      "百子湾路结果报告.pdf https://storage.jd.com/auction.gateway/c371ec7507760450ef5e9b590cbf46f720170908154912136.pdf\n"
     ]
    },
    {
     "name": "stderr",
     "output_type": "stream",
     "text": [
      "\r",
      " 81%|████████  | 537/665 [31:57<07:07,  3.34s/it]"
     ]
    },
    {
     "name": "stdout",
     "output_type": "stream",
     "text": [
      "【一拍】北京市朝阳区世纪东方嘉园103号楼5层2-503 https://paimai.jd.com/103819466\n",
      "世纪东方结果报告.doc.pdf https://storage.jd.com/auction.gateway/0474937501efcc1f3c90a535081fbb2820170908153911014.pdf\n"
     ]
    },
    {
     "name": "stderr",
     "output_type": "stream",
     "text": [
      "\r",
      " 81%|████████  | 538/665 [31:59<06:12,  2.93s/it]"
     ]
    },
    {
     "name": "stdout",
     "output_type": "stream",
     "text": [
      "【一拍】北京市朝阳区西大望路甲20号院12号楼-1至2层4单元101号 https://paimai.jd.com/103819893\n",
      "【结果报告】2017-1-0199北京市朝阳区西大望路甲20号院12号楼4单元101.pdf https://storage.jd.com/auction.gateway/f685f413c906bf9d8af84f949529c70920171009112936576.pdf\n"
     ]
    },
    {
     "name": "stderr",
     "output_type": "stream",
     "text": [
      "\r",
      " 81%|████████  | 539/665 [32:02<05:46,  2.75s/it]"
     ]
    },
    {
     "name": "stdout",
     "output_type": "stream",
     "text": [
      "【一拍】北京市海淀区蓝靛厂春荫园7号楼7层1单元7A号房屋 https://paimai.jd.com/103818916\n",
      "海淀区蓝靛厂春荫园7号楼7层1单元7A房屋涉案评估结果报告.doc https://storage.jd.com/auction.gateway/89b60b5c39d102d13869ff91c3056b0820171009113951006.doc\n"
     ]
    },
    {
     "name": "stderr",
     "output_type": "stream",
     "text": [
      "\r",
      " 81%|████████  | 540/665 [32:07<07:31,  3.61s/it]"
     ]
    },
    {
     "name": "stdout",
     "output_type": "stream",
     "text": [
      "【一拍】北京市朝阳区惠新北里17号楼8层1-802号房屋 https://paimai.jd.com/103819679\n",
      "评估报告（惠新北里）.docx https://storage.jd.com/auction.gateway/3eb9af43f4119e26dcb9287d3cbd603120171009113450975.docx\n"
     ]
    },
    {
     "name": "stderr",
     "output_type": "stream",
     "text": [
      "\r",
      " 81%|████████▏ | 541/665 [32:11<07:25,  3.59s/it]"
     ]
    },
    {
     "name": "stdout",
     "output_type": "stream",
     "text": [
      "【二拍】北京市朝阳区建国门外大街24号6门701号房屋 https://paimai.jd.com/104006121\n",
      "评估报告.pdf https://storage.jd.com/auction.gateway/360f7252bcd5fe5e8eda862dfe5aa01020170929184946510.pdf\n"
     ]
    },
    {
     "name": "stderr",
     "output_type": "stream",
     "text": [
      "\r",
      " 82%|████████▏ | 542/665 [32:15<07:41,  3.75s/it]"
     ]
    },
    {
     "name": "stdout",
     "output_type": "stream",
     "text": [
      "【二拍】北京市东城区沙子口路50号1403号（131.49㎡） https://paimai.jd.com/103987962\n",
      "评估报告-北京市东城区沙子口路50号1403.pdf https://storage.jd.com/auction.gateway/bfae47f4e45a98a7bc4d325067e9907a20170927165445697.pdf\n",
      "执行依据.docx https://storage.jd.com/auction.gateway/5e9a0159db57cd08f56d9be79f431e3520170927165445757.docx\n"
     ]
    },
    {
     "name": "stderr",
     "output_type": "stream",
     "text": [
      "\r",
      " 82%|████████▏ | 543/665 [32:19<07:44,  3.81s/it]"
     ]
    },
    {
     "name": "stdout",
     "output_type": "stream",
     "text": [
      "【二拍】北京市海淀区长春桥路5号10楼7层805号（203.49㎡） https://paimai.jd.com/103929407\n",
      "北京市海淀区长春桥5号10号楼7层805号房屋房地产价值评估报告.pdf https://storage.jd.com/auction.gateway/89793eddb5f22cd4e03aaaf89442ecbd20171009140938130.pdf\n"
     ]
    },
    {
     "name": "stderr",
     "output_type": "stream",
     "text": [
      "\r",
      " 82%|████████▏ | 544/665 [32:21<06:30,  3.23s/it]"
     ]
    },
    {
     "name": "stdout",
     "output_type": "stream",
     "text": [
      "【二拍】北京市海淀区长春桥路5号10号楼7层806号（212.92㎡） https://paimai.jd.com/103929444\n",
      "北京市海淀区长春桥5号10号楼7层806号房屋房地产价值评估报告.pdf https://storage.jd.com/auction.gateway/9aa25530f9415248bf618cdf82e9b13620171009140859411.pdf\n"
     ]
    },
    {
     "name": "stderr",
     "output_type": "stream",
     "text": [
      "\r",
      " 82%|████████▏ | 545/665 [32:23<05:44,  2.87s/it]"
     ]
    },
    {
     "name": "stdout",
     "output_type": "stream",
     "text": [
      "【一拍】北京市海淀区香山南路88号36号楼01至03层05号住宅（287.66㎡） https://paimai.jd.com/103769002\n",
      "香山南路88号评估报告.pdf https://storage.jd.com/auction.gateway/ac958de102405e1a161f67d978d3e99920170904102341508.pdf\n"
     ]
    },
    {
     "name": "stderr",
     "output_type": "stream",
     "text": [
      "\r",
      " 82%|████████▏ | 546/665 [32:25<05:03,  2.55s/it]"
     ]
    },
    {
     "name": "stdout",
     "output_type": "stream",
     "text": [
      "【一拍】北京市海淀区西翠路17号院9号楼4-202（192.29㎡） https://paimai.jd.com/103766166\n",
      "北京市海淀区西翠路17号院9号楼4-202号评估报告.doc https://storage.jd.com/auction.gateway/e708d52d7b5ae7eefc486a0322cf797120170901103915684.doc\n"
     ]
    },
    {
     "name": "stderr",
     "output_type": "stream",
     "text": [
      "\r",
      " 82%|████████▏ | 547/665 [32:29<06:00,  3.05s/it]"
     ]
    },
    {
     "name": "stdout",
     "output_type": "stream",
     "text": [
      "【一拍】北京市东城区体育馆路6号楼2层1单元4号 https://paimai.jd.com/103817307\n",
      "体育馆路结果报告.pdf https://storage.jd.com/auction.gateway/44b8c1bd6f5056c551f7e890746931ca20170908110455027.pdf\n",
      "体育馆路裁定.docx https://storage.jd.com/auction.gateway/ad30a17ed47ed39805c1e21f67d42b6c20170908110455060.docx\n"
     ]
    },
    {
     "name": "stderr",
     "output_type": "stream",
     "text": [
      " 83%|████████▎ | 549/665 [32:37<07:10,  3.71s/it]"
     ]
    },
    {
     "name": "stdout",
     "output_type": "stream",
     "text": [
      "【一拍】北京市朝阳区四环中路6号华亭嘉园F座28层3002号住宅一套 https://paimai.jd.com/103794293\n",
      "166报告.pdf https://storage.jd.com/auction.gateway/3e891690c1aa652c3561bcd3c7e61b2820170905092922312.pdf\n"
     ]
    },
    {
     "name": "stderr",
     "output_type": "stream",
     "text": [
      "\r",
      " 83%|████████▎ | 550/665 [32:40<06:25,  3.35s/it]"
     ]
    },
    {
     "name": "stdout",
     "output_type": "stream",
     "text": [
      "【一拍】北京市顺义万万树花园二区147号-1至2层全部房产 https://paimai.jd.com/103762474\n",
      "裁定书.docx https://storage.jd.com/auction.gateway/7638195a0f3e8575945351e7d4660ede20170831154359460.docx\n",
      "（北京）华信（2017）（估）字第00205号北京市顺义区moma万万树花园别墅结果报告终稿.pdf https://storage.jd.com/auction.gateway/be8b43cf4ea7164b8f03d70fe09fc71420170831154359420.pdf\n"
     ]
    },
    {
     "name": "stderr",
     "output_type": "stream",
     "text": [
      "\r",
      " 83%|████████▎ | 551/665 [32:44<06:41,  3.52s/it]"
     ]
    },
    {
     "name": "stdout",
     "output_type": "stream",
     "text": [
      "【一拍】北京市丰台区益辰欣园小区3号楼3幢2层2-202号 https://paimai.jd.com/103752252\n",
      "川诺力达房评字2017第049号[北京市两套住宅市场价值评估项目]-广元市中级人民法院.pdf https://storage.jd.com/auction.gateway/cbae8113417a054108de105883c1bbf320170830112412900.pdf\n"
     ]
    },
    {
     "name": "stderr",
     "output_type": "stream",
     "text": [
      "\r",
      " 83%|████████▎ | 552/665 [32:47<06:24,  3.41s/it]"
     ]
    },
    {
     "name": "stdout",
     "output_type": "stream",
     "text": [
      "【二拍】北京市朝阳区绿岛苑5号楼103号 https://paimai.jd.com/103819576\n",
      "评估报告.pdf https://storage.jd.com/auction.gateway/85ad35886c80e3e32aa14274a0be17ad20170908154912236.pdf\n"
     ]
    },
    {
     "name": "stderr",
     "output_type": "stream",
     "text": [
      " 83%|████████▎ | 554/665 [32:53<06:14,  3.38s/it]"
     ]
    },
    {
     "name": "stdout",
     "output_type": "stream",
     "text": [
      "【二拍】北京市朝阳区慧忠北里416号楼3层3单元303号 https://paimai.jd.com/103819683\n",
      "评估报告.pdf https://storage.jd.com/auction.gateway/ffd6cb64c5cf701ea871006cbce53fa420170908155914861.pdf\n"
     ]
    },
    {
     "name": "stderr",
     "output_type": "stream",
     "text": [
      "\r",
      " 83%|████████▎ | 555/665 [32:56<05:55,  3.24s/it]"
     ]
    },
    {
     "name": "stdout",
     "output_type": "stream",
     "text": [
      "【二拍】北京市海淀区魏公村街1号韦伯豪家园1号楼9层902号房屋（74.20㎡） https://paimai.jd.com/103817495\n",
      "北京市海淀区魏公村街1号韦伯豪家园1号楼九层902号房屋房地产价值评估报告.doc https://storage.jd.com/auction.gateway/6e7f85e00daa68809a573dba11be4b1720170908112350988.doc\n"
     ]
    },
    {
     "name": "stderr",
     "output_type": "stream",
     "text": [
      "\r",
      " 84%|████████▎ | 556/665 [32:58<05:16,  2.91s/it]"
     ]
    },
    {
     "name": "stdout",
     "output_type": "stream",
     "text": [
      "【一拍】北京市海淀区马连洼竹园3号楼2层1门201号 https://paimai.jd.com/103663946\n",
      "马连洼竹园估价结果报告.doc https://storage.jd.com/auction.gateway/d3a8d9bdf447bef96554e8cc4b2627e820170818100828155.doc\n"
     ]
    },
    {
     "name": "stderr",
     "output_type": "stream",
     "text": [
      "\r",
      " 84%|████████▍ | 557/665 [33:01<05:01,  2.79s/it]"
     ]
    },
    {
     "name": "stdout",
     "output_type": "stream",
     "text": [
      "【一拍】北京市海淀区西直门北大街58号1号楼10层10门1101号 https://paimai.jd.com/103648259\n",
      "金晖嘉园住宅报告.pdf https://storage.jd.com/auction.gateway/b6da2f439b8ccb15b8e631978fc2e85120170815151905785.pdf\n",
      "执行裁定书.docx https://storage.jd.com/auction.gateway/867829df860083bbbb26916ce63881bb20170815151905843.docx\n"
     ]
    },
    {
     "name": "stderr",
     "output_type": "stream",
     "text": [
      "\r",
      " 84%|████████▍ | 558/665 [33:06<06:27,  3.62s/it]"
     ]
    },
    {
     "name": "stdout",
     "output_type": "stream",
     "text": [
      "【一拍】北京市朝阳区建国门外大街24号6门701号房屋 https://paimai.jd.com/103660319\n",
      "评估报告.pdf https://storage.jd.com/auction.gateway/360f7252bcd5fe5e8eda862dfe5aa01020170817153408506.pdf\n"
     ]
    },
    {
     "name": "stderr",
     "output_type": "stream",
     "text": [
      " 84%|████████▍ | 560/665 [33:17<07:44,  4.42s/it]"
     ]
    },
    {
     "name": "stdout",
     "output_type": "stream",
     "text": [
      "【一拍】北京市东城区金宝街2号南楼1303号（172.2㎡） https://paimai.jd.com/103588149\n",
      "雅安国际结果报告.pdf https://storage.jd.com/auction.gateway/b1c323a62cb4ae6b52f0d65f878947a820170807171944495.pdf\n",
      "金宝街执行裁定书.docx https://storage.jd.com/auction.gateway/4e1eacca396982d65a6c8707302c75e520170807171944548.docx\n"
     ]
    },
    {
     "name": "stderr",
     "output_type": "stream",
     "text": [
      "\r",
      " 84%|████████▍ | 561/665 [33:22<08:26,  4.87s/it]"
     ]
    },
    {
     "name": "stdout",
     "output_type": "stream",
     "text": [
      "【一拍】北京市石景山区玉泉西里二区7号楼10层2-1001号 https://paimai.jd.com/103589221\n",
      "远洋山水.doc https://storage.jd.com/auction.gateway/fa3542137ab41c60fad352fceb73ede420170810105337950.doc\n",
      "执行裁定书.docx https://storage.jd.com/auction.gateway/dee7e0e95a0d40b57d9848580fa6ae4920170810105337978.docx\n"
     ]
    },
    {
     "name": "stderr",
     "output_type": "stream",
     "text": [
      "\r",
      " 85%|████████▍ | 562/665 [33:27<07:57,  4.63s/it]"
     ]
    },
    {
     "name": "stdout",
     "output_type": "stream",
     "text": [
      "【二拍】北京市海淀区甘家口花园村1号楼3单元2号 https://paimai.jd.com/103665979\n",
      "（北京）华信（2017）（估）字第00013号北京市海淀区甘家口街道花园村1号楼1层3单元2号住宅用途房地产市场价值评估.pdf https://storage.jd.com/auction.gateway/53d4cdf16b047578c5ed55f23ba0a27220170818132355985.pdf\n"
     ]
    },
    {
     "name": "stderr",
     "output_type": "stream",
     "text": [
      "\r",
      " 85%|████████▍ | 563/665 [33:33<08:38,  5.09s/it]"
     ]
    },
    {
     "name": "stdout",
     "output_type": "stream",
     "text": [
      "【一拍】北京市海淀区长春桥路5号10楼7层805号 https://paimai.jd.com/103550977\n",
      "北京市海淀区长春桥5号10号楼7层805号房屋房地产价值评估报告.pdf https://storage.jd.com/auction.gateway/89793eddb5f22cd4e03aaaf89442ecbd20170802112319105.pdf\n"
     ]
    },
    {
     "name": "stderr",
     "output_type": "stream",
     "text": [
      "\r",
      " 85%|████████▍ | 564/665 [33:35<07:03,  4.19s/it]"
     ]
    },
    {
     "name": "stdout",
     "output_type": "stream",
     "text": [
      "【一拍】北京市海淀区长春桥路5号10号楼7层801号 https://paimai.jd.com/103552613\n",
      "北京市海淀区长春桥5号10号楼7层801号房屋房地产价值评估报告.pdf https://storage.jd.com/auction.gateway/8376dcef072c512d61e795e3483999b320170802134819386.pdf\n"
     ]
    },
    {
     "name": "stderr",
     "output_type": "stream",
     "text": [
      "\r",
      " 85%|████████▍ | 565/665 [33:37<05:58,  3.58s/it]"
     ]
    },
    {
     "name": "stdout",
     "output_type": "stream",
     "text": [
      "【一拍】北京市海淀区长春桥路5号10号楼7层806号（212.92㎡） https://paimai.jd.com/103550554\n",
      "北京市海淀区长春桥5号10号楼7层806号房屋房地产价值评估报告.pdf https://storage.jd.com/auction.gateway/9aa25530f9415248bf618cdf82e9b13620170802104816787.pdf\n"
     ]
    },
    {
     "name": "stderr",
     "output_type": "stream",
     "text": [
      "\r",
      " 85%|████████▌ | 566/665 [33:39<05:03,  3.07s/it]"
     ]
    },
    {
     "name": "stdout",
     "output_type": "stream",
     "text": [
      "【一拍】北京市海淀区门头馨园南区5号楼1单元402号（58.5㎡） https://paimai.jd.com/103507193\n",
      "5号楼.pdf https://storage.jd.com/auction.gateway/c934364c313370e843bac8b56429aece20170727131810491.pdf\n"
     ]
    },
    {
     "name": "stderr",
     "output_type": "stream",
     "text": [
      "\r",
      " 85%|████████▌ | 567/665 [33:42<04:56,  3.02s/it]"
     ]
    },
    {
     "name": "stdout",
     "output_type": "stream",
     "text": [
      "【一拍】北京市海淀区魏公村街1号韦伯豪家园1号楼9层902号房屋（74.20㎡） https://paimai.jd.com/103505365\n",
      "北京市海淀区魏公村街1号韦伯豪家园1号楼九层902号房屋房地产价值评估报告.doc https://storage.jd.com/auction.gateway/6e7f85e00daa68809a573dba11be4b1720170727100802931.doc\n"
     ]
    },
    {
     "name": "stderr",
     "output_type": "stream",
     "text": [
      "\r",
      " 85%|████████▌ | 568/665 [33:44<04:22,  2.71s/it]"
     ]
    },
    {
     "name": "stdout",
     "output_type": "stream",
     "text": [
      "【一拍】北京市海淀区门头馨园北区4号楼1单元701号（89.5㎡） https://paimai.jd.com/103507474\n",
      "4号楼701.pdf https://storage.jd.com/auction.gateway/95e7af45a8c27146a1405bcde218e30220170727134310262.pdf\n"
     ]
    },
    {
     "name": "stderr",
     "output_type": "stream",
     "text": [
      "\r",
      " 86%|████████▌ | 569/665 [33:47<04:24,  2.76s/it]"
     ]
    },
    {
     "name": "stdout",
     "output_type": "stream",
     "text": [
      "【一拍】北京市海淀区门头馨园北区4号楼1单元702号（89.5㎡） https://paimai.jd.com/103507589\n",
      "4号楼702.pdf https://storage.jd.com/auction.gateway/fefd96f5e2b8c6062a445801ec955abb20170727135810824.pdf\n"
     ]
    },
    {
     "name": "stderr",
     "output_type": "stream",
     "text": [
      " 86%|████████▌ | 572/665 [34:04<07:47,  5.02s/it]"
     ]
    },
    {
     "name": "stdout",
     "output_type": "stream",
     "text": [
      "【一拍】北京市昌平区南口路30号院一区Ⅰ-67号-1至2层 https://paimai.jd.com/103502982\n",
      "北京市昌平区南口路30号院一区Ⅰ-67号-1至2层全部房地产市场价值评估.pdf https://storage.jd.com/auction.gateway/73cad291fe5b7ee5a0c488d7bdedd66320170726185258925.pdf\n"
     ]
    },
    {
     "name": "stderr",
     "output_type": "stream",
     "text": [
      "\r",
      " 86%|████████▌ | 573/665 [34:06<06:25,  4.19s/it]"
     ]
    },
    {
     "name": "stdout",
     "output_type": "stream",
     "text": [
      "【一拍】北京市朝阳区慧忠北里416号楼3层3单元303号 https://paimai.jd.com/103503372\n",
      "评估报告.pdf https://storage.jd.com/auction.gateway/ffd6cb64c5cf701ea871006cbce53fa420170726195804916.pdf\n"
     ]
    },
    {
     "name": "stderr",
     "output_type": "stream",
     "text": [
      " 86%|████████▋ | 575/665 [34:17<07:33,  5.03s/it]"
     ]
    },
    {
     "name": "stdout",
     "output_type": "stream",
     "text": [
      "【一拍】北京市东城区沙子口路50号1403号（131.49㎡） https://paimai.jd.com/103484876\n",
      "评估报告-北京市东城区沙子口路50号1403.pdf https://storage.jd.com/auction.gateway/bfae47f4e45a98a7bc4d325067e9907a20170724153817593.pdf\n",
      "执行依据.docx https://storage.jd.com/auction.gateway/5e9a0159db57cd08f56d9be79f431e3520170724153817635.docx\n"
     ]
    },
    {
     "name": "stderr",
     "output_type": "stream",
     "text": [
      "\r",
      " 87%|████████▋ | 576/665 [34:22<07:29,  5.05s/it]"
     ]
    },
    {
     "name": "stdout",
     "output_type": "stream",
     "text": [
      "【一拍】北京市朝阳区望京阜荣街15号院（嘉美风尚中心）1号楼16层3单元1602号 https://paimai.jd.com/103503391\n",
      "评估报告.pdf https://storage.jd.com/auction.gateway/d51259c7f865be7f9b4e7b9c970b94bc20170726200325316.pdf\n"
     ]
    },
    {
     "name": "stderr",
     "output_type": "stream",
     "text": [
      "\r",
      " 87%|████████▋ | 577/665 [34:25<06:42,  4.57s/it]"
     ]
    },
    {
     "name": "stdout",
     "output_type": "stream",
     "text": [
      "【一拍】北京市大兴区黄村镇兴政东里18号楼20层2006号房屋 https://paimai.jd.com/103505916\n",
      "2016A109大兴区黄村镇兴政东里18号楼2006号房屋房地产价值评估.pdf https://storage.jd.com/auction.gateway/c8ed6826b04a9ef60bf6282cdef45b5d20170727104954323.pdf\n"
     ]
    },
    {
     "name": "stderr",
     "output_type": "stream",
     "text": [
      "\r",
      " 87%|████████▋ | 578/665 [34:29<06:05,  4.20s/it]"
     ]
    },
    {
     "name": "stdout",
     "output_type": "stream",
     "text": [
      "【一拍】北京市朝阳区兴隆西街8号院3号楼904号 https://paimai.jd.com/103503139\n",
      "2016涉朝阳兴隆西街8号院（美丽亚洲假日花园）结果报告(1).doc https://storage.jd.com/auction.gateway/55c535cf087196792ee6a4596935617420170726191319609.doc\n",
      "2016涉朝阳兴隆西街8号院（美丽亚洲假日花园）结果报告(1).doc https://storage.jd.com/auction.gateway/099fd71a7a52318897e777197f1fc7d920170726191319638.doc\n"
     ]
    },
    {
     "name": "stderr",
     "output_type": "stream",
     "text": [
      " 88%|████████▊ | 583/665 [35:00<08:35,  6.29s/it]"
     ]
    },
    {
     "name": "stdout",
     "output_type": "stream",
     "text": [
      "【一拍】北京市朝阳区绿岛苑5号楼103号 https://paimai.jd.com/103503064\n",
      "评估报告.pdf https://storage.jd.com/auction.gateway/85ad35886c80e3e32aa14274a0be17ad20170726190256028.pdf\n"
     ]
    },
    {
     "name": "stderr",
     "output_type": "stream",
     "text": [
      "\r",
      " 88%|████████▊ | 584/665 [35:02<06:43,  4.98s/it]"
     ]
    },
    {
     "name": "stdout",
     "output_type": "stream",
     "text": [
      "【一拍】北京市朝阳区兴隆西街8号院3号楼903号 https://paimai.jd.com/103503157\n",
      "2016涉朝阳兴隆西街8号院（美丽亚洲假日花园）结果报告(1).doc https://storage.jd.com/auction.gateway/87c616570ae9765eae8fd0b72737e32320170726191833859.doc\n"
     ]
    },
    {
     "name": "stderr",
     "output_type": "stream",
     "text": [
      "\r",
      " 88%|████████▊ | 585/665 [35:07<06:51,  5.14s/it]"
     ]
    },
    {
     "name": "stdout",
     "output_type": "stream",
     "text": [
      "【一拍】北京市大兴区黄村镇长丰园三区15幢4-602号 https://paimai.jd.com/103506201\n",
      "长丰园三区报告.pdf https://storage.jd.com/auction.gateway/d452461d343cd9ccf05ac0a49648555220170727110404954.pdf\n"
     ]
    },
    {
     "name": "stderr",
     "output_type": "stream",
     "text": [
      " 88%|████████▊ | 587/665 [35:17<06:23,  4.91s/it]"
     ]
    },
    {
     "name": "stdout",
     "output_type": "stream",
     "text": [
      "【一拍】丰台区莲花河东侧路1号院4号楼1202号房产 https://paimai.jd.com/103498464\n",
      "丰台区莲花河东侧路1号院4楼12层1202号房屋评估结果报告.pdf https://storage.jd.com/auction.gateway/435a29ac4615a0643787d2a83127606420170726110358816.pdf\n"
     ]
    },
    {
     "name": "stderr",
     "output_type": "stream",
     "text": [
      " 89%|████████▊ | 589/665 [35:26<05:59,  4.73s/it]"
     ]
    },
    {
     "name": "stdout",
     "output_type": "stream",
     "text": [
      "【一拍】北京市大兴区黄村镇香海园8号楼4层2-401号 https://paimai.jd.com/103505367\n",
      "评估报告.pdf https://storage.jd.com/auction.gateway/f6b3533474bb8f6bd720a9ab3316778620170727100824104.pdf\n"
     ]
    },
    {
     "name": "stderr",
     "output_type": "stream",
     "text": [
      "\r",
      " 89%|████████▊ | 590/665 [35:30<05:47,  4.64s/it]"
     ]
    },
    {
     "name": "stdout",
     "output_type": "stream",
     "text": [
      "【一拍】北京市朝阳区拂林园3号楼1001号 https://paimai.jd.com/103503450\n",
      "拂林园估价技术报告 - 副本.pdf https://storage.jd.com/auction.gateway/8ad0da15ed14fb40ea3b3d78491fa75220170726202807520.pdf\n"
     ]
    },
    {
     "name": "stderr",
     "output_type": "stream",
     "text": [
      "\r",
      " 89%|████████▉ | 591/665 [35:35<05:53,  4.78s/it]"
     ]
    },
    {
     "name": "stdout",
     "output_type": "stream",
     "text": [
      "【一拍】北京市海淀区太月园8号楼2210号 https://paimai.jd.com/103503214\n",
      "结果报告（太月园）.doc https://storage.jd.com/auction.gateway/5b0fdefdb258a3ca001f2a2f1a0321eb20170726192831485.doc\n"
     ]
    },
    {
     "name": "stderr",
     "output_type": "stream",
     "text": [
      "100%|██████████| 665/665 [42:52<00:00,  3.87s/it]\n"
     ]
    }
   ],
   "source": [
    "# 用requests下载文件到指定文件夹\n",
    "# 网页上的文件名(report_name)自跟文件类型后缀，所以不用加\n",
    "\n",
    "# if exception happens, run this cell again.\n",
    "# to skip the current entry, run the above cell and then this cell\n",
    "\n",
    "for url in tqdm(url_list[i:]):\n",
    "#for url in ['https://paimai.jd.com/287456648']:\n",
    "    driver.get(url)\n",
    "    title = driver.find_elements(By.CLASS_NAME,'pm-name')  # use ctrl+F to check if the class name is unique\n",
    "    if title:\n",
    "        title = title[0].text\n",
    "        #print(title)\n",
    "        #attachFiles = driver.find_elements(By.CLASS_NAME,'attachFiles')\n",
    "        #if attachFiles:\n",
    "        #    attachFiles = attachFiles[0]\n",
    "        files = driver.find_elements(By.CLASS_NAME,'file')\n",
    "        if files:\n",
    "            print(title,url)\n",
    "            for f in files:\n",
    "                report = f.find_element(By.XPATH,'a[1]')\n",
    "                report_name = report.text\n",
    "                report_url = report.get_attribute('href')\n",
    "                print(report_name,report_url)\n",
    "                entry_path = os.path.join(FOLDER_PATH,title)\n",
    "                os.makedirs(entry_path,exist_ok=True)\n",
    "                download_path = os.path.join(entry_path,report_name)\n",
    "\n",
    "                r = requests.get(report_url)\n",
    "                with open(download_path, 'wb') as file:\n",
    "                    file.write(r.content)\n",
    "    i += 1"
   ]
  },
  {
   "cell_type": "code",
   "execution_count": null,
   "id": "03e82c95",
   "metadata": {},
   "outputs": [],
   "source": []
  }
 ],
 "metadata": {
  "kernelspec": {
   "display_name": "Python 3",
   "language": "python",
   "name": "python3"
  },
  "language_info": {
   "codemirror_mode": {
    "name": "ipython",
    "version": 3
   },
   "file_extension": ".py",
   "mimetype": "text/x-python",
   "name": "python",
   "nbconvert_exporter": "python",
   "pygments_lexer": "ipython3",
   "version": "3.8.8"
  }
 },
 "nbformat": 4,
 "nbformat_minor": 5
}
